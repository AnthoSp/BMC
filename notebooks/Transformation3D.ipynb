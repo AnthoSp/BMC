{
 "cells": [
  {
   "cell_type": "markdown",
   "metadata": {
    "slideshow": {
     "slide_type": "slide"
    }
   },
   "source": [
    "# Rigid-body transformations in three-dimensions\n",
    "\n",
    "> Marcos Duarte, Renato Naville Watanabe  \n",
    "> [Laboratory of Biomechanics and Motor Control](http://pesquisa.ufabc.edu.br/bmclab)  \n",
    "> Federal University of ABC, Brazil"
   ]
  },
  {
   "cell_type": "markdown",
   "metadata": {},
   "source": [
    "<h1>Contents<span class=\"tocSkip\"></span></h1>\n",
    "<br>\n",
    "<div class=\"toc\"><ul class=\"toc-item\"><li><span><a href=\"#Python-setup\" data-toc-modified-id=\"Python-setup-1\"><span class=\"toc-item-num\">1&nbsp;&nbsp;</span>Python setup</a></span></li><li><span><a href=\"#Translation\" data-toc-modified-id=\"Translation-2\"><span class=\"toc-item-num\">2&nbsp;&nbsp;</span>Translation</a></span></li><li><span><a href=\"#Rotation\" data-toc-modified-id=\"Rotation-3\"><span class=\"toc-item-num\">3&nbsp;&nbsp;</span>Rotation</a></span></li><li><span><a href=\"#Euler-angles\" data-toc-modified-id=\"Euler-angles-4\"><span class=\"toc-item-num\">4&nbsp;&nbsp;</span>Euler angles</a></span><ul class=\"toc-item\"><li><span><a href=\"#Elemental-rotations\" data-toc-modified-id=\"Elemental-rotations-4.1\"><span class=\"toc-item-num\">4.1&nbsp;&nbsp;</span>Elemental rotations</a></span></li><li><span><a href=\"#Rotation-around-the-fixed-coordinate-system\" data-toc-modified-id=\"Rotation-around-the-fixed-coordinate-system-4.2\"><span class=\"toc-item-num\">4.2&nbsp;&nbsp;</span>Rotation around the fixed coordinate system</a></span></li><li><span><a href=\"#Rotation-around-the-local-coordinate-system\" data-toc-modified-id=\"Rotation-around-the-local-coordinate-system-4.3\"><span class=\"toc-item-num\">4.3&nbsp;&nbsp;</span>Rotation around the local coordinate system</a></span></li><li><span><a href=\"#Sequence-of-elemental-rotations\" data-toc-modified-id=\"Sequence-of-elemental-rotations-4.4\"><span class=\"toc-item-num\">4.4&nbsp;&nbsp;</span>Sequence of elemental rotations</a></span></li><li><span><a href=\"#Rotations-in-a-coordinate-system-is-equivalent-to-minus-rotations-in-the-other-coordinate-system\" data-toc-modified-id=\"Rotations-in-a-coordinate-system-is-equivalent-to-minus-rotations-in-the-other-coordinate-system-4.5\"><span class=\"toc-item-num\">4.5&nbsp;&nbsp;</span>Rotations in a coordinate system is equivalent to minus rotations in the other coordinate system</a></span></li><li><span><a href=\"#Rotations-in-a-coordinate-system-is-the-transpose-of-inverse-order-of-rotations-in-the-other-coordinate-system\" data-toc-modified-id=\"Rotations-in-a-coordinate-system-is-the-transpose-of-inverse-order-of-rotations-in-the-other-coordinate-system-4.6\"><span class=\"toc-item-num\">4.6&nbsp;&nbsp;</span>Rotations in a coordinate system is the transpose of inverse order of rotations in the other coordinate system</a></span></li><li><span><a href=\"#Sequence-of-rotations-of-a-Vector\" data-toc-modified-id=\"Sequence-of-rotations-of-a-Vector-4.7\"><span class=\"toc-item-num\">4.7&nbsp;&nbsp;</span>Sequence of rotations of a Vector</a></span></li><li><span><a href=\"#The-12-different-sequences-of-Euler-angles\" data-toc-modified-id=\"The-12-different-sequences-of-Euler-angles-4.8\"><span class=\"toc-item-num\">4.8&nbsp;&nbsp;</span>The 12 different sequences of Euler angles</a></span></li><li><span><a href=\"#Line-of-nodes\" data-toc-modified-id=\"Line-of-nodes-4.9\"><span class=\"toc-item-num\">4.9&nbsp;&nbsp;</span>Line of nodes</a></span></li></ul></li><li><span><a href=\"#Determination-of-the-Euler-angles\" data-toc-modified-id=\"Determination-of-the-Euler-angles-5\"><span class=\"toc-item-num\">5&nbsp;&nbsp;</span>Determination of the Euler angles</a></span><ul class=\"toc-item\"><li><span><a href=\"#Gimbal-lock\" data-toc-modified-id=\"Gimbal-lock-5.1\"><span class=\"toc-item-num\">5.1&nbsp;&nbsp;</span>Gimbal lock</a></span></li></ul></li><li><span><a href=\"#Determination-of-the-rotation-matrix\" data-toc-modified-id=\"Determination-of-the-rotation-matrix-6\"><span class=\"toc-item-num\">6&nbsp;&nbsp;</span>Determination of the rotation matrix</a></span><ul class=\"toc-item\"><li><span><a href=\"#Basis\" data-toc-modified-id=\"Basis-6.1\"><span class=\"toc-item-num\">6.1&nbsp;&nbsp;</span>Basis</a></span></li></ul></li><li><span><a href=\"#Determination-of-the-rotation-matrix-between-two-local-coordinate-systems\" data-toc-modified-id=\"Determination-of-the-rotation-matrix-between-two-local-coordinate-systems-7\"><span class=\"toc-item-num\">7&nbsp;&nbsp;</span>Determination of the rotation matrix between two local coordinate systems</a></span></li><li><span><a href=\"#Translation-and-Rotation\" data-toc-modified-id=\"Translation-and-Rotation-8\"><span class=\"toc-item-num\">8&nbsp;&nbsp;</span>Translation and Rotation</a></span><ul class=\"toc-item\"><li><span><a href=\"#Transformation-matrix\" data-toc-modified-id=\"Transformation-matrix-8.1\"><span class=\"toc-item-num\">8.1&nbsp;&nbsp;</span>Transformation matrix</a></span></li><li><span><a href=\"#Example-with-actual-motion-analysis-data\" data-toc-modified-id=\"Example-with-actual-motion-analysis-data-8.2\"><span class=\"toc-item-num\">8.2&nbsp;&nbsp;</span>Example with actual motion analysis data</a></span></li></ul></li><li><span><a href=\"#Futher-reading\" data-toc-modified-id=\"Futher-reading-9\"><span class=\"toc-item-num\">9&nbsp;&nbsp;</span>Futher reading</a></span></li><li><span><a href=\"#Video-lectures-on-the-Internet\" data-toc-modified-id=\"Video-lectures-on-the-Internet-10\"><span class=\"toc-item-num\">10&nbsp;&nbsp;</span>Video lectures on the Internet</a></span></li><li><span><a href=\"#Problems\" data-toc-modified-id=\"Problems-11\"><span class=\"toc-item-num\">11&nbsp;&nbsp;</span>Problems</a></span></li><li><span><a href=\"#References\" data-toc-modified-id=\"References-12\"><span class=\"toc-item-num\">12&nbsp;&nbsp;</span>References</a></span></li></div>"
   ]
  },
  {
   "cell_type": "markdown",
   "metadata": {
    "slideshow": {
     "slide_type": "skip"
    }
   },
   "source": [
    "The kinematics of a rigid body is completely described by its pose, i.e., its position and orientation in space (and the corresponding changes, translation and rotation). In a three-dimensional space, at least three coordinates and three angles are necessary to describe the pose of the rigid body, totalizing six degrees of freedom for a rigid body.\n",
    "\n",
    "In motion analysis, to describe a translation and rotation of a rigid body with respect to a coordinate system, typically we attach another coordinate system to the rigid body and determine a transformation between these two coordinate systems.\n",
    "\n",
    "A transformation is any function mapping a set to another set. For the description of the kinematics of rigid bodies, we are interested only in what is called rigid or Euclidean transformations (denoted as SE(3) for the three-dimensional space) because they preserve the distance between every pair of points of the body (which is considered rigid by definition). Translations and rotations are examples of rigid transformations (a reflection is also an example of rigid transformation but this changes the right-hand axis convention to a left hand, which usually is not of interest). In turn, rigid transformations are examples of [affine transformations](https://en.wikipedia.org/wiki/Affine_transformation). Examples of other affine transformations are shear and scaling transformations (which preserves angles but not lengths). \n",
    "\n",
    "We will follow the same rationale as in the notebook [Rigid-body transformations in a plane (2D)](http://nbviewer.ipython.org/github/BMClab/bmc/blob/master/notebooks/Transformation2D.ipynb) and we will skip the fundamental concepts already covered there. So, you if haven't done yet, you should read that notebook before continuing here."
   ]
  },
  {
   "cell_type": "markdown",
   "metadata": {
    "slideshow": {
     "slide_type": "slide"
    }
   },
   "source": [
    "## Python setup"
   ]
  },
  {
   "cell_type": "code",
   "execution_count": 1,
   "metadata": {
    "ExecuteTime": {
     "end_time": "2020-11-17T00:32:05.868772Z",
     "start_time": "2020-11-17T00:32:05.866146Z"
    },
    "slideshow": {
     "slide_type": "slide"
    }
   },
   "outputs": [],
   "source": [
    "# Import the necessary libraries\n",
    "import numpy as np\n",
    "# suppress scientific notation for small numbers:\n",
    "np.set_printoptions(precision=4, suppress=True)"
   ]
  },
  {
   "cell_type": "markdown",
   "metadata": {
    "slideshow": {
     "slide_type": "slide"
    }
   },
   "source": [
    "## Translation\n",
    "\n",
    "A pure three-dimensional translation of a rigid body (or a coordinate system attached to it) in relation to other rigid body (with other coordinate system) is illustrated in the figure below.  \n",
    "<br>\n",
    "<figure><img src='./../images/translation3D.png' alt='translation 3D'/> <figcaption><center><i>Figure. A point in three-dimensional space represented in two coordinate systems, with one coordinate system translated.</i></center></figcaption> </figure>\n",
    "\n",
    "The position of point $\\mathbf{P}$ originally described in the $xyz$ (local) coordinate system but now described in the $\\mathbf{XYZ}$ (Global) coordinate system in vector form is:\n",
    "\n",
    "$$ \\mathbf{P_G} = \\mathbf{L_G} + \\mathbf{P_l} $$\n",
    "\n",
    "Or in terms of its components:\n",
    "\n",
    "<span class=\"notranslate\">\n",
    "\\begin{equation}\n",
    "\\begin{array}{}\n",
    "\\mathbf{P_X} =& \\mathbf{L_X} + \\mathbf{P}_x \\\\\n",
    "\\mathbf{P_Y} =& \\mathbf{L_Y} + \\mathbf{P}_y \\\\\n",
    "\\mathbf{P_Z} =& \\mathbf{L_Z} + \\mathbf{P}_z \n",
    "\\end{array}\n",
    "\\end{equation}\n",
    "</span>\n",
    "\n",
    "And in matrix form:\n",
    "\n",
    "<span class=\"notranslate\">\n",
    "\\begin{equation}\n",
    "\\begin{bmatrix}\n",
    "\\mathbf{P_X} \\\\\n",
    "\\mathbf{P_Y} \\\\\n",
    "\\mathbf{P_Z} \n",
    "\\end{bmatrix} =\n",
    "\\begin{bmatrix}\n",
    "\\mathbf{L_X} \\\\\n",
    "\\mathbf{L_Y} \\\\\n",
    "\\mathbf{L_Z} \n",
    "\\end{bmatrix} +\n",
    "\\begin{bmatrix}\n",
    "\\mathbf{P}_x \\\\\n",
    "\\mathbf{P}_y \\\\\n",
    "\\mathbf{P}_z \n",
    "\\end{bmatrix}\n",
    "\\end{equation}\n",
    "</span>\n",
    "\n",
    "From classical mechanics, this is an example of [Galilean transformation](http://en.wikipedia.org/wiki/Galilean_transformation).   \n",
    "\n",
    "Let's use Python to compute some numeric examples:"
   ]
  },
  {
   "cell_type": "markdown",
   "metadata": {
    "slideshow": {
     "slide_type": "fragment"
    }
   },
   "source": [
    "For example, if the local coordinate system is translated by $\\mathbf{L_G}=[1, 2, 3]$ in relation to the Global coordinate system, a point with coordinates $\\mathbf{P_l}=[4, 5, 6]$ at the local coordinate system will have the position $\\mathbf{P_G}=[5, 7, 9]$ at the Global coordinate system:"
   ]
  },
  {
   "cell_type": "code",
   "execution_count": 2,
   "metadata": {
    "ExecuteTime": {
     "end_time": "2020-11-17T00:32:05.881568Z",
     "start_time": "2020-11-17T00:32:05.873919Z"
    },
    "slideshow": {
     "slide_type": "fragment"
    }
   },
   "outputs": [
    {
     "data": {
      "text/plain": [
       "array([5, 7, 9])"
      ]
     },
     "execution_count": 2,
     "metadata": {},
     "output_type": "execute_result"
    }
   ],
   "source": [
    "LG = np.array([1, 2, 3])  # Numpy array\n",
    "Pl = np.array([4, 5, 6])\n",
    "PG = LG + Pl\n",
    "PG"
   ]
  },
  {
   "cell_type": "markdown",
   "metadata": {
    "slideshow": {
     "slide_type": "fragment"
    }
   },
   "source": [
    "This operation also works if we have more than one point (NumPy try to guess how to handle vectors with different dimensions):"
   ]
  },
  {
   "cell_type": "code",
   "execution_count": 3,
   "metadata": {
    "ExecuteTime": {
     "end_time": "2020-11-17T00:32:05.886034Z",
     "start_time": "2020-11-17T00:32:05.882956Z"
    },
    "slideshow": {
     "slide_type": "fragment"
    }
   },
   "outputs": [
    {
     "data": {
      "text/plain": [
       "array([[ 2,  4,  6],\n",
       "       [ 5,  7,  9],\n",
       "       [ 8, 10, 12]])"
      ]
     },
     "execution_count": 3,
     "metadata": {},
     "output_type": "execute_result"
    }
   ],
   "source": [
    "Pl = np.array([[1, 2, 3], [4, 5, 6], [7, 8, 9]])  # 2D array with 3 rows and 2 columns\n",
    "PG = LG + Pl\n",
    "PG"
   ]
  },
  {
   "cell_type": "markdown",
   "metadata": {
    "slideshow": {
     "slide_type": "slide"
    }
   },
   "source": [
    "## Rotation\n",
    "\n",
    "A pure three-dimensional rotation of a $xyz$ (local) coordinate system in relation to other $\\mathbf{XYZ}$ (Global) coordinate system and the position of a point in these two coordinate systems are illustrated in the next figure (remember that this is equivalent to describing a rotation between two rigid bodies).  \n",
    "<br>\n",
    "<figure><img src='./../images/rotation3D.png' alt='rotation 3D'/> <figcaption><center><i>A point in three-dimensional space represented in two coordinate systems, with one system rotated.</i></center></figcaption> </figure>\n",
    "\n",
    "In analogy to the rotation in two dimensions, we can calculate the rotation matrix that describes the rotation of the $xyz$ (local) coordinate system in relation to the $\\mathbf{XYZ}$ (Global) coordinate system using the direction cosines between the axes of the two coordinate systems:\n",
    "\n",
    "<span class=\"notranslate\">\n",
    "\\begin{equation}\n",
    "\\mathbf{R_{Gl}} = \\begin{bmatrix}\n",
    "\\cos\\mathbf{X}x & \\cos\\mathbf{X}y & \\cos\\mathbf{X}z \\\\\n",
    "\\cos\\mathbf{Y}x & \\cos\\mathbf{Y}y & \\cos\\mathbf{Y}z \\\\\n",
    "\\cos\\mathbf{Z}x & \\cos\\mathbf{Z}y & \\cos\\mathbf{Z}z\n",
    "\\end{bmatrix}\n",
    "\\end{equation}\n",
    "</span>\n",
    "\n",
    "Note however that for rotations around more than one axis, these angles will not lie in the main planes ($\\mathbf{XY, YZ, ZX}$) of the $\\mathbf{XYZ}$ coordinate system, as illustrated in the figure below for the direction angles of the $y$ axis only. Thus, the determination of these angles by simple inspection, as we have done for the two-dimensional case, would not be simple.  \n",
    "<br>\n",
    "<figure>\n",
    "<img src='./../images/directioncosine3D.png' width=260 alt='direction angles 3D'/> <figcaption><center><i>Figure. Definition of direction angles for the $y$ axis of the local coordinate system in relation to the $\\mathbf{XYZ}$ Global coordinate system.</i></center></figcaption>\n",
    "</figure>\n",
    "\n",
    "Note that the nine angles shown in the matrix above for the direction cosines are obviously redundant since only three angles are necessary to describe the orientation of a rigid body in the three-dimensional space. \n",
    "\n",
    "An important characteristic of angles in the three-dimensional space is that angles cannot be treated as vectors: the result of a sequence of rotations of a rigid body around different axes depends on the order of the rotations, as illustrated in the next figure.  \n",
    "<br>\n",
    "<figure>\n",
    "<img src='./../images/rotationsseqs2.png' alt='rotations'/><figcaption><i>Figure. The result of a sequence of rotations around different axes of a coordinate system depends on the order of the rotations. In the first example (first row), the rotations are around a Global (fixed) coordinate system. In the second example (second row), the rotations are around a local (rotating) coordinate system.</i></figcaption>\n",
    "</figure>\n",
    "\n",
    "Let's focus now on how to understand rotations in the three-dimensional space, looking at the rotations between coordinate systems (or between rigid bodies). Later we will apply what we have learned to describe the position of a point in these different coordinate systems."
   ]
  },
  {
   "cell_type": "markdown",
   "metadata": {
    "slideshow": {
     "slide_type": "slide"
    }
   },
   "source": [
    "### Euler angles\n",
    "\n",
    "There are different ways to describe a three-dimensional rotation of a rigid body (or of a coordinate system). The most straightforward solution would probably be to use a [spherical coordinate system](http://nbviewer.ipython.org/github/demotu/BMC/blob/master/notebooks/ReferenceFrame.ipynb#Spherical-coordinate-system), but spherical coordinates would be difficult to give an anatomical or clinical interpretation. A solution that has been often employed in biomechanics to handle rotations in the three-dimensional space is to use Euler angles. Under certain conditions, Euler angles can have an anatomical interpretation, but this representation also has some caveats. Let's see the Euler angles now.\n",
    "\n",
    "[Leonhard Euler](https://en.wikipedia.org/wiki/Leonhard_Euler) in the XVIII century showed that two three-dimensional coordinate systems with a common origin can be related by a sequence of up to three elemental rotations about the axes of the local coordinate system, where no two successive rotations may be about the same axis, which now are known as [Euler (or Eulerian) angles](http://en.wikipedia.org/wiki/Euler_angles).   "
   ]
  },
  {
   "cell_type": "markdown",
   "metadata": {
    "slideshow": {
     "slide_type": "slide"
    }
   },
   "source": [
    "### Elemental rotations\n",
    "\n",
    "First, let's see rotations around a fixed Global coordinate system as we did for the two-dimensional case. The next figure illustrates elemental rotations of the local coordinate system around each axis of the fixed Global coordinate system.  \n",
    "<br>\n",
    "<figure>\n",
    "<img src='./../images/rotations.png' alt='rotations'/> <figcaption><center><i>Figure. Elemental rotations of the $xyz$ coordinate system around each axis, $\\mathbf{X}$, $\\mathbf{Y}$, and $\\mathbf{Z}$, of the fixed $\\mathbf{XYZ}$ coordinate system. Note that for better clarity, the axis around where the rotation occurs is shown perpendicular to this page for each elemental rotation.</i></center></figcaption>\n",
    "</figure>"
   ]
  },
  {
   "cell_type": "markdown",
   "metadata": {
    "slideshow": {
     "slide_type": "slide"
    }
   },
   "source": [
    "### Rotations around the fixed coordinate system\n",
    "\n",
    "The rotation matrices for the elemental rotations around each axis of the fixed $\\mathbf{XYZ}$ coordinate system (rotations of the local coordinate system in relation to the Global coordinate system) are shown next.\n",
    "\n",
    "Around $\\mathbf{X}$ axis: \n",
    "\n",
    "<span class=\"notranslate\">\n",
    "\\begin{equation}\n",
    "\\mathbf{R_{Gl,\\,X}} = \n",
    "\\begin{bmatrix}\n",
    "1 & 0 & 0 \\\\\n",
    "0 & \\cos\\alpha & -\\sin\\alpha \\\\\n",
    "0 & \\sin\\alpha & \\cos\\alpha\n",
    "\\end{bmatrix}\n",
    "\\end{equation}\n",
    "</span>\n",
    "\n",
    "Around $\\mathbf{Y}$ axis: \n",
    "\n",
    "<span class=\"notranslate\">\n",
    "\\begin{equation}\n",
    "\\mathbf{R_{Gl,\\,Y}} = \n",
    "\\begin{bmatrix}\n",
    "\\cos\\beta & 0 & \\sin\\beta \\\\\n",
    "0 & 1 & 0 \\\\\n",
    "-\\sin\\beta & 0 & \\cos\\beta\n",
    "\\end{bmatrix}\n",
    "\\end{equation}\n",
    "</span>\n",
    "\n",
    "Around $\\mathbf{Z}$ axis: \n",
    "\n",
    "<span class=\"notranslate\">\n",
    "\\begin{equation}\n",
    "\\mathbf{R_{Gl,\\,Z}} = \n",
    "\\begin{bmatrix}\n",
    "\\cos\\gamma & -\\sin\\gamma & 0\\\\\n",
    "\\sin\\gamma & \\cos\\gamma & 0 \\\\\n",
    "0 & 0 & 1\n",
    "\\end{bmatrix}\n",
    "\\end{equation}\n",
    "</span>\n",
    "\n",
    "These matrices are the rotation matrices for the case of two-dimensional coordinate systems plus the corresponding terms for the third axes of the local and Global coordinate systems, which are parallel.   \n",
    "To understand why the terms for the third axes are 1's or 0's, for instance, remember they represent the cosine directors. The cosines between $\\mathbf{X}x$, $\\mathbf{Y}y$, and $\\mathbf{Z}z$ for the elemental rotations around respectively the $\\mathbf{X}$, $\\mathbf{Y}$, and $\\mathbf{Z}$ axes are all 1 because $\\mathbf{X}x$, $\\mathbf{Y}y$, and $\\mathbf{Z}z$ are parallel <span class=\"notranslate\">($\\cos 0^o$)</span>. The cosines of the other elements are zero because the axis around where each rotation occurs is perpendicular to the other axes of the coordinate systems <span class=\"notranslate\">($\\cos 90^o$)</span>."
   ]
  },
  {
   "cell_type": "markdown",
   "metadata": {
    "slideshow": {
     "slide_type": "slide"
    }
   },
   "source": [
    "### Rotations around the local coordinate system\n",
    "\n",
    "The rotation matrices for the elemental rotations this time around each axis of the $xyz$ coordinate system (rotations of the Global coordinate system in relation to the local coordinate system), similarly to the two-dimensional case, are simply the transpose of the above matrices as shown next.\n",
    "\n",
    "Around $x$ axis: \n",
    "\n",
    "<span class=\"notranslate\">\n",
    "\\begin{equation}\n",
    "\\mathbf{R}_{\\mathbf{lG},\\,x} = \n",
    "\\begin{bmatrix}\n",
    "1 & 0 & 0 \\\\\n",
    "0 & \\cos\\alpha & \\sin\\alpha \\\\\n",
    "0 & -\\sin\\alpha & \\cos\\alpha\n",
    "\\end{bmatrix}\n",
    "\\end{equation}\n",
    "</span>\n",
    "\n",
    "Around $y$ axis: \n",
    "\n",
    "<span class=\"notranslate\">\n",
    "\\begin{equation}\n",
    "\\mathbf{R}_{\\mathbf{lG},\\,y} = \n",
    "\\begin{bmatrix}\n",
    "\\cos\\beta & 0 & -\\sin\\beta \\\\\n",
    "0 & 1 & 0 \\\\\n",
    "\\sin\\beta & 0 & \\cos\\beta\n",
    "\\end{bmatrix}\n",
    "\\end{equation}\n",
    "</span>\n",
    "\n",
    "Around $z$ axis: \n",
    "\n",
    "<span class=\"notranslate\">\n",
    "\\begin{equation}\n",
    "\\mathbf{R}_{\\mathbf{lG},\\,z} = \n",
    "\\begin{bmatrix}\n",
    "\\cos\\gamma & \\sin\\gamma & 0\\\\\n",
    "-\\sin\\gamma & \\cos\\gamma & 0 \\\\\n",
    "0 & 0 & 1\n",
    "\\end{bmatrix}\n",
    "\\end{equation}\n",
    "</span>\n",
    "\n",
    "Notice this is equivalent to instead of rotating the local coordinate system by $\\alpha, \\beta, \\gamma$ in relation to axes of the Global coordinate system, to rotate the Global coordinate system by $-\\alpha, -\\beta, -\\gamma$ in relation to the axes of the local coordinate system; remember that <span class=\"notranslate\">\n",
    "$\\cos(-\\:\\cdot)=\\cos(\\cdot)$</span> and <span class=\"notranslate\">$\\sin(-\\:\\cdot)=-\\sin(\\cdot)$</span>.\n",
    "\n"
   ]
  },
  {
   "cell_type": "markdown",
   "metadata": {
    "slideshow": {
     "slide_type": "slide"
    }
   },
   "source": [
    "### Sequence of elemental rotations\n",
    "\n",
    "Consider now a sequence of elemental rotations around the $\\mathbf{X}$, $\\mathbf{Y}$, and $\\mathbf{Z}$ axes of the fixed $\\mathbf{XYZ}$ coordinate system illustrated in the next figure.  \n",
    "<br>\n",
    "<figure><img src='./../images/rotations_XYZ.png' alt='rotations'/> <figcaption><center><i>Figure. Sequence of elemental rotations of the $xyz$ coordinate system around each axis, $\\mathbf{X}$, $\\mathbf{Y}$, $\\mathbf{Z}$, of the fixed $\\mathbf{XYZ}$ coordinate system.</i></center></figcaption> </figure>\n",
    "\n",
    "This sequence of elemental rotations (each one of the local coordinate system with respect to the fixed Global coordinate system) is mathematically represented by a multiplication between the rotation matrices:\n",
    "\n",
    "<span class=\"notranslate\">\n",
    "\\begin{equation}\n",
    "\\begin{array}{l l}\n",
    "\\mathbf{R_{Gl,\\;XYZ}} & = \\mathbf{R_{Z}} \\mathbf{R_{Y}} \\mathbf{R_{X}} \\\\\n",
    "\\\\ \n",
    "& = \\begin{bmatrix}\n",
    "\\cos\\gamma & -\\sin\\gamma & 0\\\\\n",
    "\\sin\\gamma & \\cos\\gamma & 0 \\\\\n",
    "0 & 0 & 1\n",
    "\\end{bmatrix}\n",
    "\\begin{bmatrix}\n",
    "\\cos\\beta & 0 & \\sin\\beta \\\\\n",
    "0 & 1 & 0 \\\\\n",
    "-\\sin\\beta & 0 & \\cos\\beta\n",
    "\\end{bmatrix}\n",
    "\\begin{bmatrix}\n",
    "1 & 0 & 0 \\\\\n",
    "0 & \\cos\\alpha & -\\sin\\alpha \\\\\n",
    "0 & \\sin\\alpha & \\cos\\alpha\n",
    "\\end{bmatrix} \\\\\n",
    "\\\\ \n",
    "& =\n",
    "\\begin{bmatrix}\n",
    "\\cos\\beta\\:\\cos\\gamma \\;&\\;\n",
    "\\sin\\alpha\\:\\sin\\beta\\:\\cos\\gamma-\\cos\\alpha\\:\\sin\\gamma \\;&\\;\n",
    "\\cos\\alpha\\:\\sin\\beta\\:cos\\gamma+\\sin\\alpha\\:\\sin\\gamma \\;\\;\\; \\\\\n",
    "\\cos\\beta\\:\\sin\\gamma \\;&\\;\n",
    "\\sin\\alpha\\:\\sin\\beta\\:\\sin\\gamma+\\cos\\alpha\\:\\cos\\gamma \\;&\\;\n",
    "\\cos\\alpha\\:\\sin\\beta\\:\\sin\\gamma-\\sin\\alpha\\:\\cos\\gamma \\;\\;\\;  \\\\\n",
    "-\\sin\\beta \\;&\\; \\sin\\alpha\\:\\cos\\beta \\;&\\; \\cos\\alpha\\:\\cos\\beta \\;\\;\\;\n",
    "\\end{bmatrix} \n",
    "\\end{array}\n",
    "\\end{equation}\n",
    "</span>\n",
    "\n",
    "Note the order of the matrices.   \n",
    "\n",
    "We can check this matrix multiplication using [Sympy](http://sympy.org/en/index.html):"
   ]
  },
  {
   "cell_type": "code",
   "execution_count": 4,
   "metadata": {
    "ExecuteTime": {
     "end_time": "2020-11-17T00:32:06.299425Z",
     "start_time": "2020-11-17T00:32:05.891030Z"
    },
    "slideshow": {
     "slide_type": "fragment"
    }
   },
   "outputs": [
    {
     "data": {
      "text/latex": [
       "$\\displaystyle \\mathbf{R_{Gl,\\,XYZ}}=\\left[\\begin{matrix}\\cos{\\left(\\beta \\right)} \\cos{\\left(\\gamma \\right)} & \\sin{\\left(\\alpha \\right)} \\sin{\\left(\\beta \\right)} \\cos{\\left(\\gamma \\right)} - \\sin{\\left(\\gamma \\right)} \\cos{\\left(\\alpha \\right)} & \\sin{\\left(\\alpha \\right)} \\sin{\\left(\\gamma \\right)} + \\sin{\\left(\\beta \\right)} \\cos{\\left(\\alpha \\right)} \\cos{\\left(\\gamma \\right)}\\\\\\sin{\\left(\\gamma \\right)} \\cos{\\left(\\beta \\right)} & \\sin{\\left(\\alpha \\right)} \\sin{\\left(\\beta \\right)} \\sin{\\left(\\gamma \\right)} + \\cos{\\left(\\alpha \\right)} \\cos{\\left(\\gamma \\right)} & - \\sin{\\left(\\alpha \\right)} \\cos{\\left(\\gamma \\right)} + \\sin{\\left(\\beta \\right)} \\sin{\\left(\\gamma \\right)} \\cos{\\left(\\alpha \\right)}\\\\- \\sin{\\left(\\beta \\right)} & \\sin{\\left(\\alpha \\right)} \\cos{\\left(\\beta \\right)} & \\cos{\\left(\\alpha \\right)} \\cos{\\left(\\beta \\right)}\\end{matrix}\\right]$"
      ],
      "text/plain": [
       "<IPython.core.display.Math object>"
      ]
     },
     "metadata": {},
     "output_type": "display_data"
    }
   ],
   "source": [
    "#import the necessary libraries\n",
    "from IPython.core.display import Math, display\n",
    "import sympy as sym\n",
    "cos, sin = sym.cos, sym.sin\n",
    "\n",
    "a, b, g = sym.symbols('alpha, beta, gamma')\n",
    "\n",
    "# Elemental rotation matrices of xyz in relation to XYZ:\n",
    "RX = sym.Matrix([[1, 0, 0], [0, cos(a), -sin(a)], [0, sin(a), cos(a)]])\n",
    "RY = sym.Matrix([[cos(b), 0, sin(b)], [0, 1, 0], [-sin(b), 0, cos(b)]])\n",
    "RZ = sym.Matrix([[cos(g), -sin(g), 0], [sin(g), cos(g), 0], [0, 0, 1]])\n",
    "\n",
    "# Rotation matrix of xyz in relation to XYZ:\n",
    "RXYZ = RZ*RY*RX\n",
    "\n",
    "display(Math(sym.latex(r'\\mathbf{R_{Gl,\\,XYZ}}=') + sym.latex(RXYZ, mat_str='matrix')))"
   ]
  },
  {
   "cell_type": "markdown",
   "metadata": {
    "slideshow": {
     "slide_type": "fragment"
    }
   },
   "source": [
    "For instance, we can calculate the numerical rotation matrix for these sequential elemental rotations by $90^o$ around $\\mathbf{X,Y,Z}$:"
   ]
  },
  {
   "cell_type": "code",
   "execution_count": 5,
   "metadata": {
    "ExecuteTime": {
     "end_time": "2020-11-17T00:32:06.308713Z",
     "start_time": "2020-11-17T00:32:06.300665Z"
    },
    "slideshow": {
     "slide_type": "fragment"
    }
   },
   "outputs": [
    {
     "data": {
      "text/latex": [
       "$\\displaystyle \\mathbf{R_{Gl,\\,XYZ\\,}}(90^o, 90^o, 90^o) =\\left[\\begin{matrix}0.000 & 0.000 & 1.000\\\\0.000 & 1.000 & 0.000\\\\-1.000 & 0.000 & 0.000\\end{matrix}\\right]$"
      ],
      "text/plain": [
       "<IPython.core.display.Math object>"
      ]
     },
     "metadata": {},
     "output_type": "display_data"
    }
   ],
   "source": [
    "R = sym.lambdify((a, b, g), RXYZ, 'numpy')\n",
    "R = R(np.pi/2, np.pi/2, np.pi/2)\n",
    "display(Math(r'\\mathbf{R_{Gl,\\,XYZ\\,}}(90^o, 90^o, 90^o) =' + \\\n",
    "             sym.latex(sym.Matrix(R).applyfunc(lambda x: sym.Symbol('{:.3f}'.format(x))))))"
   ]
  },
  {
   "cell_type": "markdown",
   "metadata": {
    "slideshow": {
     "slide_type": "slide"
    }
   },
   "source": [
    "Below you can test any sequence of rotation around the global coordinates. Just change the matrix R, and the angles of the variables $\\alpha$, $\\beta$ and $\\gamma$. In the example below is the rotation around the global basis, in the sequence x,y,z, with the angles $\\alpha=\\pi/3$ rad, $\\beta=\\pi/4$ rad and $\\gamma=\\pi/6$ rad."
   ]
  },
  {
   "cell_type": "code",
   "execution_count": 6,
   "metadata": {
    "ExecuteTime": {
     "end_time": "2020-11-17T00:32:06.489969Z",
     "start_time": "2020-11-17T00:32:06.312506Z"
    },
    "slideshow": {
     "slide_type": "fragment"
    }
   },
   "outputs": [
    {
     "data": {
      "application/javascript": [
       "/* Put everything inside the global mpl namespace */\n",
       "/* global mpl */\n",
       "window.mpl = {};\n",
       "\n",
       "mpl.get_websocket_type = function () {\n",
       "    if (typeof WebSocket !== 'undefined') {\n",
       "        return WebSocket;\n",
       "    } else if (typeof MozWebSocket !== 'undefined') {\n",
       "        return MozWebSocket;\n",
       "    } else {\n",
       "        alert(\n",
       "            'Your browser does not have WebSocket support. ' +\n",
       "                'Please try Chrome, Safari or Firefox ≥ 6. ' +\n",
       "                'Firefox 4 and 5 are also supported but you ' +\n",
       "                'have to enable WebSockets in about:config.'\n",
       "        );\n",
       "    }\n",
       "};\n",
       "\n",
       "mpl.figure = function (figure_id, websocket, ondownload, parent_element) {\n",
       "    this.id = figure_id;\n",
       "\n",
       "    this.ws = websocket;\n",
       "\n",
       "    this.supports_binary = this.ws.binaryType !== undefined;\n",
       "\n",
       "    if (!this.supports_binary) {\n",
       "        var warnings = document.getElementById('mpl-warnings');\n",
       "        if (warnings) {\n",
       "            warnings.style.display = 'block';\n",
       "            warnings.textContent =\n",
       "                'This browser does not support binary websocket messages. ' +\n",
       "                'Performance may be slow.';\n",
       "        }\n",
       "    }\n",
       "\n",
       "    this.imageObj = new Image();\n",
       "\n",
       "    this.context = undefined;\n",
       "    this.message = undefined;\n",
       "    this.canvas = undefined;\n",
       "    this.rubberband_canvas = undefined;\n",
       "    this.rubberband_context = undefined;\n",
       "    this.format_dropdown = undefined;\n",
       "\n",
       "    this.image_mode = 'full';\n",
       "\n",
       "    this.root = document.createElement('div');\n",
       "    this.root.setAttribute('style', 'display: inline-block');\n",
       "    this._root_extra_style(this.root);\n",
       "\n",
       "    parent_element.appendChild(this.root);\n",
       "\n",
       "    this._init_header(this);\n",
       "    this._init_canvas(this);\n",
       "    this._init_toolbar(this);\n",
       "\n",
       "    var fig = this;\n",
       "\n",
       "    this.waiting = false;\n",
       "\n",
       "    this.ws.onopen = function () {\n",
       "        fig.send_message('supports_binary', { value: fig.supports_binary });\n",
       "        fig.send_message('send_image_mode', {});\n",
       "        if (fig.ratio !== 1) {\n",
       "            fig.send_message('set_dpi_ratio', { dpi_ratio: fig.ratio });\n",
       "        }\n",
       "        fig.send_message('refresh', {});\n",
       "    };\n",
       "\n",
       "    this.imageObj.onload = function () {\n",
       "        if (fig.image_mode === 'full') {\n",
       "            // Full images could contain transparency (where diff images\n",
       "            // almost always do), so we need to clear the canvas so that\n",
       "            // there is no ghosting.\n",
       "            fig.context.clearRect(0, 0, fig.canvas.width, fig.canvas.height);\n",
       "        }\n",
       "        fig.context.drawImage(fig.imageObj, 0, 0);\n",
       "    };\n",
       "\n",
       "    this.imageObj.onunload = function () {\n",
       "        fig.ws.close();\n",
       "    };\n",
       "\n",
       "    this.ws.onmessage = this._make_on_message_function(this);\n",
       "\n",
       "    this.ondownload = ondownload;\n",
       "};\n",
       "\n",
       "mpl.figure.prototype._init_header = function () {\n",
       "    var titlebar = document.createElement('div');\n",
       "    titlebar.classList =\n",
       "        'ui-dialog-titlebar ui-widget-header ui-corner-all ui-helper-clearfix';\n",
       "    var titletext = document.createElement('div');\n",
       "    titletext.classList = 'ui-dialog-title';\n",
       "    titletext.setAttribute(\n",
       "        'style',\n",
       "        'width: 100%; text-align: center; padding: 3px;'\n",
       "    );\n",
       "    titlebar.appendChild(titletext);\n",
       "    this.root.appendChild(titlebar);\n",
       "    this.header = titletext;\n",
       "};\n",
       "\n",
       "mpl.figure.prototype._canvas_extra_style = function (_canvas_div) {};\n",
       "\n",
       "mpl.figure.prototype._root_extra_style = function (_canvas_div) {};\n",
       "\n",
       "mpl.figure.prototype._init_canvas = function () {\n",
       "    var fig = this;\n",
       "\n",
       "    var canvas_div = (this.canvas_div = document.createElement('div'));\n",
       "    canvas_div.setAttribute(\n",
       "        'style',\n",
       "        'border: 1px solid #ddd;' +\n",
       "            'box-sizing: content-box;' +\n",
       "            'clear: both;' +\n",
       "            'min-height: 1px;' +\n",
       "            'min-width: 1px;' +\n",
       "            'outline: 0;' +\n",
       "            'overflow: hidden;' +\n",
       "            'position: relative;' +\n",
       "            'resize: both;'\n",
       "    );\n",
       "\n",
       "    function on_keyboard_event_closure(name) {\n",
       "        return function (event) {\n",
       "            return fig.key_event(event, name);\n",
       "        };\n",
       "    }\n",
       "\n",
       "    canvas_div.addEventListener(\n",
       "        'keydown',\n",
       "        on_keyboard_event_closure('key_press')\n",
       "    );\n",
       "    canvas_div.addEventListener(\n",
       "        'keyup',\n",
       "        on_keyboard_event_closure('key_release')\n",
       "    );\n",
       "\n",
       "    this._canvas_extra_style(canvas_div);\n",
       "    this.root.appendChild(canvas_div);\n",
       "\n",
       "    var canvas = (this.canvas = document.createElement('canvas'));\n",
       "    canvas.classList.add('mpl-canvas');\n",
       "    canvas.setAttribute('style', 'box-sizing: content-box;');\n",
       "\n",
       "    this.context = canvas.getContext('2d');\n",
       "\n",
       "    var backingStore =\n",
       "        this.context.backingStorePixelRatio ||\n",
       "        this.context.webkitBackingStorePixelRatio ||\n",
       "        this.context.mozBackingStorePixelRatio ||\n",
       "        this.context.msBackingStorePixelRatio ||\n",
       "        this.context.oBackingStorePixelRatio ||\n",
       "        this.context.backingStorePixelRatio ||\n",
       "        1;\n",
       "\n",
       "    this.ratio = (window.devicePixelRatio || 1) / backingStore;\n",
       "    if (this.ratio !== 1) {\n",
       "        fig.send_message('set_dpi_ratio', { dpi_ratio: this.ratio });\n",
       "    }\n",
       "\n",
       "    var rubberband_canvas = (this.rubberband_canvas = document.createElement(\n",
       "        'canvas'\n",
       "    ));\n",
       "    rubberband_canvas.setAttribute(\n",
       "        'style',\n",
       "        'box-sizing: content-box; position: absolute; left: 0; top: 0; z-index: 1;'\n",
       "    );\n",
       "\n",
       "    // Apply a ponyfill if ResizeObserver is not implemented by browser.\n",
       "    if (this.ResizeObserver === undefined) {\n",
       "        if (window.ResizeObserver !== undefined) {\n",
       "            this.ResizeObserver = window.ResizeObserver;\n",
       "        } else {\n",
       "            var obs = _JSXTOOLS_RESIZE_OBSERVER({});\n",
       "            this.ResizeObserver = obs.ResizeObserver;\n",
       "        }\n",
       "    }\n",
       "\n",
       "    this.resizeObserverInstance = new this.ResizeObserver(function (entries) {\n",
       "        var nentries = entries.length;\n",
       "        for (var i = 0; i < nentries; i++) {\n",
       "            var entry = entries[i];\n",
       "            var width, height;\n",
       "            if (entry.contentBoxSize) {\n",
       "                if (entry.contentBoxSize instanceof Array) {\n",
       "                    // Chrome 84 implements new version of spec.\n",
       "                    width = entry.contentBoxSize[0].inlineSize;\n",
       "                    height = entry.contentBoxSize[0].blockSize;\n",
       "                } else {\n",
       "                    // Firefox implements old version of spec.\n",
       "                    width = entry.contentBoxSize.inlineSize;\n",
       "                    height = entry.contentBoxSize.blockSize;\n",
       "                }\n",
       "            } else {\n",
       "                // Chrome <84 implements even older version of spec.\n",
       "                width = entry.contentRect.width;\n",
       "                height = entry.contentRect.height;\n",
       "            }\n",
       "\n",
       "            // Keep the size of the canvas and rubber band canvas in sync with\n",
       "            // the canvas container.\n",
       "            if (entry.devicePixelContentBoxSize) {\n",
       "                // Chrome 84 implements new version of spec.\n",
       "                canvas.setAttribute(\n",
       "                    'width',\n",
       "                    entry.devicePixelContentBoxSize[0].inlineSize\n",
       "                );\n",
       "                canvas.setAttribute(\n",
       "                    'height',\n",
       "                    entry.devicePixelContentBoxSize[0].blockSize\n",
       "                );\n",
       "            } else {\n",
       "                canvas.setAttribute('width', width * fig.ratio);\n",
       "                canvas.setAttribute('height', height * fig.ratio);\n",
       "            }\n",
       "            canvas.setAttribute(\n",
       "                'style',\n",
       "                'width: ' + width + 'px; height: ' + height + 'px;'\n",
       "            );\n",
       "\n",
       "            rubberband_canvas.setAttribute('width', width);\n",
       "            rubberband_canvas.setAttribute('height', height);\n",
       "\n",
       "            // And update the size in Python. We ignore the initial 0/0 size\n",
       "            // that occurs as the element is placed into the DOM, which should\n",
       "            // otherwise not happen due to the minimum size styling.\n",
       "            if (width != 0 && height != 0) {\n",
       "                fig.request_resize(width, height);\n",
       "            }\n",
       "        }\n",
       "    });\n",
       "    this.resizeObserverInstance.observe(canvas_div);\n",
       "\n",
       "    function on_mouse_event_closure(name) {\n",
       "        return function (event) {\n",
       "            return fig.mouse_event(event, name);\n",
       "        };\n",
       "    }\n",
       "\n",
       "    rubberband_canvas.addEventListener(\n",
       "        'mousedown',\n",
       "        on_mouse_event_closure('button_press')\n",
       "    );\n",
       "    rubberband_canvas.addEventListener(\n",
       "        'mouseup',\n",
       "        on_mouse_event_closure('button_release')\n",
       "    );\n",
       "    // Throttle sequential mouse events to 1 every 20ms.\n",
       "    rubberband_canvas.addEventListener(\n",
       "        'mousemove',\n",
       "        on_mouse_event_closure('motion_notify')\n",
       "    );\n",
       "\n",
       "    rubberband_canvas.addEventListener(\n",
       "        'mouseenter',\n",
       "        on_mouse_event_closure('figure_enter')\n",
       "    );\n",
       "    rubberband_canvas.addEventListener(\n",
       "        'mouseleave',\n",
       "        on_mouse_event_closure('figure_leave')\n",
       "    );\n",
       "\n",
       "    canvas_div.addEventListener('wheel', function (event) {\n",
       "        if (event.deltaY < 0) {\n",
       "            event.step = 1;\n",
       "        } else {\n",
       "            event.step = -1;\n",
       "        }\n",
       "        on_mouse_event_closure('scroll')(event);\n",
       "    });\n",
       "\n",
       "    canvas_div.appendChild(canvas);\n",
       "    canvas_div.appendChild(rubberband_canvas);\n",
       "\n",
       "    this.rubberband_context = rubberband_canvas.getContext('2d');\n",
       "    this.rubberband_context.strokeStyle = '#000000';\n",
       "\n",
       "    this._resize_canvas = function (width, height, forward) {\n",
       "        if (forward) {\n",
       "            canvas_div.style.width = width + 'px';\n",
       "            canvas_div.style.height = height + 'px';\n",
       "        }\n",
       "    };\n",
       "\n",
       "    // Disable right mouse context menu.\n",
       "    this.rubberband_canvas.addEventListener('contextmenu', function (_e) {\n",
       "        event.preventDefault();\n",
       "        return false;\n",
       "    });\n",
       "\n",
       "    function set_focus() {\n",
       "        canvas.focus();\n",
       "        canvas_div.focus();\n",
       "    }\n",
       "\n",
       "    window.setTimeout(set_focus, 100);\n",
       "};\n",
       "\n",
       "mpl.figure.prototype._init_toolbar = function () {\n",
       "    var fig = this;\n",
       "\n",
       "    var toolbar = document.createElement('div');\n",
       "    toolbar.classList = 'mpl-toolbar';\n",
       "    this.root.appendChild(toolbar);\n",
       "\n",
       "    function on_click_closure(name) {\n",
       "        return function (_event) {\n",
       "            return fig.toolbar_button_onclick(name);\n",
       "        };\n",
       "    }\n",
       "\n",
       "    function on_mouseover_closure(tooltip) {\n",
       "        return function (event) {\n",
       "            if (!event.currentTarget.disabled) {\n",
       "                return fig.toolbar_button_onmouseover(tooltip);\n",
       "            }\n",
       "        };\n",
       "    }\n",
       "\n",
       "    fig.buttons = {};\n",
       "    var buttonGroup = document.createElement('div');\n",
       "    buttonGroup.classList = 'mpl-button-group';\n",
       "    for (var toolbar_ind in mpl.toolbar_items) {\n",
       "        var name = mpl.toolbar_items[toolbar_ind][0];\n",
       "        var tooltip = mpl.toolbar_items[toolbar_ind][1];\n",
       "        var image = mpl.toolbar_items[toolbar_ind][2];\n",
       "        var method_name = mpl.toolbar_items[toolbar_ind][3];\n",
       "\n",
       "        if (!name) {\n",
       "            /* Instead of a spacer, we start a new button group. */\n",
       "            if (buttonGroup.hasChildNodes()) {\n",
       "                toolbar.appendChild(buttonGroup);\n",
       "            }\n",
       "            buttonGroup = document.createElement('div');\n",
       "            buttonGroup.classList = 'mpl-button-group';\n",
       "            continue;\n",
       "        }\n",
       "\n",
       "        var button = (fig.buttons[name] = document.createElement('button'));\n",
       "        button.classList = 'mpl-widget';\n",
       "        button.setAttribute('role', 'button');\n",
       "        button.setAttribute('aria-disabled', 'false');\n",
       "        button.addEventListener('click', on_click_closure(method_name));\n",
       "        button.addEventListener('mouseover', on_mouseover_closure(tooltip));\n",
       "\n",
       "        var icon_img = document.createElement('img');\n",
       "        icon_img.src = '_images/' + image + '.png';\n",
       "        icon_img.srcset = '_images/' + image + '_large.png 2x';\n",
       "        icon_img.alt = tooltip;\n",
       "        button.appendChild(icon_img);\n",
       "\n",
       "        buttonGroup.appendChild(button);\n",
       "    }\n",
       "\n",
       "    if (buttonGroup.hasChildNodes()) {\n",
       "        toolbar.appendChild(buttonGroup);\n",
       "    }\n",
       "\n",
       "    var fmt_picker = document.createElement('select');\n",
       "    fmt_picker.classList = 'mpl-widget';\n",
       "    toolbar.appendChild(fmt_picker);\n",
       "    this.format_dropdown = fmt_picker;\n",
       "\n",
       "    for (var ind in mpl.extensions) {\n",
       "        var fmt = mpl.extensions[ind];\n",
       "        var option = document.createElement('option');\n",
       "        option.selected = fmt === mpl.default_extension;\n",
       "        option.innerHTML = fmt;\n",
       "        fmt_picker.appendChild(option);\n",
       "    }\n",
       "\n",
       "    var status_bar = document.createElement('span');\n",
       "    status_bar.classList = 'mpl-message';\n",
       "    toolbar.appendChild(status_bar);\n",
       "    this.message = status_bar;\n",
       "};\n",
       "\n",
       "mpl.figure.prototype.request_resize = function (x_pixels, y_pixels) {\n",
       "    // Request matplotlib to resize the figure. Matplotlib will then trigger a resize in the client,\n",
       "    // which will in turn request a refresh of the image.\n",
       "    this.send_message('resize', { width: x_pixels, height: y_pixels });\n",
       "};\n",
       "\n",
       "mpl.figure.prototype.send_message = function (type, properties) {\n",
       "    properties['type'] = type;\n",
       "    properties['figure_id'] = this.id;\n",
       "    this.ws.send(JSON.stringify(properties));\n",
       "};\n",
       "\n",
       "mpl.figure.prototype.send_draw_message = function () {\n",
       "    if (!this.waiting) {\n",
       "        this.waiting = true;\n",
       "        this.ws.send(JSON.stringify({ type: 'draw', figure_id: this.id }));\n",
       "    }\n",
       "};\n",
       "\n",
       "mpl.figure.prototype.handle_save = function (fig, _msg) {\n",
       "    var format_dropdown = fig.format_dropdown;\n",
       "    var format = format_dropdown.options[format_dropdown.selectedIndex].value;\n",
       "    fig.ondownload(fig, format);\n",
       "};\n",
       "\n",
       "mpl.figure.prototype.handle_resize = function (fig, msg) {\n",
       "    var size = msg['size'];\n",
       "    if (size[0] !== fig.canvas.width || size[1] !== fig.canvas.height) {\n",
       "        fig._resize_canvas(size[0], size[1], msg['forward']);\n",
       "        fig.send_message('refresh', {});\n",
       "    }\n",
       "};\n",
       "\n",
       "mpl.figure.prototype.handle_rubberband = function (fig, msg) {\n",
       "    var x0 = msg['x0'] / fig.ratio;\n",
       "    var y0 = (fig.canvas.height - msg['y0']) / fig.ratio;\n",
       "    var x1 = msg['x1'] / fig.ratio;\n",
       "    var y1 = (fig.canvas.height - msg['y1']) / fig.ratio;\n",
       "    x0 = Math.floor(x0) + 0.5;\n",
       "    y0 = Math.floor(y0) + 0.5;\n",
       "    x1 = Math.floor(x1) + 0.5;\n",
       "    y1 = Math.floor(y1) + 0.5;\n",
       "    var min_x = Math.min(x0, x1);\n",
       "    var min_y = Math.min(y0, y1);\n",
       "    var width = Math.abs(x1 - x0);\n",
       "    var height = Math.abs(y1 - y0);\n",
       "\n",
       "    fig.rubberband_context.clearRect(\n",
       "        0,\n",
       "        0,\n",
       "        fig.canvas.width / fig.ratio,\n",
       "        fig.canvas.height / fig.ratio\n",
       "    );\n",
       "\n",
       "    fig.rubberband_context.strokeRect(min_x, min_y, width, height);\n",
       "};\n",
       "\n",
       "mpl.figure.prototype.handle_figure_label = function (fig, msg) {\n",
       "    // Updates the figure title.\n",
       "    fig.header.textContent = msg['label'];\n",
       "};\n",
       "\n",
       "mpl.figure.prototype.handle_cursor = function (fig, msg) {\n",
       "    var cursor = msg['cursor'];\n",
       "    switch (cursor) {\n",
       "        case 0:\n",
       "            cursor = 'pointer';\n",
       "            break;\n",
       "        case 1:\n",
       "            cursor = 'default';\n",
       "            break;\n",
       "        case 2:\n",
       "            cursor = 'crosshair';\n",
       "            break;\n",
       "        case 3:\n",
       "            cursor = 'move';\n",
       "            break;\n",
       "    }\n",
       "    fig.rubberband_canvas.style.cursor = cursor;\n",
       "};\n",
       "\n",
       "mpl.figure.prototype.handle_message = function (fig, msg) {\n",
       "    fig.message.textContent = msg['message'];\n",
       "};\n",
       "\n",
       "mpl.figure.prototype.handle_draw = function (fig, _msg) {\n",
       "    // Request the server to send over a new figure.\n",
       "    fig.send_draw_message();\n",
       "};\n",
       "\n",
       "mpl.figure.prototype.handle_image_mode = function (fig, msg) {\n",
       "    fig.image_mode = msg['mode'];\n",
       "};\n",
       "\n",
       "mpl.figure.prototype.handle_history_buttons = function (fig, msg) {\n",
       "    for (var key in msg) {\n",
       "        if (!(key in fig.buttons)) {\n",
       "            continue;\n",
       "        }\n",
       "        fig.buttons[key].disabled = !msg[key];\n",
       "        fig.buttons[key].setAttribute('aria-disabled', !msg[key]);\n",
       "    }\n",
       "};\n",
       "\n",
       "mpl.figure.prototype.handle_navigate_mode = function (fig, msg) {\n",
       "    if (msg['mode'] === 'PAN') {\n",
       "        fig.buttons['Pan'].classList.add('active');\n",
       "        fig.buttons['Zoom'].classList.remove('active');\n",
       "    } else if (msg['mode'] === 'ZOOM') {\n",
       "        fig.buttons['Pan'].classList.remove('active');\n",
       "        fig.buttons['Zoom'].classList.add('active');\n",
       "    } else {\n",
       "        fig.buttons['Pan'].classList.remove('active');\n",
       "        fig.buttons['Zoom'].classList.remove('active');\n",
       "    }\n",
       "};\n",
       "\n",
       "mpl.figure.prototype.updated_canvas_event = function () {\n",
       "    // Called whenever the canvas gets updated.\n",
       "    this.send_message('ack', {});\n",
       "};\n",
       "\n",
       "// A function to construct a web socket function for onmessage handling.\n",
       "// Called in the figure constructor.\n",
       "mpl.figure.prototype._make_on_message_function = function (fig) {\n",
       "    return function socket_on_message(evt) {\n",
       "        if (evt.data instanceof Blob) {\n",
       "            /* FIXME: We get \"Resource interpreted as Image but\n",
       "             * transferred with MIME type text/plain:\" errors on\n",
       "             * Chrome.  But how to set the MIME type?  It doesn't seem\n",
       "             * to be part of the websocket stream */\n",
       "            evt.data.type = 'image/png';\n",
       "\n",
       "            /* Free the memory for the previous frames */\n",
       "            if (fig.imageObj.src) {\n",
       "                (window.URL || window.webkitURL).revokeObjectURL(\n",
       "                    fig.imageObj.src\n",
       "                );\n",
       "            }\n",
       "\n",
       "            fig.imageObj.src = (window.URL || window.webkitURL).createObjectURL(\n",
       "                evt.data\n",
       "            );\n",
       "            fig.updated_canvas_event();\n",
       "            fig.waiting = false;\n",
       "            return;\n",
       "        } else if (\n",
       "            typeof evt.data === 'string' &&\n",
       "            evt.data.slice(0, 21) === 'data:image/png;base64'\n",
       "        ) {\n",
       "            fig.imageObj.src = evt.data;\n",
       "            fig.updated_canvas_event();\n",
       "            fig.waiting = false;\n",
       "            return;\n",
       "        }\n",
       "\n",
       "        var msg = JSON.parse(evt.data);\n",
       "        var msg_type = msg['type'];\n",
       "\n",
       "        // Call the  \"handle_{type}\" callback, which takes\n",
       "        // the figure and JSON message as its only arguments.\n",
       "        try {\n",
       "            var callback = fig['handle_' + msg_type];\n",
       "        } catch (e) {\n",
       "            console.log(\n",
       "                \"No handler for the '\" + msg_type + \"' message type: \",\n",
       "                msg\n",
       "            );\n",
       "            return;\n",
       "        }\n",
       "\n",
       "        if (callback) {\n",
       "            try {\n",
       "                // console.log(\"Handling '\" + msg_type + \"' message: \", msg);\n",
       "                callback(fig, msg);\n",
       "            } catch (e) {\n",
       "                console.log(\n",
       "                    \"Exception inside the 'handler_\" + msg_type + \"' callback:\",\n",
       "                    e,\n",
       "                    e.stack,\n",
       "                    msg\n",
       "                );\n",
       "            }\n",
       "        }\n",
       "    };\n",
       "};\n",
       "\n",
       "// from http://stackoverflow.com/questions/1114465/getting-mouse-location-in-canvas\n",
       "mpl.findpos = function (e) {\n",
       "    //this section is from http://www.quirksmode.org/js/events_properties.html\n",
       "    var targ;\n",
       "    if (!e) {\n",
       "        e = window.event;\n",
       "    }\n",
       "    if (e.target) {\n",
       "        targ = e.target;\n",
       "    } else if (e.srcElement) {\n",
       "        targ = e.srcElement;\n",
       "    }\n",
       "    if (targ.nodeType === 3) {\n",
       "        // defeat Safari bug\n",
       "        targ = targ.parentNode;\n",
       "    }\n",
       "\n",
       "    // pageX,Y are the mouse positions relative to the document\n",
       "    var boundingRect = targ.getBoundingClientRect();\n",
       "    var x = e.pageX - (boundingRect.left + document.body.scrollLeft);\n",
       "    var y = e.pageY - (boundingRect.top + document.body.scrollTop);\n",
       "\n",
       "    return { x: x, y: y };\n",
       "};\n",
       "\n",
       "/*\n",
       " * return a copy of an object with only non-object keys\n",
       " * we need this to avoid circular references\n",
       " * http://stackoverflow.com/a/24161582/3208463\n",
       " */\n",
       "function simpleKeys(original) {\n",
       "    return Object.keys(original).reduce(function (obj, key) {\n",
       "        if (typeof original[key] !== 'object') {\n",
       "            obj[key] = original[key];\n",
       "        }\n",
       "        return obj;\n",
       "    }, {});\n",
       "}\n",
       "\n",
       "mpl.figure.prototype.mouse_event = function (event, name) {\n",
       "    var canvas_pos = mpl.findpos(event);\n",
       "\n",
       "    if (name === 'button_press') {\n",
       "        this.canvas.focus();\n",
       "        this.canvas_div.focus();\n",
       "    }\n",
       "\n",
       "    var x = canvas_pos.x * this.ratio;\n",
       "    var y = canvas_pos.y * this.ratio;\n",
       "\n",
       "    this.send_message(name, {\n",
       "        x: x,\n",
       "        y: y,\n",
       "        button: event.button,\n",
       "        step: event.step,\n",
       "        guiEvent: simpleKeys(event),\n",
       "    });\n",
       "\n",
       "    /* This prevents the web browser from automatically changing to\n",
       "     * the text insertion cursor when the button is pressed.  We want\n",
       "     * to control all of the cursor setting manually through the\n",
       "     * 'cursor' event from matplotlib */\n",
       "    event.preventDefault();\n",
       "    return false;\n",
       "};\n",
       "\n",
       "mpl.figure.prototype._key_event_extra = function (_event, _name) {\n",
       "    // Handle any extra behaviour associated with a key event\n",
       "};\n",
       "\n",
       "mpl.figure.prototype.key_event = function (event, name) {\n",
       "    // Prevent repeat events\n",
       "    if (name === 'key_press') {\n",
       "        if (event.which === this._key) {\n",
       "            return;\n",
       "        } else {\n",
       "            this._key = event.which;\n",
       "        }\n",
       "    }\n",
       "    if (name === 'key_release') {\n",
       "        this._key = null;\n",
       "    }\n",
       "\n",
       "    var value = '';\n",
       "    if (event.ctrlKey && event.which !== 17) {\n",
       "        value += 'ctrl+';\n",
       "    }\n",
       "    if (event.altKey && event.which !== 18) {\n",
       "        value += 'alt+';\n",
       "    }\n",
       "    if (event.shiftKey && event.which !== 16) {\n",
       "        value += 'shift+';\n",
       "    }\n",
       "\n",
       "    value += 'k';\n",
       "    value += event.which.toString();\n",
       "\n",
       "    this._key_event_extra(event, name);\n",
       "\n",
       "    this.send_message(name, { key: value, guiEvent: simpleKeys(event) });\n",
       "    return false;\n",
       "};\n",
       "\n",
       "mpl.figure.prototype.toolbar_button_onclick = function (name) {\n",
       "    if (name === 'download') {\n",
       "        this.handle_save(this, null);\n",
       "    } else {\n",
       "        this.send_message('toolbar_button', { name: name });\n",
       "    }\n",
       "};\n",
       "\n",
       "mpl.figure.prototype.toolbar_button_onmouseover = function (tooltip) {\n",
       "    this.message.textContent = tooltip;\n",
       "};\n",
       "\n",
       "///////////////// REMAINING CONTENT GENERATED BY embed_js.py /////////////////\n",
       "// prettier-ignore\n",
       "var _JSXTOOLS_RESIZE_OBSERVER=function(A){var t,i=new WeakMap,n=new WeakMap,a=new WeakMap,r=new WeakMap,o=new Set;function s(e){if(!(this instanceof s))throw new TypeError(\"Constructor requires 'new' operator\");i.set(this,e)}function h(){throw new TypeError(\"Function is not a constructor\")}function c(e,t,i,n){e=0 in arguments?Number(arguments[0]):0,t=1 in arguments?Number(arguments[1]):0,i=2 in arguments?Number(arguments[2]):0,n=3 in arguments?Number(arguments[3]):0,this.right=(this.x=this.left=e)+(this.width=i),this.bottom=(this.y=this.top=t)+(this.height=n),Object.freeze(this)}function d(){t=requestAnimationFrame(d);var s=new WeakMap,p=new Set;o.forEach((function(t){r.get(t).forEach((function(i){var r=t instanceof window.SVGElement,o=a.get(t),d=r?0:parseFloat(o.paddingTop),f=r?0:parseFloat(o.paddingRight),l=r?0:parseFloat(o.paddingBottom),u=r?0:parseFloat(o.paddingLeft),g=r?0:parseFloat(o.borderTopWidth),m=r?0:parseFloat(o.borderRightWidth),w=r?0:parseFloat(o.borderBottomWidth),b=u+f,F=d+l,v=(r?0:parseFloat(o.borderLeftWidth))+m,W=g+w,y=r?0:t.offsetHeight-W-t.clientHeight,E=r?0:t.offsetWidth-v-t.clientWidth,R=b+v,z=F+W,M=r?t.width:parseFloat(o.width)-R-E,O=r?t.height:parseFloat(o.height)-z-y;if(n.has(t)){var k=n.get(t);if(k[0]===M&&k[1]===O)return}n.set(t,[M,O]);var S=Object.create(h.prototype);S.target=t,S.contentRect=new c(u,d,M,O),s.has(i)||(s.set(i,[]),p.add(i)),s.get(i).push(S)}))})),p.forEach((function(e){i.get(e).call(e,s.get(e),e)}))}return s.prototype.observe=function(i){if(i instanceof window.Element){r.has(i)||(r.set(i,new Set),o.add(i),a.set(i,window.getComputedStyle(i)));var n=r.get(i);n.has(this)||n.add(this),cancelAnimationFrame(t),t=requestAnimationFrame(d)}},s.prototype.unobserve=function(i){if(i instanceof window.Element&&r.has(i)){var n=r.get(i);n.has(this)&&(n.delete(this),n.size||(r.delete(i),o.delete(i))),n.size||r.delete(i),o.size||cancelAnimationFrame(t)}},A.DOMRectReadOnly=c,A.ResizeObserver=s,A.ResizeObserverEntry=h,A}; // eslint-disable-line\n",
       "mpl.toolbar_items = [[\"Home\", \"Reset original view\", \"fa fa-home icon-home\", \"home\"], [\"Back\", \"Back to previous view\", \"fa fa-arrow-left icon-arrow-left\", \"back\"], [\"Forward\", \"Forward to next view\", \"fa fa-arrow-right icon-arrow-right\", \"forward\"], [\"\", \"\", \"\", \"\"], [\"Pan\", \"Left button pans, Right button zooms\\nx/y fixes axis, CTRL fixes aspect\", \"fa fa-arrows icon-move\", \"pan\"], [\"Zoom\", \"Zoom to rectangle\\nx/y fixes axis, CTRL fixes aspect\", \"fa fa-square-o icon-check-empty\", \"zoom\"], [\"\", \"\", \"\", \"\"], [\"Download\", \"Download plot\", \"fa fa-floppy-o icon-save\", \"download\"]];\n",
       "\n",
       "mpl.extensions = [\"eps\", \"jpeg\", \"pdf\", \"png\", \"ps\", \"raw\", \"svg\", \"tif\"];\n",
       "\n",
       "mpl.default_extension = \"png\";/* global mpl */\n",
       "\n",
       "var comm_websocket_adapter = function (comm) {\n",
       "    // Create a \"websocket\"-like object which calls the given IPython comm\n",
       "    // object with the appropriate methods. Currently this is a non binary\n",
       "    // socket, so there is still some room for performance tuning.\n",
       "    var ws = {};\n",
       "\n",
       "    ws.close = function () {\n",
       "        comm.close();\n",
       "    };\n",
       "    ws.send = function (m) {\n",
       "        //console.log('sending', m);\n",
       "        comm.send(m);\n",
       "    };\n",
       "    // Register the callback with on_msg.\n",
       "    comm.on_msg(function (msg) {\n",
       "        //console.log('receiving', msg['content']['data'], msg);\n",
       "        // Pass the mpl event to the overridden (by mpl) onmessage function.\n",
       "        ws.onmessage(msg['content']['data']);\n",
       "    });\n",
       "    return ws;\n",
       "};\n",
       "\n",
       "mpl.mpl_figure_comm = function (comm, msg) {\n",
       "    // This is the function which gets called when the mpl process\n",
       "    // starts-up an IPython Comm through the \"matplotlib\" channel.\n",
       "\n",
       "    var id = msg.content.data.id;\n",
       "    // Get hold of the div created by the display call when the Comm\n",
       "    // socket was opened in Python.\n",
       "    var element = document.getElementById(id);\n",
       "    var ws_proxy = comm_websocket_adapter(comm);\n",
       "\n",
       "    function ondownload(figure, _format) {\n",
       "        window.open(figure.canvas.toDataURL());\n",
       "    }\n",
       "\n",
       "    var fig = new mpl.figure(id, ws_proxy, ondownload, element);\n",
       "\n",
       "    // Call onopen now - mpl needs it, as it is assuming we've passed it a real\n",
       "    // web socket which is closed, not our websocket->open comm proxy.\n",
       "    ws_proxy.onopen();\n",
       "\n",
       "    fig.parent_element = element;\n",
       "    fig.cell_info = mpl.find_output_cell(\"<div id='\" + id + \"'></div>\");\n",
       "    if (!fig.cell_info) {\n",
       "        console.error('Failed to find cell for figure', id, fig);\n",
       "        return;\n",
       "    }\n",
       "    fig.cell_info[0].output_area.element.on(\n",
       "        'cleared',\n",
       "        { fig: fig },\n",
       "        fig._remove_fig_handler\n",
       "    );\n",
       "};\n",
       "\n",
       "mpl.figure.prototype.handle_close = function (fig, msg) {\n",
       "    var width = fig.canvas.width / fig.ratio;\n",
       "    fig.cell_info[0].output_area.element.off(\n",
       "        'cleared',\n",
       "        fig._remove_fig_handler\n",
       "    );\n",
       "    fig.resizeObserverInstance.unobserve(fig.canvas_div);\n",
       "\n",
       "    // Update the output cell to use the data from the current canvas.\n",
       "    fig.push_to_output();\n",
       "    var dataURL = fig.canvas.toDataURL();\n",
       "    // Re-enable the keyboard manager in IPython - without this line, in FF,\n",
       "    // the notebook keyboard shortcuts fail.\n",
       "    IPython.keyboard_manager.enable();\n",
       "    fig.parent_element.innerHTML =\n",
       "        '<img src=\"' + dataURL + '\" width=\"' + width + '\">';\n",
       "    fig.close_ws(fig, msg);\n",
       "};\n",
       "\n",
       "mpl.figure.prototype.close_ws = function (fig, msg) {\n",
       "    fig.send_message('closing', msg);\n",
       "    // fig.ws.close()\n",
       "};\n",
       "\n",
       "mpl.figure.prototype.push_to_output = function (_remove_interactive) {\n",
       "    // Turn the data on the canvas into data in the output cell.\n",
       "    var width = this.canvas.width / this.ratio;\n",
       "    var dataURL = this.canvas.toDataURL();\n",
       "    this.cell_info[1]['text/html'] =\n",
       "        '<img src=\"' + dataURL + '\" width=\"' + width + '\">';\n",
       "};\n",
       "\n",
       "mpl.figure.prototype.updated_canvas_event = function () {\n",
       "    // Tell IPython that the notebook contents must change.\n",
       "    IPython.notebook.set_dirty(true);\n",
       "    this.send_message('ack', {});\n",
       "    var fig = this;\n",
       "    // Wait a second, then push the new image to the DOM so\n",
       "    // that it is saved nicely (might be nice to debounce this).\n",
       "    setTimeout(function () {\n",
       "        fig.push_to_output();\n",
       "    }, 1000);\n",
       "};\n",
       "\n",
       "mpl.figure.prototype._init_toolbar = function () {\n",
       "    var fig = this;\n",
       "\n",
       "    var toolbar = document.createElement('div');\n",
       "    toolbar.classList = 'btn-toolbar';\n",
       "    this.root.appendChild(toolbar);\n",
       "\n",
       "    function on_click_closure(name) {\n",
       "        return function (_event) {\n",
       "            return fig.toolbar_button_onclick(name);\n",
       "        };\n",
       "    }\n",
       "\n",
       "    function on_mouseover_closure(tooltip) {\n",
       "        return function (event) {\n",
       "            if (!event.currentTarget.disabled) {\n",
       "                return fig.toolbar_button_onmouseover(tooltip);\n",
       "            }\n",
       "        };\n",
       "    }\n",
       "\n",
       "    fig.buttons = {};\n",
       "    var buttonGroup = document.createElement('div');\n",
       "    buttonGroup.classList = 'btn-group';\n",
       "    var button;\n",
       "    for (var toolbar_ind in mpl.toolbar_items) {\n",
       "        var name = mpl.toolbar_items[toolbar_ind][0];\n",
       "        var tooltip = mpl.toolbar_items[toolbar_ind][1];\n",
       "        var image = mpl.toolbar_items[toolbar_ind][2];\n",
       "        var method_name = mpl.toolbar_items[toolbar_ind][3];\n",
       "\n",
       "        if (!name) {\n",
       "            /* Instead of a spacer, we start a new button group. */\n",
       "            if (buttonGroup.hasChildNodes()) {\n",
       "                toolbar.appendChild(buttonGroup);\n",
       "            }\n",
       "            buttonGroup = document.createElement('div');\n",
       "            buttonGroup.classList = 'btn-group';\n",
       "            continue;\n",
       "        }\n",
       "\n",
       "        button = fig.buttons[name] = document.createElement('button');\n",
       "        button.classList = 'btn btn-default';\n",
       "        button.href = '#';\n",
       "        button.title = name;\n",
       "        button.innerHTML = '<i class=\"fa ' + image + ' fa-lg\"></i>';\n",
       "        button.addEventListener('click', on_click_closure(method_name));\n",
       "        button.addEventListener('mouseover', on_mouseover_closure(tooltip));\n",
       "        buttonGroup.appendChild(button);\n",
       "    }\n",
       "\n",
       "    if (buttonGroup.hasChildNodes()) {\n",
       "        toolbar.appendChild(buttonGroup);\n",
       "    }\n",
       "\n",
       "    // Add the status bar.\n",
       "    var status_bar = document.createElement('span');\n",
       "    status_bar.classList = 'mpl-message pull-right';\n",
       "    toolbar.appendChild(status_bar);\n",
       "    this.message = status_bar;\n",
       "\n",
       "    // Add the close button to the window.\n",
       "    var buttongrp = document.createElement('div');\n",
       "    buttongrp.classList = 'btn-group inline pull-right';\n",
       "    button = document.createElement('button');\n",
       "    button.classList = 'btn btn-mini btn-primary';\n",
       "    button.href = '#';\n",
       "    button.title = 'Stop Interaction';\n",
       "    button.innerHTML = '<i class=\"fa fa-power-off icon-remove icon-large\"></i>';\n",
       "    button.addEventListener('click', function (_evt) {\n",
       "        fig.handle_close(fig, {});\n",
       "    });\n",
       "    button.addEventListener(\n",
       "        'mouseover',\n",
       "        on_mouseover_closure('Stop Interaction')\n",
       "    );\n",
       "    buttongrp.appendChild(button);\n",
       "    var titlebar = this.root.querySelector('.ui-dialog-titlebar');\n",
       "    titlebar.insertBefore(buttongrp, titlebar.firstChild);\n",
       "};\n",
       "\n",
       "mpl.figure.prototype._remove_fig_handler = function (event) {\n",
       "    var fig = event.data.fig;\n",
       "    if (event.target !== this) {\n",
       "        // Ignore bubbled events from children.\n",
       "        return;\n",
       "    }\n",
       "    fig.close_ws(fig, {});\n",
       "};\n",
       "\n",
       "mpl.figure.prototype._root_extra_style = function (el) {\n",
       "    el.style.boxSizing = 'content-box'; // override notebook setting of border-box.\n",
       "};\n",
       "\n",
       "mpl.figure.prototype._canvas_extra_style = function (el) {\n",
       "    // this is important to make the div 'focusable\n",
       "    el.setAttribute('tabindex', 0);\n",
       "    // reach out to IPython and tell the keyboard manager to turn it's self\n",
       "    // off when our div gets focus\n",
       "\n",
       "    // location in version 3\n",
       "    if (IPython.notebook.keyboard_manager) {\n",
       "        IPython.notebook.keyboard_manager.register_events(el);\n",
       "    } else {\n",
       "        // location in version 2\n",
       "        IPython.keyboard_manager.register_events(el);\n",
       "    }\n",
       "};\n",
       "\n",
       "mpl.figure.prototype._key_event_extra = function (event, _name) {\n",
       "    var manager = IPython.notebook.keyboard_manager;\n",
       "    if (!manager) {\n",
       "        manager = IPython.keyboard_manager;\n",
       "    }\n",
       "\n",
       "    // Check for shift+enter\n",
       "    if (event.shiftKey && event.which === 13) {\n",
       "        this.canvas_div.blur();\n",
       "        // select the cell after this one\n",
       "        var index = IPython.notebook.find_cell_index(this.cell_info[0]);\n",
       "        IPython.notebook.select(index + 1);\n",
       "    }\n",
       "};\n",
       "\n",
       "mpl.figure.prototype.handle_save = function (fig, _msg) {\n",
       "    fig.ondownload(fig, null);\n",
       "};\n",
       "\n",
       "mpl.find_output_cell = function (html_output) {\n",
       "    // Return the cell and output element which can be found *uniquely* in the notebook.\n",
       "    // Note - this is a bit hacky, but it is done because the \"notebook_saving.Notebook\"\n",
       "    // IPython event is triggered only after the cells have been serialised, which for\n",
       "    // our purposes (turning an active figure into a static one), is too late.\n",
       "    var cells = IPython.notebook.get_cells();\n",
       "    var ncells = cells.length;\n",
       "    for (var i = 0; i < ncells; i++) {\n",
       "        var cell = cells[i];\n",
       "        if (cell.cell_type === 'code') {\n",
       "            for (var j = 0; j < cell.output_area.outputs.length; j++) {\n",
       "                var data = cell.output_area.outputs[j];\n",
       "                if (data.data) {\n",
       "                    // IPython >= 3 moved mimebundle to data attribute of output\n",
       "                    data = data.data;\n",
       "                }\n",
       "                if (data['text/html'] === html_output) {\n",
       "                    return [cell, data, j];\n",
       "                }\n",
       "            }\n",
       "        }\n",
       "    }\n",
       "};\n",
       "\n",
       "// Register the function which deals with the matplotlib target/channel.\n",
       "// The kernel may be null if the page has been refreshed.\n",
       "if (IPython.notebook.kernel !== null) {\n",
       "    IPython.notebook.kernel.comm_manager.register_target(\n",
       "        'matplotlib',\n",
       "        mpl.mpl_figure_comm\n",
       "    );\n",
       "}\n"
      ],
      "text/plain": [
       "<IPython.core.display.Javascript object>"
      ]
     },
     "metadata": {},
     "output_type": "display_data"
    },
    {
     "data": {
      "text/html": [
       "<img src=\"data:image/png;base64,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\" width=\"448.8889007803838\">"
      ],
      "text/plain": [
       "<IPython.core.display.HTML object>"
      ]
     },
     "metadata": {},
     "output_type": "display_data"
    }
   ],
   "source": [
    "import sys\n",
    "sys.path.insert(1, r'./../functions')  # add to python path\n",
    "%matplotlib notebook\n",
    "from CCSbasis import CCSbasis\n",
    "\n",
    "R = RZ*RY*RX\n",
    "R = sym.lambdify((a, b, g), R, 'numpy')\n",
    "\n",
    "alpha = np.pi/3\n",
    "beta = np.pi/4\n",
    "gamma = np.pi/6\n",
    "\n",
    "R = R(alpha, beta, gamma)\n",
    "\n",
    "e1 = np.array([[1,0,0]])\n",
    "e2 = np.array([[0,1,0]])\n",
    "e3 = np.array([[0,0,1]])\n",
    "\n",
    "basis = np.vstack((e1, e2, e3))\n",
    "basisRot = R@basis\n",
    "CCSbasis(Oijk=np.array([0, 0, 0]), Oxyz=np.array([0, 0, 0]), ijk=basis.T,\n",
    "         xyz=basisRot.T, vector=False);"
   ]
  },
  {
   "cell_type": "markdown",
   "metadata": {
    "slideshow": {
     "slide_type": "slide"
    }
   },
   "source": [
    "Examining the matrix above and the correspondent previous figure, one can see they agree: the rotated $x$ axis (first column of the above matrix) has value -1 in the $\\mathbf{Z}$ direction $[0,0,-1]$, the rotated $y$ axis (second column) is at the $\\mathbf{Y}$ direction $[0,1,0]$, and the rotated $z$ axis (third column) is at the $\\mathbf{X}$ direction $[1,0,0]$.\n",
    "\n",
    "We also can calculate the sequence of elemental rotations around the $x$, $y$, $z$ axes of the rotating $xyz$ coordinate system illustrated in the next figure.  \n",
    "<br>\n",
    "<figure>\n",
    "<img src='./../images/rotations_xyz2.png' alt='rotations'/> <figcaption><center><i>Figure. Sequence of elemental rotations of a second $xyz$ local coordinate system around each axis, $x$, $y$, $z$, of the rotating $xyz$ coordinate system.</i></center></figcaption>\n",
    "</figure>\n",
    "\n",
    "Likewise, this sequence of elemental rotations (each one of the local coordinate system with respect to the rotating local coordinate system) is mathematically represented by a multiplication between the rotation matrices (which are the inverse of the matrices for the rotations around $\\mathbf{X,Y,Z}$ as we saw earlier):\n",
    "\n",
    "<span class=\"notranslate\">\n",
    "\\begin{equation}\n",
    "\\begin{array}{l l}\n",
    "\\mathbf{R}_{\\mathbf{lG},\\,xyz} & = \\mathbf{R_{z}} \\mathbf{R_{y}} \\mathbf{R_{x}} \\\\\n",
    "\\\\\n",
    "& = \\begin{bmatrix}\n",
    "\\cos\\gamma & \\sin\\gamma & 0\\\\\n",
    "-\\sin\\gamma & \\cos\\gamma & 0 \\\\\n",
    "0 & 0 & 1\n",
    "\\end{bmatrix}\n",
    "\\begin{bmatrix}\n",
    "\\cos\\beta & 0 & -\\sin\\beta \\\\\n",
    "0 & 1 & 0 \\\\\n",
    "\\sin\\beta & 0 & \\cos\\beta\n",
    "\\end{bmatrix}\n",
    "\\begin{bmatrix}\n",
    "1 & 0 & 0 \\\\\n",
    "0 & \\cos\\alpha & \\sin\\alpha \\\\\n",
    "0 & -\\sin\\alpha & \\cos\\alpha\n",
    "\\end{bmatrix} \\\\\n",
    "\\\\\n",
    "& =\n",
    "\\begin{bmatrix}\n",
    "\\cos\\beta\\:\\cos\\gamma \\;&\\;\n",
    "\\sin\\alpha\\:\\sin\\beta\\:\\cos\\gamma+\\cos\\alpha\\:\\sin\\gamma \\;&\\;\n",
    "\\cos\\alpha\\:\\sin\\beta\\:\\cos\\gamma-\\sin\\alpha\\:\\sin\\gamma \\;\\;\\; \\\\\n",
    "-\\cos\\beta\\:\\sin\\gamma \\;&\\;\n",
    "-\\sin\\alpha\\:\\sin\\beta\\:\\sin\\gamma+\\cos\\alpha\\:\\cos\\gamma \\;&\\;\n",
    "\\cos\\alpha\\:\\sin\\beta\\:\\sin\\gamma+\\sin\\alpha\\:\\cos\\gamma \\;\\;\\;  \\\\\n",
    "\\sin\\beta \\;&\\; -\\sin\\alpha\\:\\cos\\beta \\;&\\; \\cos\\alpha\\:\\cos\\beta \\;\\;\\;\n",
    "\\end{bmatrix} \n",
    "\\end{array}\n",
    "\\end{equation}\n",
    "</span>\n",
    "\n",
    "As before, the order of the matrices is from right to left.   \n",
    "\n",
    "Once again, we can check this matrix multiplication using [Sympy](http://sympy.org/en/index.html):"
   ]
  },
  {
   "cell_type": "code",
   "execution_count": 7,
   "metadata": {
    "ExecuteTime": {
     "end_time": "2020-11-17T00:32:06.499796Z",
     "start_time": "2020-11-17T00:32:06.490895Z"
    },
    "slideshow": {
     "slide_type": "fragment"
    }
   },
   "outputs": [
    {
     "data": {
      "text/latex": [
       "$\\displaystyle \\mathbf{R}_{\\mathbf{lG},\\,xyz}=\\left[\\begin{matrix}\\cos{\\left(\\beta \\right)} \\cos{\\left(\\gamma \\right)} & \\sin{\\left(\\alpha \\right)} \\sin{\\left(\\beta \\right)} \\cos{\\left(\\gamma \\right)} + \\sin{\\left(\\gamma \\right)} \\cos{\\left(\\alpha \\right)} & \\sin{\\left(\\alpha \\right)} \\sin{\\left(\\gamma \\right)} - \\sin{\\left(\\beta \\right)} \\cos{\\left(\\alpha \\right)} \\cos{\\left(\\gamma \\right)}\\\\- \\sin{\\left(\\gamma \\right)} \\cos{\\left(\\beta \\right)} & - \\sin{\\left(\\alpha \\right)} \\sin{\\left(\\beta \\right)} \\sin{\\left(\\gamma \\right)} + \\cos{\\left(\\alpha \\right)} \\cos{\\left(\\gamma \\right)} & \\sin{\\left(\\alpha \\right)} \\cos{\\left(\\gamma \\right)} + \\sin{\\left(\\beta \\right)} \\sin{\\left(\\gamma \\right)} \\cos{\\left(\\alpha \\right)}\\\\\\sin{\\left(\\beta \\right)} & - \\sin{\\left(\\alpha \\right)} \\cos{\\left(\\beta \\right)} & \\cos{\\left(\\alpha \\right)} \\cos{\\left(\\beta \\right)}\\end{matrix}\\right]$"
      ],
      "text/plain": [
       "<IPython.core.display.Math object>"
      ]
     },
     "execution_count": 7,
     "metadata": {},
     "output_type": "execute_result"
    }
   ],
   "source": [
    "a, b, g = sym.symbols('alpha, beta, gamma')\n",
    "# Elemental rotation matrices of xyz (local):\n",
    "Rx = sym.Matrix([[1, 0, 0], [0, cos(a), sin(a)], [0, -sin(a), cos(a)]])\n",
    "Ry = sym.Matrix([[cos(b), 0, -sin(b)], [0, 1, 0], [sin(b), 0, cos(b)]])\n",
    "Rz = sym.Matrix([[cos(g), sin(g), 0], [-sin(g), cos(g), 0], [0, 0, 1]])\n",
    "# Rotation matrix of xyz' in relation to xyz:\n",
    "Rxyz = Rz*Ry*Rx\n",
    "Math(sym.latex(r'\\mathbf{R}_{\\mathbf{lG},\\,xyz}=') + sym.latex(Rxyz, mat_str='matrix'))"
   ]
  },
  {
   "cell_type": "markdown",
   "metadata": {
    "slideshow": {
     "slide_type": "fragment"
    }
   },
   "source": [
    "For instance, let's calculate the numerical rotation matrix for these sequential elemental rotations by $90^o$ around $x,y,z$:"
   ]
  },
  {
   "cell_type": "code",
   "execution_count": 8,
   "metadata": {
    "ExecuteTime": {
     "end_time": "2020-11-17T00:32:06.507814Z",
     "start_time": "2020-11-17T00:32:06.500706Z"
    },
    "scrolled": true,
    "slideshow": {
     "slide_type": "fragment"
    }
   },
   "outputs": [
    {
     "data": {
      "text/latex": [
       "$\\displaystyle \\mathbf{R}_{\\mathbf{lG},\\,xyz\\,}(90^o, 90^o, 90^o) =\\left[\\begin{matrix}0.000 & 0.000 & 1.000\\\\-0.000 & -1.000 & 0.000\\\\1.000 & -0.000 & 0.000\\end{matrix}\\right]$"
      ],
      "text/plain": [
       "<IPython.core.display.Math object>"
      ]
     },
     "metadata": {},
     "output_type": "display_data"
    }
   ],
   "source": [
    "R = sym.lambdify((a, b, g), Rxyz, 'numpy')\n",
    "R = R(np.pi/2, np.pi/2, np.pi/2)\n",
    "display(Math(r'\\mathbf{R}_{\\mathbf{lG},\\,xyz\\,}(90^o, 90^o, 90^o) =' + \\\n",
    "             sym.latex(sym.Matrix(R).applyfunc(lambda x: sym.Symbol('{:.3f}'.format(x))))))"
   ]
  },
  {
   "cell_type": "markdown",
   "metadata": {
    "slideshow": {
     "slide_type": "slide"
    }
   },
   "source": [
    "Once again, let's compare the above matrix and the correspondent previous figure to see if it makes sense. But remember that this matrix is the Global-to-local rotation matrix, $\\mathbf{R}_{\\mathbf{lG},\\,xyz}$, where the coordinates of the local basis' versors are rows, not columns, in this matrix. With this detail in mind, one can see that the previous figure and matrix also agree: the rotated $x$ axis (first row of the above matrix) is at the $\\mathbf{Z}$ direction $[0,0,1]$, the rotated $y$ axis (second row) is at the $\\mathbf{-Y}$ direction $[0,-1,0]$, and the rotated $z$ axis (third row) is at the $\\mathbf{X}$ direction $[1,0,0]$.\n",
    "\n",
    "In fact, this example didn't serve to distinguish versors as rows or columns because the $\\mathbf{R}_{\\mathbf{lG},\\,xyz}$ matrix above is symmetric!  \n",
    "Let's look on the resultant matrix for the example above after only the first two rotations, $\\mathbf{R}_{\\mathbf{lG},\\,xy}$ to understand this difference: "
   ]
  },
  {
   "cell_type": "code",
   "execution_count": 9,
   "metadata": {
    "ExecuteTime": {
     "end_time": "2020-11-17T00:32:06.518175Z",
     "start_time": "2020-11-17T00:32:06.509000Z"
    },
    "slideshow": {
     "slide_type": "fragment"
    }
   },
   "outputs": [
    {
     "data": {
      "text/latex": [
       "$\\displaystyle \\mathbf{R}_{\\mathbf{lG},\\,xy\\,}(90^o, 90^o) =\\left[\\begin{matrix}0.000 & 1.000 & -0.000\\\\0.000 & 0.000 & 1.000\\\\1.000 & -0.000 & 0.000\\end{matrix}\\right]$"
      ],
      "text/plain": [
       "<IPython.core.display.Math object>"
      ]
     },
     "metadata": {},
     "output_type": "display_data"
    }
   ],
   "source": [
    "Rxy = Ry*Rx\n",
    "R = sym.lambdify((a, b), Rxy, 'numpy')\n",
    "R = R(np.pi/2, np.pi/2)\n",
    "display(Math(r'\\mathbf{R}_{\\mathbf{lG},\\,xy\\,}(90^o, 90^o) =' + \\\n",
    "             sym.latex(sym.Matrix(R).applyfunc(lambda x: sym.Symbol('{:.3f}'.format(x))))))"
   ]
  },
  {
   "cell_type": "markdown",
   "metadata": {
    "slideshow": {
     "slide_type": "slide"
    }
   },
   "source": [
    "Comparing this matrix with the third plot in the figure, we see that the coordinates of versor $x$ in the Global coordinate system are $[0,1,0]$, i.e., local axis $x$ is aligned with Global axis $Y$, and this versor is indeed the first row, not first column, of the matrix above. Confer the other two rows.  \n",
    "\n",
    "What are then in the columns of the local-to-Global rotation matrix?  \n",
    "The columns are the coordinates of Global basis' versors in the local coordinate system! For example, the first column of the matrix above is the coordinates of $X$, which is aligned with $z$: $[0,0,1]$."
   ]
  },
  {
   "cell_type": "markdown",
   "metadata": {
    "slideshow": {
     "slide_type": "slide"
    }
   },
   "source": [
    "Below you can test any sequence of rotation, around the local coordinates. Just change the matrix R, and the angles of the variables $\\alpha$, $\\beta$ and $\\gamma$. In the example below is the rotation around the local basis, in the sequence x,y,z, with the angles $\\alpha=\\pi/3$ rad, $\\beta=\\pi/4$ rad and $\\gamma=\\pi/2$ rad."
   ]
  },
  {
   "cell_type": "code",
   "execution_count": 10,
   "metadata": {
    "ExecuteTime": {
     "end_time": "2020-11-17T00:32:06.545317Z",
     "start_time": "2020-11-17T00:32:06.518892Z"
    },
    "slideshow": {
     "slide_type": "fragment"
    }
   },
   "outputs": [
    {
     "data": {
      "application/javascript": [
       "/* Put everything inside the global mpl namespace */\n",
       "/* global mpl */\n",
       "window.mpl = {};\n",
       "\n",
       "mpl.get_websocket_type = function () {\n",
       "    if (typeof WebSocket !== 'undefined') {\n",
       "        return WebSocket;\n",
       "    } else if (typeof MozWebSocket !== 'undefined') {\n",
       "        return MozWebSocket;\n",
       "    } else {\n",
       "        alert(\n",
       "            'Your browser does not have WebSocket support. ' +\n",
       "                'Please try Chrome, Safari or Firefox ≥ 6. ' +\n",
       "                'Firefox 4 and 5 are also supported but you ' +\n",
       "                'have to enable WebSockets in about:config.'\n",
       "        );\n",
       "    }\n",
       "};\n",
       "\n",
       "mpl.figure = function (figure_id, websocket, ondownload, parent_element) {\n",
       "    this.id = figure_id;\n",
       "\n",
       "    this.ws = websocket;\n",
       "\n",
       "    this.supports_binary = this.ws.binaryType !== undefined;\n",
       "\n",
       "    if (!this.supports_binary) {\n",
       "        var warnings = document.getElementById('mpl-warnings');\n",
       "        if (warnings) {\n",
       "            warnings.style.display = 'block';\n",
       "            warnings.textContent =\n",
       "                'This browser does not support binary websocket messages. ' +\n",
       "                'Performance may be slow.';\n",
       "        }\n",
       "    }\n",
       "\n",
       "    this.imageObj = new Image();\n",
       "\n",
       "    this.context = undefined;\n",
       "    this.message = undefined;\n",
       "    this.canvas = undefined;\n",
       "    this.rubberband_canvas = undefined;\n",
       "    this.rubberband_context = undefined;\n",
       "    this.format_dropdown = undefined;\n",
       "\n",
       "    this.image_mode = 'full';\n",
       "\n",
       "    this.root = document.createElement('div');\n",
       "    this.root.setAttribute('style', 'display: inline-block');\n",
       "    this._root_extra_style(this.root);\n",
       "\n",
       "    parent_element.appendChild(this.root);\n",
       "\n",
       "    this._init_header(this);\n",
       "    this._init_canvas(this);\n",
       "    this._init_toolbar(this);\n",
       "\n",
       "    var fig = this;\n",
       "\n",
       "    this.waiting = false;\n",
       "\n",
       "    this.ws.onopen = function () {\n",
       "        fig.send_message('supports_binary', { value: fig.supports_binary });\n",
       "        fig.send_message('send_image_mode', {});\n",
       "        if (fig.ratio !== 1) {\n",
       "            fig.send_message('set_dpi_ratio', { dpi_ratio: fig.ratio });\n",
       "        }\n",
       "        fig.send_message('refresh', {});\n",
       "    };\n",
       "\n",
       "    this.imageObj.onload = function () {\n",
       "        if (fig.image_mode === 'full') {\n",
       "            // Full images could contain transparency (where diff images\n",
       "            // almost always do), so we need to clear the canvas so that\n",
       "            // there is no ghosting.\n",
       "            fig.context.clearRect(0, 0, fig.canvas.width, fig.canvas.height);\n",
       "        }\n",
       "        fig.context.drawImage(fig.imageObj, 0, 0);\n",
       "    };\n",
       "\n",
       "    this.imageObj.onunload = function () {\n",
       "        fig.ws.close();\n",
       "    };\n",
       "\n",
       "    this.ws.onmessage = this._make_on_message_function(this);\n",
       "\n",
       "    this.ondownload = ondownload;\n",
       "};\n",
       "\n",
       "mpl.figure.prototype._init_header = function () {\n",
       "    var titlebar = document.createElement('div');\n",
       "    titlebar.classList =\n",
       "        'ui-dialog-titlebar ui-widget-header ui-corner-all ui-helper-clearfix';\n",
       "    var titletext = document.createElement('div');\n",
       "    titletext.classList = 'ui-dialog-title';\n",
       "    titletext.setAttribute(\n",
       "        'style',\n",
       "        'width: 100%; text-align: center; padding: 3px;'\n",
       "    );\n",
       "    titlebar.appendChild(titletext);\n",
       "    this.root.appendChild(titlebar);\n",
       "    this.header = titletext;\n",
       "};\n",
       "\n",
       "mpl.figure.prototype._canvas_extra_style = function (_canvas_div) {};\n",
       "\n",
       "mpl.figure.prototype._root_extra_style = function (_canvas_div) {};\n",
       "\n",
       "mpl.figure.prototype._init_canvas = function () {\n",
       "    var fig = this;\n",
       "\n",
       "    var canvas_div = (this.canvas_div = document.createElement('div'));\n",
       "    canvas_div.setAttribute(\n",
       "        'style',\n",
       "        'border: 1px solid #ddd;' +\n",
       "            'box-sizing: content-box;' +\n",
       "            'clear: both;' +\n",
       "            'min-height: 1px;' +\n",
       "            'min-width: 1px;' +\n",
       "            'outline: 0;' +\n",
       "            'overflow: hidden;' +\n",
       "            'position: relative;' +\n",
       "            'resize: both;'\n",
       "    );\n",
       "\n",
       "    function on_keyboard_event_closure(name) {\n",
       "        return function (event) {\n",
       "            return fig.key_event(event, name);\n",
       "        };\n",
       "    }\n",
       "\n",
       "    canvas_div.addEventListener(\n",
       "        'keydown',\n",
       "        on_keyboard_event_closure('key_press')\n",
       "    );\n",
       "    canvas_div.addEventListener(\n",
       "        'keyup',\n",
       "        on_keyboard_event_closure('key_release')\n",
       "    );\n",
       "\n",
       "    this._canvas_extra_style(canvas_div);\n",
       "    this.root.appendChild(canvas_div);\n",
       "\n",
       "    var canvas = (this.canvas = document.createElement('canvas'));\n",
       "    canvas.classList.add('mpl-canvas');\n",
       "    canvas.setAttribute('style', 'box-sizing: content-box;');\n",
       "\n",
       "    this.context = canvas.getContext('2d');\n",
       "\n",
       "    var backingStore =\n",
       "        this.context.backingStorePixelRatio ||\n",
       "        this.context.webkitBackingStorePixelRatio ||\n",
       "        this.context.mozBackingStorePixelRatio ||\n",
       "        this.context.msBackingStorePixelRatio ||\n",
       "        this.context.oBackingStorePixelRatio ||\n",
       "        this.context.backingStorePixelRatio ||\n",
       "        1;\n",
       "\n",
       "    this.ratio = (window.devicePixelRatio || 1) / backingStore;\n",
       "    if (this.ratio !== 1) {\n",
       "        fig.send_message('set_dpi_ratio', { dpi_ratio: this.ratio });\n",
       "    }\n",
       "\n",
       "    var rubberband_canvas = (this.rubberband_canvas = document.createElement(\n",
       "        'canvas'\n",
       "    ));\n",
       "    rubberband_canvas.setAttribute(\n",
       "        'style',\n",
       "        'box-sizing: content-box; position: absolute; left: 0; top: 0; z-index: 1;'\n",
       "    );\n",
       "\n",
       "    // Apply a ponyfill if ResizeObserver is not implemented by browser.\n",
       "    if (this.ResizeObserver === undefined) {\n",
       "        if (window.ResizeObserver !== undefined) {\n",
       "            this.ResizeObserver = window.ResizeObserver;\n",
       "        } else {\n",
       "            var obs = _JSXTOOLS_RESIZE_OBSERVER({});\n",
       "            this.ResizeObserver = obs.ResizeObserver;\n",
       "        }\n",
       "    }\n",
       "\n",
       "    this.resizeObserverInstance = new this.ResizeObserver(function (entries) {\n",
       "        var nentries = entries.length;\n",
       "        for (var i = 0; i < nentries; i++) {\n",
       "            var entry = entries[i];\n",
       "            var width, height;\n",
       "            if (entry.contentBoxSize) {\n",
       "                if (entry.contentBoxSize instanceof Array) {\n",
       "                    // Chrome 84 implements new version of spec.\n",
       "                    width = entry.contentBoxSize[0].inlineSize;\n",
       "                    height = entry.contentBoxSize[0].blockSize;\n",
       "                } else {\n",
       "                    // Firefox implements old version of spec.\n",
       "                    width = entry.contentBoxSize.inlineSize;\n",
       "                    height = entry.contentBoxSize.blockSize;\n",
       "                }\n",
       "            } else {\n",
       "                // Chrome <84 implements even older version of spec.\n",
       "                width = entry.contentRect.width;\n",
       "                height = entry.contentRect.height;\n",
       "            }\n",
       "\n",
       "            // Keep the size of the canvas and rubber band canvas in sync with\n",
       "            // the canvas container.\n",
       "            if (entry.devicePixelContentBoxSize) {\n",
       "                // Chrome 84 implements new version of spec.\n",
       "                canvas.setAttribute(\n",
       "                    'width',\n",
       "                    entry.devicePixelContentBoxSize[0].inlineSize\n",
       "                );\n",
       "                canvas.setAttribute(\n",
       "                    'height',\n",
       "                    entry.devicePixelContentBoxSize[0].blockSize\n",
       "                );\n",
       "            } else {\n",
       "                canvas.setAttribute('width', width * fig.ratio);\n",
       "                canvas.setAttribute('height', height * fig.ratio);\n",
       "            }\n",
       "            canvas.setAttribute(\n",
       "                'style',\n",
       "                'width: ' + width + 'px; height: ' + height + 'px;'\n",
       "            );\n",
       "\n",
       "            rubberband_canvas.setAttribute('width', width);\n",
       "            rubberband_canvas.setAttribute('height', height);\n",
       "\n",
       "            // And update the size in Python. We ignore the initial 0/0 size\n",
       "            // that occurs as the element is placed into the DOM, which should\n",
       "            // otherwise not happen due to the minimum size styling.\n",
       "            if (width != 0 && height != 0) {\n",
       "                fig.request_resize(width, height);\n",
       "            }\n",
       "        }\n",
       "    });\n",
       "    this.resizeObserverInstance.observe(canvas_div);\n",
       "\n",
       "    function on_mouse_event_closure(name) {\n",
       "        return function (event) {\n",
       "            return fig.mouse_event(event, name);\n",
       "        };\n",
       "    }\n",
       "\n",
       "    rubberband_canvas.addEventListener(\n",
       "        'mousedown',\n",
       "        on_mouse_event_closure('button_press')\n",
       "    );\n",
       "    rubberband_canvas.addEventListener(\n",
       "        'mouseup',\n",
       "        on_mouse_event_closure('button_release')\n",
       "    );\n",
       "    // Throttle sequential mouse events to 1 every 20ms.\n",
       "    rubberband_canvas.addEventListener(\n",
       "        'mousemove',\n",
       "        on_mouse_event_closure('motion_notify')\n",
       "    );\n",
       "\n",
       "    rubberband_canvas.addEventListener(\n",
       "        'mouseenter',\n",
       "        on_mouse_event_closure('figure_enter')\n",
       "    );\n",
       "    rubberband_canvas.addEventListener(\n",
       "        'mouseleave',\n",
       "        on_mouse_event_closure('figure_leave')\n",
       "    );\n",
       "\n",
       "    canvas_div.addEventListener('wheel', function (event) {\n",
       "        if (event.deltaY < 0) {\n",
       "            event.step = 1;\n",
       "        } else {\n",
       "            event.step = -1;\n",
       "        }\n",
       "        on_mouse_event_closure('scroll')(event);\n",
       "    });\n",
       "\n",
       "    canvas_div.appendChild(canvas);\n",
       "    canvas_div.appendChild(rubberband_canvas);\n",
       "\n",
       "    this.rubberband_context = rubberband_canvas.getContext('2d');\n",
       "    this.rubberband_context.strokeStyle = '#000000';\n",
       "\n",
       "    this._resize_canvas = function (width, height, forward) {\n",
       "        if (forward) {\n",
       "            canvas_div.style.width = width + 'px';\n",
       "            canvas_div.style.height = height + 'px';\n",
       "        }\n",
       "    };\n",
       "\n",
       "    // Disable right mouse context menu.\n",
       "    this.rubberband_canvas.addEventListener('contextmenu', function (_e) {\n",
       "        event.preventDefault();\n",
       "        return false;\n",
       "    });\n",
       "\n",
       "    function set_focus() {\n",
       "        canvas.focus();\n",
       "        canvas_div.focus();\n",
       "    }\n",
       "\n",
       "    window.setTimeout(set_focus, 100);\n",
       "};\n",
       "\n",
       "mpl.figure.prototype._init_toolbar = function () {\n",
       "    var fig = this;\n",
       "\n",
       "    var toolbar = document.createElement('div');\n",
       "    toolbar.classList = 'mpl-toolbar';\n",
       "    this.root.appendChild(toolbar);\n",
       "\n",
       "    function on_click_closure(name) {\n",
       "        return function (_event) {\n",
       "            return fig.toolbar_button_onclick(name);\n",
       "        };\n",
       "    }\n",
       "\n",
       "    function on_mouseover_closure(tooltip) {\n",
       "        return function (event) {\n",
       "            if (!event.currentTarget.disabled) {\n",
       "                return fig.toolbar_button_onmouseover(tooltip);\n",
       "            }\n",
       "        };\n",
       "    }\n",
       "\n",
       "    fig.buttons = {};\n",
       "    var buttonGroup = document.createElement('div');\n",
       "    buttonGroup.classList = 'mpl-button-group';\n",
       "    for (var toolbar_ind in mpl.toolbar_items) {\n",
       "        var name = mpl.toolbar_items[toolbar_ind][0];\n",
       "        var tooltip = mpl.toolbar_items[toolbar_ind][1];\n",
       "        var image = mpl.toolbar_items[toolbar_ind][2];\n",
       "        var method_name = mpl.toolbar_items[toolbar_ind][3];\n",
       "\n",
       "        if (!name) {\n",
       "            /* Instead of a spacer, we start a new button group. */\n",
       "            if (buttonGroup.hasChildNodes()) {\n",
       "                toolbar.appendChild(buttonGroup);\n",
       "            }\n",
       "            buttonGroup = document.createElement('div');\n",
       "            buttonGroup.classList = 'mpl-button-group';\n",
       "            continue;\n",
       "        }\n",
       "\n",
       "        var button = (fig.buttons[name] = document.createElement('button'));\n",
       "        button.classList = 'mpl-widget';\n",
       "        button.setAttribute('role', 'button');\n",
       "        button.setAttribute('aria-disabled', 'false');\n",
       "        button.addEventListener('click', on_click_closure(method_name));\n",
       "        button.addEventListener('mouseover', on_mouseover_closure(tooltip));\n",
       "\n",
       "        var icon_img = document.createElement('img');\n",
       "        icon_img.src = '_images/' + image + '.png';\n",
       "        icon_img.srcset = '_images/' + image + '_large.png 2x';\n",
       "        icon_img.alt = tooltip;\n",
       "        button.appendChild(icon_img);\n",
       "\n",
       "        buttonGroup.appendChild(button);\n",
       "    }\n",
       "\n",
       "    if (buttonGroup.hasChildNodes()) {\n",
       "        toolbar.appendChild(buttonGroup);\n",
       "    }\n",
       "\n",
       "    var fmt_picker = document.createElement('select');\n",
       "    fmt_picker.classList = 'mpl-widget';\n",
       "    toolbar.appendChild(fmt_picker);\n",
       "    this.format_dropdown = fmt_picker;\n",
       "\n",
       "    for (var ind in mpl.extensions) {\n",
       "        var fmt = mpl.extensions[ind];\n",
       "        var option = document.createElement('option');\n",
       "        option.selected = fmt === mpl.default_extension;\n",
       "        option.innerHTML = fmt;\n",
       "        fmt_picker.appendChild(option);\n",
       "    }\n",
       "\n",
       "    var status_bar = document.createElement('span');\n",
       "    status_bar.classList = 'mpl-message';\n",
       "    toolbar.appendChild(status_bar);\n",
       "    this.message = status_bar;\n",
       "};\n",
       "\n",
       "mpl.figure.prototype.request_resize = function (x_pixels, y_pixels) {\n",
       "    // Request matplotlib to resize the figure. Matplotlib will then trigger a resize in the client,\n",
       "    // which will in turn request a refresh of the image.\n",
       "    this.send_message('resize', { width: x_pixels, height: y_pixels });\n",
       "};\n",
       "\n",
       "mpl.figure.prototype.send_message = function (type, properties) {\n",
       "    properties['type'] = type;\n",
       "    properties['figure_id'] = this.id;\n",
       "    this.ws.send(JSON.stringify(properties));\n",
       "};\n",
       "\n",
       "mpl.figure.prototype.send_draw_message = function () {\n",
       "    if (!this.waiting) {\n",
       "        this.waiting = true;\n",
       "        this.ws.send(JSON.stringify({ type: 'draw', figure_id: this.id }));\n",
       "    }\n",
       "};\n",
       "\n",
       "mpl.figure.prototype.handle_save = function (fig, _msg) {\n",
       "    var format_dropdown = fig.format_dropdown;\n",
       "    var format = format_dropdown.options[format_dropdown.selectedIndex].value;\n",
       "    fig.ondownload(fig, format);\n",
       "};\n",
       "\n",
       "mpl.figure.prototype.handle_resize = function (fig, msg) {\n",
       "    var size = msg['size'];\n",
       "    if (size[0] !== fig.canvas.width || size[1] !== fig.canvas.height) {\n",
       "        fig._resize_canvas(size[0], size[1], msg['forward']);\n",
       "        fig.send_message('refresh', {});\n",
       "    }\n",
       "};\n",
       "\n",
       "mpl.figure.prototype.handle_rubberband = function (fig, msg) {\n",
       "    var x0 = msg['x0'] / fig.ratio;\n",
       "    var y0 = (fig.canvas.height - msg['y0']) / fig.ratio;\n",
       "    var x1 = msg['x1'] / fig.ratio;\n",
       "    var y1 = (fig.canvas.height - msg['y1']) / fig.ratio;\n",
       "    x0 = Math.floor(x0) + 0.5;\n",
       "    y0 = Math.floor(y0) + 0.5;\n",
       "    x1 = Math.floor(x1) + 0.5;\n",
       "    y1 = Math.floor(y1) + 0.5;\n",
       "    var min_x = Math.min(x0, x1);\n",
       "    var min_y = Math.min(y0, y1);\n",
       "    var width = Math.abs(x1 - x0);\n",
       "    var height = Math.abs(y1 - y0);\n",
       "\n",
       "    fig.rubberband_context.clearRect(\n",
       "        0,\n",
       "        0,\n",
       "        fig.canvas.width / fig.ratio,\n",
       "        fig.canvas.height / fig.ratio\n",
       "    );\n",
       "\n",
       "    fig.rubberband_context.strokeRect(min_x, min_y, width, height);\n",
       "};\n",
       "\n",
       "mpl.figure.prototype.handle_figure_label = function (fig, msg) {\n",
       "    // Updates the figure title.\n",
       "    fig.header.textContent = msg['label'];\n",
       "};\n",
       "\n",
       "mpl.figure.prototype.handle_cursor = function (fig, msg) {\n",
       "    var cursor = msg['cursor'];\n",
       "    switch (cursor) {\n",
       "        case 0:\n",
       "            cursor = 'pointer';\n",
       "            break;\n",
       "        case 1:\n",
       "            cursor = 'default';\n",
       "            break;\n",
       "        case 2:\n",
       "            cursor = 'crosshair';\n",
       "            break;\n",
       "        case 3:\n",
       "            cursor = 'move';\n",
       "            break;\n",
       "    }\n",
       "    fig.rubberband_canvas.style.cursor = cursor;\n",
       "};\n",
       "\n",
       "mpl.figure.prototype.handle_message = function (fig, msg) {\n",
       "    fig.message.textContent = msg['message'];\n",
       "};\n",
       "\n",
       "mpl.figure.prototype.handle_draw = function (fig, _msg) {\n",
       "    // Request the server to send over a new figure.\n",
       "    fig.send_draw_message();\n",
       "};\n",
       "\n",
       "mpl.figure.prototype.handle_image_mode = function (fig, msg) {\n",
       "    fig.image_mode = msg['mode'];\n",
       "};\n",
       "\n",
       "mpl.figure.prototype.handle_history_buttons = function (fig, msg) {\n",
       "    for (var key in msg) {\n",
       "        if (!(key in fig.buttons)) {\n",
       "            continue;\n",
       "        }\n",
       "        fig.buttons[key].disabled = !msg[key];\n",
       "        fig.buttons[key].setAttribute('aria-disabled', !msg[key]);\n",
       "    }\n",
       "};\n",
       "\n",
       "mpl.figure.prototype.handle_navigate_mode = function (fig, msg) {\n",
       "    if (msg['mode'] === 'PAN') {\n",
       "        fig.buttons['Pan'].classList.add('active');\n",
       "        fig.buttons['Zoom'].classList.remove('active');\n",
       "    } else if (msg['mode'] === 'ZOOM') {\n",
       "        fig.buttons['Pan'].classList.remove('active');\n",
       "        fig.buttons['Zoom'].classList.add('active');\n",
       "    } else {\n",
       "        fig.buttons['Pan'].classList.remove('active');\n",
       "        fig.buttons['Zoom'].classList.remove('active');\n",
       "    }\n",
       "};\n",
       "\n",
       "mpl.figure.prototype.updated_canvas_event = function () {\n",
       "    // Called whenever the canvas gets updated.\n",
       "    this.send_message('ack', {});\n",
       "};\n",
       "\n",
       "// A function to construct a web socket function for onmessage handling.\n",
       "// Called in the figure constructor.\n",
       "mpl.figure.prototype._make_on_message_function = function (fig) {\n",
       "    return function socket_on_message(evt) {\n",
       "        if (evt.data instanceof Blob) {\n",
       "            /* FIXME: We get \"Resource interpreted as Image but\n",
       "             * transferred with MIME type text/plain:\" errors on\n",
       "             * Chrome.  But how to set the MIME type?  It doesn't seem\n",
       "             * to be part of the websocket stream */\n",
       "            evt.data.type = 'image/png';\n",
       "\n",
       "            /* Free the memory for the previous frames */\n",
       "            if (fig.imageObj.src) {\n",
       "                (window.URL || window.webkitURL).revokeObjectURL(\n",
       "                    fig.imageObj.src\n",
       "                );\n",
       "            }\n",
       "\n",
       "            fig.imageObj.src = (window.URL || window.webkitURL).createObjectURL(\n",
       "                evt.data\n",
       "            );\n",
       "            fig.updated_canvas_event();\n",
       "            fig.waiting = false;\n",
       "            return;\n",
       "        } else if (\n",
       "            typeof evt.data === 'string' &&\n",
       "            evt.data.slice(0, 21) === 'data:image/png;base64'\n",
       "        ) {\n",
       "            fig.imageObj.src = evt.data;\n",
       "            fig.updated_canvas_event();\n",
       "            fig.waiting = false;\n",
       "            return;\n",
       "        }\n",
       "\n",
       "        var msg = JSON.parse(evt.data);\n",
       "        var msg_type = msg['type'];\n",
       "\n",
       "        // Call the  \"handle_{type}\" callback, which takes\n",
       "        // the figure and JSON message as its only arguments.\n",
       "        try {\n",
       "            var callback = fig['handle_' + msg_type];\n",
       "        } catch (e) {\n",
       "            console.log(\n",
       "                \"No handler for the '\" + msg_type + \"' message type: \",\n",
       "                msg\n",
       "            );\n",
       "            return;\n",
       "        }\n",
       "\n",
       "        if (callback) {\n",
       "            try {\n",
       "                // console.log(\"Handling '\" + msg_type + \"' message: \", msg);\n",
       "                callback(fig, msg);\n",
       "            } catch (e) {\n",
       "                console.log(\n",
       "                    \"Exception inside the 'handler_\" + msg_type + \"' callback:\",\n",
       "                    e,\n",
       "                    e.stack,\n",
       "                    msg\n",
       "                );\n",
       "            }\n",
       "        }\n",
       "    };\n",
       "};\n",
       "\n",
       "// from http://stackoverflow.com/questions/1114465/getting-mouse-location-in-canvas\n",
       "mpl.findpos = function (e) {\n",
       "    //this section is from http://www.quirksmode.org/js/events_properties.html\n",
       "    var targ;\n",
       "    if (!e) {\n",
       "        e = window.event;\n",
       "    }\n",
       "    if (e.target) {\n",
       "        targ = e.target;\n",
       "    } else if (e.srcElement) {\n",
       "        targ = e.srcElement;\n",
       "    }\n",
       "    if (targ.nodeType === 3) {\n",
       "        // defeat Safari bug\n",
       "        targ = targ.parentNode;\n",
       "    }\n",
       "\n",
       "    // pageX,Y are the mouse positions relative to the document\n",
       "    var boundingRect = targ.getBoundingClientRect();\n",
       "    var x = e.pageX - (boundingRect.left + document.body.scrollLeft);\n",
       "    var y = e.pageY - (boundingRect.top + document.body.scrollTop);\n",
       "\n",
       "    return { x: x, y: y };\n",
       "};\n",
       "\n",
       "/*\n",
       " * return a copy of an object with only non-object keys\n",
       " * we need this to avoid circular references\n",
       " * http://stackoverflow.com/a/24161582/3208463\n",
       " */\n",
       "function simpleKeys(original) {\n",
       "    return Object.keys(original).reduce(function (obj, key) {\n",
       "        if (typeof original[key] !== 'object') {\n",
       "            obj[key] = original[key];\n",
       "        }\n",
       "        return obj;\n",
       "    }, {});\n",
       "}\n",
       "\n",
       "mpl.figure.prototype.mouse_event = function (event, name) {\n",
       "    var canvas_pos = mpl.findpos(event);\n",
       "\n",
       "    if (name === 'button_press') {\n",
       "        this.canvas.focus();\n",
       "        this.canvas_div.focus();\n",
       "    }\n",
       "\n",
       "    var x = canvas_pos.x * this.ratio;\n",
       "    var y = canvas_pos.y * this.ratio;\n",
       "\n",
       "    this.send_message(name, {\n",
       "        x: x,\n",
       "        y: y,\n",
       "        button: event.button,\n",
       "        step: event.step,\n",
       "        guiEvent: simpleKeys(event),\n",
       "    });\n",
       "\n",
       "    /* This prevents the web browser from automatically changing to\n",
       "     * the text insertion cursor when the button is pressed.  We want\n",
       "     * to control all of the cursor setting manually through the\n",
       "     * 'cursor' event from matplotlib */\n",
       "    event.preventDefault();\n",
       "    return false;\n",
       "};\n",
       "\n",
       "mpl.figure.prototype._key_event_extra = function (_event, _name) {\n",
       "    // Handle any extra behaviour associated with a key event\n",
       "};\n",
       "\n",
       "mpl.figure.prototype.key_event = function (event, name) {\n",
       "    // Prevent repeat events\n",
       "    if (name === 'key_press') {\n",
       "        if (event.which === this._key) {\n",
       "            return;\n",
       "        } else {\n",
       "            this._key = event.which;\n",
       "        }\n",
       "    }\n",
       "    if (name === 'key_release') {\n",
       "        this._key = null;\n",
       "    }\n",
       "\n",
       "    var value = '';\n",
       "    if (event.ctrlKey && event.which !== 17) {\n",
       "        value += 'ctrl+';\n",
       "    }\n",
       "    if (event.altKey && event.which !== 18) {\n",
       "        value += 'alt+';\n",
       "    }\n",
       "    if (event.shiftKey && event.which !== 16) {\n",
       "        value += 'shift+';\n",
       "    }\n",
       "\n",
       "    value += 'k';\n",
       "    value += event.which.toString();\n",
       "\n",
       "    this._key_event_extra(event, name);\n",
       "\n",
       "    this.send_message(name, { key: value, guiEvent: simpleKeys(event) });\n",
       "    return false;\n",
       "};\n",
       "\n",
       "mpl.figure.prototype.toolbar_button_onclick = function (name) {\n",
       "    if (name === 'download') {\n",
       "        this.handle_save(this, null);\n",
       "    } else {\n",
       "        this.send_message('toolbar_button', { name: name });\n",
       "    }\n",
       "};\n",
       "\n",
       "mpl.figure.prototype.toolbar_button_onmouseover = function (tooltip) {\n",
       "    this.message.textContent = tooltip;\n",
       "};\n",
       "\n",
       "///////////////// REMAINING CONTENT GENERATED BY embed_js.py /////////////////\n",
       "// prettier-ignore\n",
       "var _JSXTOOLS_RESIZE_OBSERVER=function(A){var t,i=new WeakMap,n=new WeakMap,a=new WeakMap,r=new WeakMap,o=new Set;function s(e){if(!(this instanceof s))throw new TypeError(\"Constructor requires 'new' operator\");i.set(this,e)}function h(){throw new TypeError(\"Function is not a constructor\")}function c(e,t,i,n){e=0 in arguments?Number(arguments[0]):0,t=1 in arguments?Number(arguments[1]):0,i=2 in arguments?Number(arguments[2]):0,n=3 in arguments?Number(arguments[3]):0,this.right=(this.x=this.left=e)+(this.width=i),this.bottom=(this.y=this.top=t)+(this.height=n),Object.freeze(this)}function d(){t=requestAnimationFrame(d);var s=new WeakMap,p=new Set;o.forEach((function(t){r.get(t).forEach((function(i){var r=t instanceof window.SVGElement,o=a.get(t),d=r?0:parseFloat(o.paddingTop),f=r?0:parseFloat(o.paddingRight),l=r?0:parseFloat(o.paddingBottom),u=r?0:parseFloat(o.paddingLeft),g=r?0:parseFloat(o.borderTopWidth),m=r?0:parseFloat(o.borderRightWidth),w=r?0:parseFloat(o.borderBottomWidth),b=u+f,F=d+l,v=(r?0:parseFloat(o.borderLeftWidth))+m,W=g+w,y=r?0:t.offsetHeight-W-t.clientHeight,E=r?0:t.offsetWidth-v-t.clientWidth,R=b+v,z=F+W,M=r?t.width:parseFloat(o.width)-R-E,O=r?t.height:parseFloat(o.height)-z-y;if(n.has(t)){var k=n.get(t);if(k[0]===M&&k[1]===O)return}n.set(t,[M,O]);var S=Object.create(h.prototype);S.target=t,S.contentRect=new c(u,d,M,O),s.has(i)||(s.set(i,[]),p.add(i)),s.get(i).push(S)}))})),p.forEach((function(e){i.get(e).call(e,s.get(e),e)}))}return s.prototype.observe=function(i){if(i instanceof window.Element){r.has(i)||(r.set(i,new Set),o.add(i),a.set(i,window.getComputedStyle(i)));var n=r.get(i);n.has(this)||n.add(this),cancelAnimationFrame(t),t=requestAnimationFrame(d)}},s.prototype.unobserve=function(i){if(i instanceof window.Element&&r.has(i)){var n=r.get(i);n.has(this)&&(n.delete(this),n.size||(r.delete(i),o.delete(i))),n.size||r.delete(i),o.size||cancelAnimationFrame(t)}},A.DOMRectReadOnly=c,A.ResizeObserver=s,A.ResizeObserverEntry=h,A}; // eslint-disable-line\n",
       "mpl.toolbar_items = [[\"Home\", \"Reset original view\", \"fa fa-home icon-home\", \"home\"], [\"Back\", \"Back to previous view\", \"fa fa-arrow-left icon-arrow-left\", \"back\"], [\"Forward\", \"Forward to next view\", \"fa fa-arrow-right icon-arrow-right\", \"forward\"], [\"\", \"\", \"\", \"\"], [\"Pan\", \"Left button pans, Right button zooms\\nx/y fixes axis, CTRL fixes aspect\", \"fa fa-arrows icon-move\", \"pan\"], [\"Zoom\", \"Zoom to rectangle\\nx/y fixes axis, CTRL fixes aspect\", \"fa fa-square-o icon-check-empty\", \"zoom\"], [\"\", \"\", \"\", \"\"], [\"Download\", \"Download plot\", \"fa fa-floppy-o icon-save\", \"download\"]];\n",
       "\n",
       "mpl.extensions = [\"eps\", \"jpeg\", \"pdf\", \"png\", \"ps\", \"raw\", \"svg\", \"tif\"];\n",
       "\n",
       "mpl.default_extension = \"png\";/* global mpl */\n",
       "\n",
       "var comm_websocket_adapter = function (comm) {\n",
       "    // Create a \"websocket\"-like object which calls the given IPython comm\n",
       "    // object with the appropriate methods. Currently this is a non binary\n",
       "    // socket, so there is still some room for performance tuning.\n",
       "    var ws = {};\n",
       "\n",
       "    ws.close = function () {\n",
       "        comm.close();\n",
       "    };\n",
       "    ws.send = function (m) {\n",
       "        //console.log('sending', m);\n",
       "        comm.send(m);\n",
       "    };\n",
       "    // Register the callback with on_msg.\n",
       "    comm.on_msg(function (msg) {\n",
       "        //console.log('receiving', msg['content']['data'], msg);\n",
       "        // Pass the mpl event to the overridden (by mpl) onmessage function.\n",
       "        ws.onmessage(msg['content']['data']);\n",
       "    });\n",
       "    return ws;\n",
       "};\n",
       "\n",
       "mpl.mpl_figure_comm = function (comm, msg) {\n",
       "    // This is the function which gets called when the mpl process\n",
       "    // starts-up an IPython Comm through the \"matplotlib\" channel.\n",
       "\n",
       "    var id = msg.content.data.id;\n",
       "    // Get hold of the div created by the display call when the Comm\n",
       "    // socket was opened in Python.\n",
       "    var element = document.getElementById(id);\n",
       "    var ws_proxy = comm_websocket_adapter(comm);\n",
       "\n",
       "    function ondownload(figure, _format) {\n",
       "        window.open(figure.canvas.toDataURL());\n",
       "    }\n",
       "\n",
       "    var fig = new mpl.figure(id, ws_proxy, ondownload, element);\n",
       "\n",
       "    // Call onopen now - mpl needs it, as it is assuming we've passed it a real\n",
       "    // web socket which is closed, not our websocket->open comm proxy.\n",
       "    ws_proxy.onopen();\n",
       "\n",
       "    fig.parent_element = element;\n",
       "    fig.cell_info = mpl.find_output_cell(\"<div id='\" + id + \"'></div>\");\n",
       "    if (!fig.cell_info) {\n",
       "        console.error('Failed to find cell for figure', id, fig);\n",
       "        return;\n",
       "    }\n",
       "    fig.cell_info[0].output_area.element.on(\n",
       "        'cleared',\n",
       "        { fig: fig },\n",
       "        fig._remove_fig_handler\n",
       "    );\n",
       "};\n",
       "\n",
       "mpl.figure.prototype.handle_close = function (fig, msg) {\n",
       "    var width = fig.canvas.width / fig.ratio;\n",
       "    fig.cell_info[0].output_area.element.off(\n",
       "        'cleared',\n",
       "        fig._remove_fig_handler\n",
       "    );\n",
       "    fig.resizeObserverInstance.unobserve(fig.canvas_div);\n",
       "\n",
       "    // Update the output cell to use the data from the current canvas.\n",
       "    fig.push_to_output();\n",
       "    var dataURL = fig.canvas.toDataURL();\n",
       "    // Re-enable the keyboard manager in IPython - without this line, in FF,\n",
       "    // the notebook keyboard shortcuts fail.\n",
       "    IPython.keyboard_manager.enable();\n",
       "    fig.parent_element.innerHTML =\n",
       "        '<img src=\"' + dataURL + '\" width=\"' + width + '\">';\n",
       "    fig.close_ws(fig, msg);\n",
       "};\n",
       "\n",
       "mpl.figure.prototype.close_ws = function (fig, msg) {\n",
       "    fig.send_message('closing', msg);\n",
       "    // fig.ws.close()\n",
       "};\n",
       "\n",
       "mpl.figure.prototype.push_to_output = function (_remove_interactive) {\n",
       "    // Turn the data on the canvas into data in the output cell.\n",
       "    var width = this.canvas.width / this.ratio;\n",
       "    var dataURL = this.canvas.toDataURL();\n",
       "    this.cell_info[1]['text/html'] =\n",
       "        '<img src=\"' + dataURL + '\" width=\"' + width + '\">';\n",
       "};\n",
       "\n",
       "mpl.figure.prototype.updated_canvas_event = function () {\n",
       "    // Tell IPython that the notebook contents must change.\n",
       "    IPython.notebook.set_dirty(true);\n",
       "    this.send_message('ack', {});\n",
       "    var fig = this;\n",
       "    // Wait a second, then push the new image to the DOM so\n",
       "    // that it is saved nicely (might be nice to debounce this).\n",
       "    setTimeout(function () {\n",
       "        fig.push_to_output();\n",
       "    }, 1000);\n",
       "};\n",
       "\n",
       "mpl.figure.prototype._init_toolbar = function () {\n",
       "    var fig = this;\n",
       "\n",
       "    var toolbar = document.createElement('div');\n",
       "    toolbar.classList = 'btn-toolbar';\n",
       "    this.root.appendChild(toolbar);\n",
       "\n",
       "    function on_click_closure(name) {\n",
       "        return function (_event) {\n",
       "            return fig.toolbar_button_onclick(name);\n",
       "        };\n",
       "    }\n",
       "\n",
       "    function on_mouseover_closure(tooltip) {\n",
       "        return function (event) {\n",
       "            if (!event.currentTarget.disabled) {\n",
       "                return fig.toolbar_button_onmouseover(tooltip);\n",
       "            }\n",
       "        };\n",
       "    }\n",
       "\n",
       "    fig.buttons = {};\n",
       "    var buttonGroup = document.createElement('div');\n",
       "    buttonGroup.classList = 'btn-group';\n",
       "    var button;\n",
       "    for (var toolbar_ind in mpl.toolbar_items) {\n",
       "        var name = mpl.toolbar_items[toolbar_ind][0];\n",
       "        var tooltip = mpl.toolbar_items[toolbar_ind][1];\n",
       "        var image = mpl.toolbar_items[toolbar_ind][2];\n",
       "        var method_name = mpl.toolbar_items[toolbar_ind][3];\n",
       "\n",
       "        if (!name) {\n",
       "            /* Instead of a spacer, we start a new button group. */\n",
       "            if (buttonGroup.hasChildNodes()) {\n",
       "                toolbar.appendChild(buttonGroup);\n",
       "            }\n",
       "            buttonGroup = document.createElement('div');\n",
       "            buttonGroup.classList = 'btn-group';\n",
       "            continue;\n",
       "        }\n",
       "\n",
       "        button = fig.buttons[name] = document.createElement('button');\n",
       "        button.classList = 'btn btn-default';\n",
       "        button.href = '#';\n",
       "        button.title = name;\n",
       "        button.innerHTML = '<i class=\"fa ' + image + ' fa-lg\"></i>';\n",
       "        button.addEventListener('click', on_click_closure(method_name));\n",
       "        button.addEventListener('mouseover', on_mouseover_closure(tooltip));\n",
       "        buttonGroup.appendChild(button);\n",
       "    }\n",
       "\n",
       "    if (buttonGroup.hasChildNodes()) {\n",
       "        toolbar.appendChild(buttonGroup);\n",
       "    }\n",
       "\n",
       "    // Add the status bar.\n",
       "    var status_bar = document.createElement('span');\n",
       "    status_bar.classList = 'mpl-message pull-right';\n",
       "    toolbar.appendChild(status_bar);\n",
       "    this.message = status_bar;\n",
       "\n",
       "    // Add the close button to the window.\n",
       "    var buttongrp = document.createElement('div');\n",
       "    buttongrp.classList = 'btn-group inline pull-right';\n",
       "    button = document.createElement('button');\n",
       "    button.classList = 'btn btn-mini btn-primary';\n",
       "    button.href = '#';\n",
       "    button.title = 'Stop Interaction';\n",
       "    button.innerHTML = '<i class=\"fa fa-power-off icon-remove icon-large\"></i>';\n",
       "    button.addEventListener('click', function (_evt) {\n",
       "        fig.handle_close(fig, {});\n",
       "    });\n",
       "    button.addEventListener(\n",
       "        'mouseover',\n",
       "        on_mouseover_closure('Stop Interaction')\n",
       "    );\n",
       "    buttongrp.appendChild(button);\n",
       "    var titlebar = this.root.querySelector('.ui-dialog-titlebar');\n",
       "    titlebar.insertBefore(buttongrp, titlebar.firstChild);\n",
       "};\n",
       "\n",
       "mpl.figure.prototype._remove_fig_handler = function (event) {\n",
       "    var fig = event.data.fig;\n",
       "    if (event.target !== this) {\n",
       "        // Ignore bubbled events from children.\n",
       "        return;\n",
       "    }\n",
       "    fig.close_ws(fig, {});\n",
       "};\n",
       "\n",
       "mpl.figure.prototype._root_extra_style = function (el) {\n",
       "    el.style.boxSizing = 'content-box'; // override notebook setting of border-box.\n",
       "};\n",
       "\n",
       "mpl.figure.prototype._canvas_extra_style = function (el) {\n",
       "    // this is important to make the div 'focusable\n",
       "    el.setAttribute('tabindex', 0);\n",
       "    // reach out to IPython and tell the keyboard manager to turn it's self\n",
       "    // off when our div gets focus\n",
       "\n",
       "    // location in version 3\n",
       "    if (IPython.notebook.keyboard_manager) {\n",
       "        IPython.notebook.keyboard_manager.register_events(el);\n",
       "    } else {\n",
       "        // location in version 2\n",
       "        IPython.keyboard_manager.register_events(el);\n",
       "    }\n",
       "};\n",
       "\n",
       "mpl.figure.prototype._key_event_extra = function (event, _name) {\n",
       "    var manager = IPython.notebook.keyboard_manager;\n",
       "    if (!manager) {\n",
       "        manager = IPython.keyboard_manager;\n",
       "    }\n",
       "\n",
       "    // Check for shift+enter\n",
       "    if (event.shiftKey && event.which === 13) {\n",
       "        this.canvas_div.blur();\n",
       "        // select the cell after this one\n",
       "        var index = IPython.notebook.find_cell_index(this.cell_info[0]);\n",
       "        IPython.notebook.select(index + 1);\n",
       "    }\n",
       "};\n",
       "\n",
       "mpl.figure.prototype.handle_save = function (fig, _msg) {\n",
       "    fig.ondownload(fig, null);\n",
       "};\n",
       "\n",
       "mpl.find_output_cell = function (html_output) {\n",
       "    // Return the cell and output element which can be found *uniquely* in the notebook.\n",
       "    // Note - this is a bit hacky, but it is done because the \"notebook_saving.Notebook\"\n",
       "    // IPython event is triggered only after the cells have been serialised, which for\n",
       "    // our purposes (turning an active figure into a static one), is too late.\n",
       "    var cells = IPython.notebook.get_cells();\n",
       "    var ncells = cells.length;\n",
       "    for (var i = 0; i < ncells; i++) {\n",
       "        var cell = cells[i];\n",
       "        if (cell.cell_type === 'code') {\n",
       "            for (var j = 0; j < cell.output_area.outputs.length; j++) {\n",
       "                var data = cell.output_area.outputs[j];\n",
       "                if (data.data) {\n",
       "                    // IPython >= 3 moved mimebundle to data attribute of output\n",
       "                    data = data.data;\n",
       "                }\n",
       "                if (data['text/html'] === html_output) {\n",
       "                    return [cell, data, j];\n",
       "                }\n",
       "            }\n",
       "        }\n",
       "    }\n",
       "};\n",
       "\n",
       "// Register the function which deals with the matplotlib target/channel.\n",
       "// The kernel may be null if the page has been refreshed.\n",
       "if (IPython.notebook.kernel !== null) {\n",
       "    IPython.notebook.kernel.comm_manager.register_target(\n",
       "        'matplotlib',\n",
       "        mpl.mpl_figure_comm\n",
       "    );\n",
       "}\n"
      ],
      "text/plain": [
       "<IPython.core.display.Javascript object>"
      ]
     },
     "metadata": {},
     "output_type": "display_data"
    },
    {
     "data": {
      "text/html": [
       "<img src=\"data:image/png;base64,iVBORw0KGgoAAAANSUhEUgAAAZQAAAGUCAYAAAASxdSgAAAgAElEQVR4Xu3dCdxV0/7H8e/TREqalCgSKkRlbEJkuuXWRTLPQ/NEg7gobhTpioxXmUpIyXxV3EoKSZRKXOO/iyhp0lz/129vJ89Yz7Cfs85e57Ner15udc5ee73Xvn2fvddea2Vs3759uygIIIAAAggUQSDDCoFSBEG+igACCCAQCBAoXAgIIIAAApEIECiRMHIQBBBAAAEChWsAAQQQQCASAQIlEkYOggACCCBAoHANIIAAAghEIkCgRMLIQRBAAAEECBSuAQQQQACBSAQIlEgYOQgCCCCAAIHCNYAAAgggEIkAgRIJIwdBAAEEECBQuAYQQAABBCIRIFAiYeQgCCCAAAIECtcAAggggEAkAgRKJIwcBAEEEECAQOEaQAABBBCIRIBAiYSRgyCAAAIIEChcAwgggAACkQgQKJEwchAEEEAAAQKFawABBBBAIBIBAiUSRg6CAAIIIECgcA0ggAACCEQiQKBEwshBEEAAAQQIFK4BBBBAAIFIBAiUSBg5CAIIIIAAgcI1gAACCCAQiQCBEgkjB0EAAQQQIFC4BhBAAAEEIhEgUCJh5CAIIIAAAgQK1wACCCCAQCQCBEokjBwEAQQQQIBA4RpAAAEEEIhEgECJhJGDIIAAAggQKFwDCCCAAAKRCBAokTByEAQQQAABAoVrAAEEEEAgEgECJRJGDoIAAgggQKBwDSCAAAIIRCJAoETCyEEQQAABBAgUrgEEEEAAgUgECJRIGDkIAggggACBwjWAAAIIIBCJAIESCSMHQQABBBAgULgGEEAAAQQiESBQImHkIAgggAACBArXAAIIIIBAJAIESiSMHAQBBBBAgEDhGkAAAQQQiESAQImEkYMggAACCBAoXAMIIIAAApEIECiRMHIQBBBAAAEChWsAAQQQQCASAQIlEkYOggACCCBAoHANIIAAAghEIkCgRMLIQRBAAAEECBSuAQQQQACBSAQIlEgYOQgCCCCAAIHCNYAAAgggEIkAgRIJIwdBAAEEECBQuAYQQAABBCIRIFAiYeQgCCCAAAIECtcAAggggEAkAgRKJIwcBAEEEECAQOEaQAABBBCIRIBAiYSRgyCAAAIIEChcAwgggAACkQgQKJEwchAEEEAAAQKFawABBBBAIBIBAiUSRg6CAAIIIECgcA0ggAACCEQiQKBEwshBEEAAAQQIFK4BBBBAAIFIBAiUSBg5CAIIIIAAgcI1gAACCCAQiQCBEgkjB0EAAQQQIFC4BhBAAAEEIhEgUCJh5CAIIIAAAgQK1wACCCCAQCQCBEokjBwEAQQQQIBA4RpAAAEEEIhEgECJhJGDIIAAAggQKFwDCCCAAAKRCBAokTByEAQQQAABAoVrAAEEEEAgEgECJRJGDoIAAgggQKBwDSCAAAIIRCJAoETCyEEQQAABBAgUrgEEEEAAgUgECJRIGDkIAggggACBwjWAAAIIIBCJAIESCSMHQQABBBAgULgGEEAAAQQiESBQImHkIAgggAACBArXAAIIIIBAJAIESiSMHAQBBBBAgEDhGkAAAQQQiESAQImEkYMggAACCBAoXAMIIIAAApEIECiRMHIQBBBAAAEChWsAAQQQQCASAQIlEkYOggACCCBAoHANIIAAAghEIkCgRMLIQRBAAAEECBSuAQQQQACBSAQIlEgYOQgCCCCAAIHCNYAAAgggEIkAgRIJIwdBAAEEECBQuAYQQAABBCIRIFAiYeQgCCCAAAIECtcAAggggEAkAgRKJIwcBAEEEECAQOEaQAABBBCIRIBAiYSRgyCAAAIIEChcAwgggAACkQgQKJEwchAEEEAAAQKFawABBBBAIBIBAiUSRg6CAAIIIECgcA0ggAACCEQiQKBEwshBEEAAAQQIFK4BBBAIBJYsWaJx48apevXq6ty5MyoIFFiAQCkwGV9AwD+BrVu3qmnTppozZ07QuIkTJ+rss8/2r6G0qFgFCJRi5eXgCMRDYMiQIRowYIAGDx6sUaNGad26dVq0aJEqV64cjwZwlikhQKCkRDdwEgi4E1i8eLEaN26sNm3aaMKECZo7d66aNWum9u3ba+zYse5OjJpjJ0CgxK7LOGEEohOwR13NmzfXsmXLNG/ePFWsWDE4+MiRI9W9e3dNmjRJ7dq1i65CjuS1AIHidffSOAQQQCB5AgRK8qypCQEEEPBagEDxuntpHAIIIJA8AQIledbUhAACCHgtQKB43b00DoFQ4LvvvtNDDz2kyZMn6+uvv9aGDRtUq1at4M0ue114n332gQqBIgsQKEUm5AAIpLbAiBEj1LdvX23evDk40XLlymnTpk07fm8z42fMmKG6deumdkM4u5QXIFBSvos4QQQKL3Dfffepd+/ewQTF/v3767LLLgvuRrZt26aZM2eqY8eO+vzzz9WiRQu9++67ha+IbyIgiUDhMkDAUwELiJYtW6pGjRqaOnWq6tevn6OlCxcuVIMGDYI/X7p0qfbbbz9PNWhWMgQIlGQoUwcCSRbYvn27jjvuOH300Ud6+eWX1bZt2zzPYM8999TatWs1a9asYD0vCgKFFSBQCivH9xBIYQG7OznxxBODM7Qxkp0VmyVv5ZNPPlHDhg31/fff66abbgrC6Icffggej9WuXVsdOnQIHp9ZAFEQyE2AQOG6QMBDARuEHzZsWL5blpGRoTVr1gQD9rbisH3f7lbsTbCSJUsG4fLUU0/pyCOP1OzZs1W6dOl8H5sPpo8AgZI+fU1L00jg9NNP15QpUzR06FD169cvkpbfc889wbFef/11tW7dOpJjchC/BAgUv/qT1iAQCNidxIIFC3T//fcHizxGUcaPHx889hozZowuvvjiKA7JMTwTIFA861Cag4AJ2HL0NibSo0cP2TyUwhSb/GiD9evXrw+OZeMn//vf//TFF18Ej8IoCGQXIFC4JhDwUODSSy8N7iSqVq0q2+/E/ptXWbFihapUqZLjrxNL2Cf+4tBDD5XNa7HHaRQEchMgULguEPBQwCYtnnDCCUHLbAb88OHDdfLJJ2uPPfYI/uzbb7/VtGnT9OSTT+rcc8/N9bGYzUuxSY+rVq0KXil+5513dPPNNwcbb1EQIFC4BhBII4G7775bN954o2xOihV7k6tSpUrBYyxbeiVRpk+fvuMV453xJMZQbLD/1FNPTSNJmppfAe5Q8ivF51JbYMkSadw4m3Qhde6c2ueaxLP74IMP9OCDDwbLrNicEnsF2JZeqVmzplq1ahVMeGzUqFG+zsh2dyxfvrzOOecctgbOl1j6fYhASb8+96/FW7dKNsN7zpywbRMnSmef7V87Hbdo48aNQaCcdtppeuONNxyfDdWnogCBkoq9wjkVTGDIEGnAAGnwYGnUKGndOmnRIqly5YIdh08HAj///LOqVauWQ8NeQe7Zs6cGDhyo2267DS0EcggQKFwU8RZYvNjekZXatJEmTJDmzpWaNZNs4Hjs2Hi3zdHZX3HFFVqyZElwJ2KvB9sMelve/pVXXgkG+N9//31VrFjR0dlRbSoLECip3Duc284F7FFX8+aSrUU1b56U+Edu5EjJJvNNmiS1a4diAQUsOP71r39p3rx5+uWXX1SqVCkdfPDBateunfr06aMKFSoU8Ih8PF0ECJR06WnaiQACCBSzAIFSzMAcHgEEEEgXAQIlXXqadiKAAALFLECgFDMwh0cAAQTSRYBASZeeTpd23nyzdOed0plnSm++mS6tpp0IpIQAgZIS3cBJRCZgrw/bpDubl2LBQkEAgaQJEChJo6aipAjYgog//ijdd5901llJqZJKEEAgFCBQuBIQ8EBg+fLluvrqq4N1uQYNGuRBi2hCHAUIlDj2GueMQDaBq666Ss8//3yworDt+X7EEUdghEDSBQiUpJNTYbEJ3HCDNHx4+Kjr1VeLrZpUO7DNZm/evHmwm6KVa6+9NtgIi4JAsgUIlGSLU1/xCbRqJb3zjnTLLdLttxdfPSl2ZNv35JFHHtEyW4JGUr169fTCCy8Ey6VQEEimAIGSTG3qKl4B28b211/Tavl6C5G//e1v+umnn7R69WrZPvAWKGeccYbuuuuu4vXm6AhkEyBQuCT8EPjuO6l27bAt33zz5//2o3V5tsJCY8KECbJ94W1735UrVwYbaNlGWjamUqdOHc8FaF4qCRAoqdQbnEvhBWxlYdtUy1YcXrmy8MeJ0TdtB0bbPXHLli2qXLmyfv31V9kmWLvttlvQijPPPFP/+Mc/YtQiTjXuAgRK3HuQ8w8FbMMnGzc5+eRwHCUNioXFJAtSWZaerZdeein437bf+9SpU1WiRAnZPvAHHHBAGmjQxFQQIFBSoRc4h6ILtG0bvtl1/fXSvfcW/XgpfoSlS5cGdyfbtm3TSSedpMMPP1wPPfRQcNZjx47VJZdcou3bt6t169a6PY1eUEjxbvP+9AgU77s4TRpYq5a0dKn09NPSpZd632ibvPjqH69GP/vss3r33Xf18MMPB+22HRVvueUWTZkyJbhLsTEW23mRgkBxCxAoxS3M8YtfYMUKqWrVsJ4FC6QGDYq/Toc1fP/992rfvn1wd3LKKafIXht+/PHHg1eHrXz44Yf6+uuvdcEFFwS/b9u2rW699VaHZ0zV6SJAoKRLT/vczqlTpdNOk3bfXVqzRipVyufWauLEibrzj4Uvn3vuuWC+yWOPPRb8SgSK3Zn069dP77zzTjBgP3nyZK9NaFxqCBAoqdEPnEVRBO65R+rXTzr2WPvxvChHisV3V61apWHDhumoo44KBuOtZA6UOXPmBEuw2ByVoUOH6phjjtFFF10Ui7ZxkvEWIFDi3X+cvQnYP5bjxknXXSc9+mhamtjjLnvsZeWjjz5KSwMa7V6AQHHfB5xBUQUOPVT6/HPJBqU7dSrq0WL5fRuQHzVqVDAIb2MoFARcCBAoLtSpMzqB33+X9txT2rZNmj1batIkumPH6Ej2yvDo0aMJlBj1mY+nSqD42Ku0Ke0EHnzwQT3xxBMqVapU8NowBQEXAgSKC3XqRCBigQceeEBPPfWUSpcuHeyHQkHAhQCB4kKdOotH4Pnnw7e8bBtg22DKJvOVKVM8daXYUe+//349/fTTKlOmjGbNmpViZ8fppIsAgZIuPe17O21Avk+fsJUlSkg1akh77RX+19ayatlSatfO2zkqI0aM0DPPPBMsDPnee+/53tu0L0UFCJQU7RhOq4ACHTpIr78ubd0qbd8uZWSEgbLffmHAWLnxRql9+wIeOB4ftx0ax4wZo7JlywbLsFAQcCFAoLhQp87oBV5+Wbr44vBtr40b/zy+BUv16uGdis1XscUjPSzDhw+Xrelle6LMmDHDwxbSpDgIEChx6CXOMX8Cl1wivfGGtHZtGCwWJna3YvuD7L239Npr3q7zlQiUcuXKafr06fnz4lMIRCxAoEQMyuEcCtjkRrtL+emn8JcVG5S3R14WKCeeKN1xRzim4lmxpVhsXa/y5ctr2rRpnrWO5sRFgECJS09xnvkTuPlm6a23wqXsV60Kw6Rs2TBE7I7FFpC0x162Bpb93pNyzz33BFv+VqhQIVgQkoKACwECxYU6dRafgAXJuedKmzeHj7uWL5cqVcr5+rDdrfz971LlysV3Lkk8si1h/8ILLxAoSTSnqpwCBApXhX8CEyZIQ4ZIe+wRbgtsYypDh0q2TEvmYmFi+4S0aBF7gyFDhujFF19UxYoVg+1/KQi4ECBQXKhTZ/ELrFsX1lGuXPjfH34I70jmz89Z93nnST17ho/DYlruuuuuYGdG9j6JaQd6ctoEiicdSTPyIWBzVJ58Mlzi3t4Cy1xq15b+8Q+pfv18HCj1PmIbbtnGWwRK6vVNOp0RgZJOvU1bQ4GFC6VbbpG+/z6riO302LlzuCd9YjJkTMwGDx6sl156SVWrVtW///3vmJw1p+mbAIHiW4/SnvwJ2HjKP/8pvfRSzs8fdZQ0aFA4GTIm5Y477tDLL7+svffeW2+++WZMzprT9E2AQPGtR2lPwQRsEqDNTfntt6zfK18+XKrlzDMLdjxHn7799tv1yiuvqFq1anrDJndSEHAgQKA4QKfKFBNYsSK8I8ltld4zzgiDxTbxSuEyaNAgvfrqq6pevbpetzXNKAg4ECBQHKBTZQoK2JyV8eOl++6TNm3KeoK2FpjdxdijsBQtAwcO1GuvvaYaNWoEwUJBwIUAgeJCnTpTV+Drr8PXi7/4Ius52qz6yy4L96wvXTrlzv/WW28NHnXtu+++waMvCgIuBAgUF+rUmdoCNsve9ld55plwtn3mUq9e+HrxgQemVBsSgbLffvsFg/MUBFwIECgu1KkzHgJz54Yz6Zcty3q+tuBkr16STYhMkfXA/v73vwevC9esWVOTJk2Khy9n6Z0AgeJdl9KgSAVWrw6XcZk8OedhmzWTbrtNqlIl0ioLc7Cbb75Zb731lvbff/9ggiMFARcCBIoLdeqMn4BNFrzrLimxpEuiBRUrhncxttikw3LTTTdp8uTJBIrDPqBqu2HPyMjYvj37g2JoEEAgh8CPP4Z3JB9/nBPnnHOk3r3DpfIdlAEDBmjKlCmqXbt2sEgkBQEXAgSKC3XqjK+ArQH29NPhoL2tDZa57L9/OGB/2GFJb1///v319ttv68ADD9R4e/2ZgoADAQLFATpVeiBgu0PaZl7ffZe1MSVLSh07SldckdT1wPr16xdsrFWnTp1gXxQKAi4ECBQX6tTph8CGDdKIEeGEyOylYcNwMuS++yalrX379tV//vMfHXTQQcHOjXEqS5ZI48ZJNn/U1uakxFeAQIlv33HmqSIwc2a4kdevv2Y9I9vgq39/qXXrYn+9uE+fPsFe8occcojG2b/OMSn21LBpU2nOnPCE7QU1252ZEk8BAiWe/cZZp5qAhYmNn8yYkfPMTjtNGjBAqlCh2M76+uuv14wZM1S3bl09++yzxVZP1Ae2N7KNZvBgadSo8CW6RYu82Zk5aq6UPx6BkvJdxAnGRsBelrTl8O+9V9q4MetpV6smDRwoHXdcsTQnESj16tXT2LFji6WOqA+6eLHUuLHUpo1kuzbbPFKb2tO+vRSTJkRNEvvjESix70IakHICNlBvG3jZj9rZyyWXSF26SDbbPsLSq1cvzZw5U/Xr19eYMWMiPHLxHMoedTVvHi5CMG+eZNN5rIwcKXXvLtlk/3btiqdujlp8AgRK8dly5HQW2LJFeuyxcMvh7NsNH3JI+HjsoIMiE+rZs6fee+89HXbYYXraXmumIOBAgEBxgE6VaSRgP37bTHqbFJm52B2K/Sh+/vmRvF7co0cPzZo1i0BJo0srFZtKoKRir3BOfgmsXSvdfbeU206KTZqEs+/33rtIbe7evbtmz56tBg0a6Em7K6Ig4ECAQHGATpVpKmALTNp6YGvWZAXYa69wD5aTTy40TNeuXfXBBx/oiCOO0BNPPFHo4/BFBIoiQKAURY/vIlBQARuFtjuSjz7K+c22baU+fSSbv1LA0qVLF3344Yc68sgjNXr06AJ+O/kft0UG7rxT+stfcr9xS/4ZUWMUAgRKFIocA4GCCNggvc0VefBByTbzylxq1gxn2B9xREGOqM6dO2vOnDlq2LChRtmEjhQvFiS2gLMFi72fQPFDgEDxox9pRRwFbJthe9Rl2w5nLiVKSNdcI119tWRrg+WjdOrUSR999JEaN26sf/3rX/n4htuP7LNP+MqwzT+xhZopfggQKH70I62Iq4BNgHzgAem553K2oEGD8G6lVq1dtu66667Txx9/rKOOOkqP2evKKVz+9z/JbsSsfPutdMABKXyynFqBBAiUAnHxYQSKSWD27HAm/YoVWSuw/VX69pX++tedrgeWCJSjjz5ajz76aDGdZDSHffVVyYaLKlfO2dxoauAorgQIFFfy1ItAdoHffgsHFKZNy2lzyinhgIO9EZZLueaaa/TJJ5/omGOO0SOPPJLStoMGhdl56qnSlCk5T9UWS7Ynfva2tT31s6Gm3XZL6SZxcn8IEChcCgikkoCtB/bKK9KwYdL69VnPrGrV8F9im7uSrVx99dX69NNPddxxx+mhhx5KpRblOBdbUsWaaAsx2+KQibJpk3TDDeHyKxYgFiQWKJT4CBAo8ekrzjSdBL7/PlwPbOHCnK2+8EKpW7csP7ZfddVVmj9/fiwCxYaEli6V7E6kQ4ewedbc886TPvwwHFOxwfqjj06nDvejrQSKH/1IK3wUsPXA7BVg+5V9PbA6dcLHY3XrBi2/8sortWDBAjVp0kQj7Uf8FC3Ll/+5KMCXX0oHHxy+PmxrZtrw0RlnhG9U2/gKJX4CBEr8+sz7M16yZEmwSVT16tWD+RVpX+bPD+9W7PWozKV0aalrV+mii3T5lVdq4cKFatq0qR6wt8ZStNhiARYaNhRkAWLjKYl5KDZEZL+3t6Yp8RQgUOLZb96e9datW4N/FG2SnpWJEyfqbLbwk37/PRxXscGH7OXYY9V1+XJ98M03atasme6///6UvT4SG2rZG9E2F2Xq1HDpeltx3/ZFocRbgECJd/95d/ZDhgzRgAEDNHjw4GDG97p167Ro0SJV5hlI2Ndvvx1ub7h6dZa+n7dypbrttZdanXWWbrftiFO02JjJ+PF/npztIz9rlmRP8CjxFyBQ4t+H3rRg8eLFwUzvNm3aaMKECZo7d27wE3f79u1jswthUjrj55/Dt71sBPuPsmHDBo1p00YnXNVNc+fWCl653X//cIDbfhViebBiaYqNmXz1VThmYmMlNjRkiyNffnmxVMdBkyxAoCQZnOpyF7BHXc2bN9eyZcs0b948VfxjCz8bYLal2SdNmqR2bOGn7du3a+nSpVq8cKG2jBmj+lOm6PfyGap/VAuVGjNWN9y0m6ZP3y4pIwu07UCcCBf7b+3a4e/tsVNBxiyWLJEWLJBatAi/W5CyapVUqZJkb0Z//rlkExxtzqYNBdnYSsuWBTkan01FAQIlFXuFc0JA9g/vdv3888/BYLvdvSX+u+aP5e+3ldymX+r+n9ZXWqOGRzTRmAvG6dwzSmvBguXaY489gpcaypTZ+YxA2+crc9AkwsYCJ/tdjYXJxReHXWPzRK6/PlyHKyNrduXZdzZf01boL1cufGJnQdaxY7ixpQWNLRZQrx5dH2cBAiXOvce5eyXw66+/7ggNGzeyX/ZnuRULk6UNlmprta2qUKGCqlSpol5NemnGyL317LP7avv2ksrIyFDlylVUtWoVlSiRv0UmM9dl8ygTdzIWNO+/L02fLtnyYxYKFiQnnhiub5mfIa7hw8OJizYv08LDir0ZbSsP2+C8jaNYHUXca8yrayJujSFQ4tZjnK8XAqtXr85y12F3H3Y3klcpUaKEDjzwwGCL34PqH6RJGyfpm/XfBKGRKA+3eVgNKjfQ4MGPaMKEz7Rx4z7auHFflSx5oKpVO05SlRyPwgqCaZMP160LA8UWQa5QIbyLqVIlfN3XlhvbWbFxk7FjpU6dpIcf/vOT9iisaVNp8WKpWbPwvYPddy/ImfHZVBEgUFKlJzgPbwV+//13ff7558EdR+KXjYPsrOy///5BeCR+1a1bN3iM9fvm39XzzZ6a99O8LF+/5qhr1OmYTjv+zOq5++679dlnn+34syOPbKYOHfpo27b9g1V+7dd330n/93+SLXuyq/Lf/4bbt2zYEN6d2FhIqVLhLyu33houp5JXOeywMDRsqTF71JW5fPONdPzx0i+/SOefL40bl/9Habs6b/4+eQIESvKsqUn2D9h3wVpTkydP1tdffy17O6lWrVrBm132uvA+BR3pTTHVjRs36osvvsgSHt9++20wHpJXqVGjRpbwqF+/vvbcc88cH7cw6fFmD33y0ydZ/u66o6+T/cpetm3bptdeey2Y6Lhy5crgr+1O54ILLpCtTly+fPngz+xNqx9/DMMlc9DY721me+IzNoZizbA7FBv/SEzeT4TKQQdJNgczt2LTaOyOZuvW8LGWhUf2Yo/BbA1MC6wBA8IdHSnxEiBQ4tVfsT7bESNGqG/fvtr8xy6F5cqV06ZNm3b83gaRZ8yYIftpPA7F2vHVV19lCQ/7vb2xllexsY7DDz98R4AceuihqmQj0rsoBQ2TzIezQXxb0v6FF16QhYwVm9fTo0cPtW7dOgiZvIq9fmyPut57L5zRbr+3R1R2h2KPveyriadutsTY44/vqiX8vc8CBIrPvZtCbbvvvvvUu3fv4B+y/v3767LLLgvuRuwfuJkzZ6pjx47BY6EWLVro3XffTaEzD0/FztPuNDK/cfXll18GgZhXscFyCw8LjcR/q9n7uwUsRQmTzFXZ+d5zzz3BRlyJYnvQ9+vXT3ZXtLNic0fsUZQNoluI2C/7ucCy0+a72FL0vXoV7BXkAjLw8RgIECgx6KS4n6IFRMuWLWWPdqZOnZrrP172D3UDW49DthLtUu23337Omm3hEcz1yPSqroXd+uzLyWc6QxvfyBwcFiDW3syD5oVpkIVJ9ze669Nln2b5el6PuXZVhz16s8eNFvC/2ICFDdNnZOicc85Rly5dtFce+61YcNickRkzwgFzGzxv1Upq3lz648nZrqrm79NAgEBJg0522UT7B8z26LD9zl9++WW1ta368ig2brB27VrNmjUrWM8re3njjTf0zDPP6G9/+5vOtx+XIyh2fj/99FOW8LABbTuPvMpuu+2mevXqZRn3sEH0nT06KsypRh0mmc/BXhR4/PHHgxUIEo/o7I6qW7dugW9ubbGnZfa4y97sYsOrwvSo/98hUPzvY6cttLuTE22yghRMtNtZsVnyVmznwYYNGwb/qA8bNixYKNLGVuz3NgZhA/hPPfVUodq1YsWKHBMFEwPWuR2wVKlSwZiO3X0k3riqU6eOStoAQjEWC5Nub3TT/GVZR7kLe2eS16naYzx7DPbBBx/s+Ig9/rLHYPY4jIJAQQQIlIJo8dkCC9ggvIVCfprba5cAABK6SURBVIs9frFBZBuwt3/sbO5F2bJlVaZMGa1atSoYd3nzzTfVqFGjXR7SPm+PrTK/rruruR4WFplf1z344IODupNZ1m1ap+5vds8RJh2P7qhrj7428lOxu7Rp06bp3nvvDe7WEuWvf/1rsOyNLwtzsi1C5JdOjgMSKMVvnNY1nH766ZoyZYqGDh0a/NRbkPL+++8H37HHMzauYWt8dejQQc/bVn/Ziq1KnH2ux/+y7x+S7TsHHHBAlvCwx1i7O55Rl+wwyUxir3A/+eSTevrpp3e8bGDB3qlTp8C9uO/KCnJtFPSzbItQULHCfZ5AKZwb38qngD02sZ0EbY8O+2k3P8V+Yn7uuef0z3/+c8drrvaYy5Zlv/zyy4NXYO2nzcx3Hja/ZWdzPfbdd98ccz0S8zDyc07J+ExeYWITFm3iYrKKvZAwfPjw4DFjohx00EFBuB8d03152RYhOVcPgZIc57StxZajtzERm/Ng81B2VexNKtsL5d+2L6xsFnYpXXzxxdp777114YUXBo/AqlatuiNocjuefTbzG1f2CCuxevGu6nf193mFSedjOuvqo652clr2Orc9rsw8q9/uOHv16qXCvP7spBGy2flsi5AsewIlWdJpWs+ll16qMWPGBCFg/8e2/+ZV7JHWLbfcEjy6sscvVmwQvnTp0jseednva9uKhX8Ue801+1wPC5Q4FQuTbm9204JlC7KctsswSZyIzbOx/rPNzmwVACs2pnXNNdfooosuCvomlQvbIiS3dwiU5HqnXW32U+4JJ5wQtNvelrJHKSeffHKwLpUVG3i3AeEHH3wweISVKPa83sY47BVdK4kxFDtG165dd4RIFHM9XHbK2k1rgwH47GHS5dguuqrxVS5PLUvdNlhvjyDftpUb/yj2qrS9dJHbK94pc+KcSFIFCJSkcqdnZbZI4Y033rhjjMPe5LLlRuw14MwzzS08EgO/9hkbILd1vo455hi1atUqeORlYyg2cOxDiUuYZLb+8MMPg9eMv7HVHP8oNmn1+uuvl41TUdJbgEBJ7/5PWuttnoPdhdgdyw8//BAEh70CXLNmzSAszjrrrGDcxN7s+vHHH3MMsCfuUA455JAgnGyypD3qKupM9KQBZKvIwsTmmXz285+rAdtHUu3OJDefLVu2BG/a2csR9gaeFXu1+oorrggCP3FXmf27EydO1FtvvaUbbrghNuu1ubo+4lovgRLXnvP4vO0fLFt23X4atoCx/21/ZmMsmcdQbLmQm266KXYScQ6TzNjLly8P3t6zFQwSxe5SLDBsMmv2sLdVjv/73/8Gd532Fl9ewRO7DuWEdwgQKFwMKS9gc0xsORZ7w8jGVRID+8cee6wezrxTU8q3RMorTLoe21VXNr4yBi3IeYr2Fp891rRl+xOlWbNm6tOnj2ycJVGeffbZYAzNit3N2DIvURXft0WIyqm4j0OgFLcwxy+SwMiRI/Xbb78FdyiDBg2SvYZswWJLqNiaUzY/JS5lzcY1wdtcC39emOWU4xwmiYbY21T2SMv2uknseW+vfF9yySW66qqrgpcw7LGlBYm9fGFrhdm6bDaZtKjFt20Riurh8vsEikt96t6lgL0ibD995lZuu+02DRw4cJfHSIUP5BUm3Y7rpisaXZEKpxjJOdi6aBYqkyZN2jEOZnNWbO7KaaedJltC314ltwCyNcNsTbaizMCP+7YIkaCn0EEIlBTqDE7FTwELk65vdNWiX/58Ldpa2v247rq80eVeNtruQmy5HduWIFFslr3NtreB+dGjRwd/bBNebW+cwpS4bYtQmDbG7TsEStx6jPONlUA6hkmigxJbENvAvT22tGKPutq3b7/jbT97O8zeGLOB+oKUKLdFKEi9fHbnAgQKVwgCxSSQV5j0OL6HLmtYuJ/Ki+lUi/Wwq1evDl4xHj9+/I4lc2x8xcbBbKUDm2dkL1cU5BXwomyLYDtW2ux/m6Rp82ks+GxzN1trzpb5oRRegEApvB3fRCBPgdUbVwfzTLI/5kqXMLGlc2wBTxuMt9CwXzYWZpMi7fVvKzbfyJZzsflItn5bu3bt8n1FFWVbBHt92VbAttfO7TGcneu4ceOC19RtTM7G5iiFEyBQCufGtxAgTPIQsMdRtqqBzTnJXGzeiQWLTYb86quvgjCxV8KtWKjY6sb53fq5KNsivPfee0GQZN6qwF4SaNGihebOnSvb6M1WcqAUXIBAKbgZ30CAMNnFNWBvctlioHkVe8xkEyPtsVeinHvuucFeLPkphdkWYVfHtbsne2lg9uzZatKkya4+zt/nIkCgcFkgEJGAPeayt7kW/5L1H9Kex/fUpQ0vjaiWeBzG1mj79NNPg102bQzFBuXtv/b7xC/7vS06aa8S22OnO++8U126dMlXAwu6LUJ+Dtq7d2/Za8h2Z2X7v1AKLkCgFNyMbyCQQ4AwKfxFYY/I7I6lIPNRCrItgt0F2ZI9Oyu250tiGwRb7odSOAECpXBufCvmAkuWL9G4z8apernq6nxs5yK1xsKky+td9Pnyz7Mcp1eTXrrkyEuKdGy+nLtAfrdFsJWp7VHaznYLtU3dbMXk+fPnyxYxtcdplMIJECiFc+NbMRbYum2rmo5qqjk/zAlaMbHDRJ196NmFalFeYdK7SW9dfCSvoBYKNZ9fyu+2CNOnTw8Wq8yt2KM5e7vM3vqy15rPPrtw10E+T9n7jxEo3ncxDcwuMGTmEA14e4AGnzJYo+aNku2YuKjrIlUuW7lAWBYmnV/vLLvbyVwIkwIxFunDu9oWoW3btmrUqFGudWzevFnnnXeeXn311WAJGFt3jFI0AQKlaH58O2YCNmDe+NHGalO3jSZ0mKC5P8xVs9HN1P6w9hp7zth8tyavMLm+6fW66IiL8n0cPuhGwF4TtvkoL774oh577DFde+21bk7Es1oJFM86lObkLWCPupqPbq5l65ZpXsd5qrh7xeDDIz8cGWzDO+n8SWpXf9eT6wiTeF9l9gKArR82duzY4K2unj17xrtBKXT2BEoKdQankvoChEnq99GuztA2ALN9WZo2bZrra8q2l0udOnV2dRj+PhcBAoXLAoF8CqzasCoYM/lixZ8bSdlXecyVT8AU+Zi90WUD9XmVJ554Iti3hVJwAQKl4GZ8Iw0F8gqTG5reoAuPuDANRWgyAjkFCBSuCgR2IUCYcIkgkD8BAiV/TnzKQ4EHPnhAPf7dQ432aRQM0udWftvwWzBpMftjrj7N+uiCBhd4qEKTECi8AIFSeDu+GXOBq1++WqM/Ga0rG12p0e3CHQQzl7zCpG+zvjq/wfkxbz2nj0D0AgRK9KYcMSYC5zx/juYvm6+bT7hZVza+MkeY2AD8lyu+zPLnhElMOpfTdCJAoDhhp9JUFrA7k9zCpF/zfupweIdUPnXODQGnAgSKU34qTzUBC5NOr3XSf3/NujkUYZJqPcX5pKIAgZKKvcI5FbvAXe/epZveuUkn7H+CZlw5I6hv5fqVwZ0JYVLs/FTgqQCB4mnH0qydC3QY30HjF41Xj+N6aMRfRhAmXDAIRCBAoESAyCHiJ3DIA4cEdyJPtHtC7eq1y/XOpH/z/jrv8PPi1zjOGAFHAgSKI3iqdScw47sZavlkS23Xds24YoZGzhmpr379KssJ3djixmAFYgoCCORfgEDJvxWf9EDgs58/03njzwt2V8xQhk6qfZLWbFxDmHjQtzTBvQCB4r4POIMkCtzyzi168tMntXT1UpXMKKndS+2umhVqqnyZ8sFZDGgxQOcedm4Sz4iqEPBHgEDxpy9pyS4ENm7ZqNOeOU12l7Jyw8rgDqVsqbLKyMgIQsV2cCRMuIwQKLwAgVJ4O74ZM4Fp305Tr3/30oKfF2jb9m1BoJQqUUqlS5RWrb1q6cUOL6pBtQYxaxWni0DqCBAoqdMXnEkxC9ww+QaN/ni0ftv4W1BTCZWQMqRKu1dS7Yq11bJ2Sw07fVgxnwWHR8BfAQLF376lZZkE1m9er9ojasuWot+4dWPwNzaGUq1cNdUoXyN47GVvddnbXRQEECicAIFSODe+FTOB/3zzH5017ixt3rpZm7dtDh531alUJ9hXvlyZcmp9cGv1OL6HypYuG7OWcboIpI4AgZI6fcGZFKOALatSb2S9YDB+y7YtqrBbBfU6vpdOrXOqjq95vMqULFOMtXNoBNJDgEBJj36mlVIw9+SUp07Rj2t/1J2t7gxeEaYggEB0AgRKdJYcKcUFtm7bqj3v2lPrt6zXlEunBHcnFAQQiE6AQInOkiOluIBtptXwkYbB+MmKfitUqWylFD9jTg+BeAkQKPHqL862CAJDZw7VjW/fGMw1WdB5QRGOxFcRQCA3AQKF6yItBD7+8WO1ebaNflr7kwaeNFC3tbwtLdpNIxFIpgCBkkxt6kq6wB3T79Dds+7W2k1rg7rrVamn9695P3hdmIIAAtEKECjRenK0FBM4c8yZsuXqD6h4QLDvie1xwthJinUSp+ONAIHiTVfSEAQQQMCtAIHi1p/aEUAAAW8ECBRvupKGIIAAAm4FCBS3/tSOAAIIeCNAoHjTlTQEAQQQcCtAoLj1p3YEEEDAGwECxZuupCEIIICAWwECxa0/tSOAAALeCBAo3nQlDUEAAQTcChAobv2pHQEEEPBGgEDxpitpCAIIIOBWgEBx60/tCCCAgDcCBIo3XUlDEEAAAbcCBIpbf2pHAAEEvBEgULzpShqCAAIIuBUgUNz6UzsCCCDgjQCB4k1X0hAEEEDArQCB4taf2hFAAAFvBAgUb7qShiCAAAJuBQgUt/7UjgACCHgjQKB405U0BAEEEHArQKC49ad2BBBAwBsBAsWbrqQhCCCAgFsBAsWtP7UjgAAC3ggQKN50JQ1BAAEE3AoQKG79qR0BBBDwRoBA8aYraQgCCCDgVoBAcetP7QgggIA3AgSKN11JQxBAAAG3AgSKW39qRwABBLwRIFC86UoaggACCLgVIFDc+lM7Aggg4I0AgeJNV9IQBBBAwK0AgeLWn9oRQAABbwQIFG+6koYggAACbgUIFLf+1I4AAgh4I0CgeNOVNAQBBBBwK0CguPWndgQQQMAbAQLFm66kIQgggIBbAQLFrT+1I4AAAt4IECjedCUNQQABBNwKEChu/akdAQQQ8EaAQPGmK2kIAggg4FaAQHHrT+0IIICANwIEijddSUMQQAABtwIEilt/akcAAQS8ESBQvOlKGoIAAgi4FSBQ3PpTOwIIIOCNAIHiTVfSEAQQQMCtAIHi1p/aEUAAAW8ECBRvupKGIIAAAm4FCBS3/tSOAAIIeCNAoHjTlTQEAQQQcCtAoLj1p3YEEEDAGwECxZuupCEIIICAWwECxa0/tSOAAALeCBAo3nQlDUEAAQTcChAobv2pHQEEEPBGgEDxpitpCAIIIOBWgEBx60/tCCCAgDcCBIo3XUlDEEAAAbcCBIpbf2pHAAEEvBEgULzpShqCAAIIuBUgUNz6UzsCCCDgjQCB4k1X0hAEEEDArQCB4taf2hFAAAFvBAgUb7qShiCAAAJuBQgUt/7UjgACCHgjQKB405U0BAEEEHArQKC49ad2BBBAwBsBAsWbrqQhCCCAgFsBAsWtP7UjgAAC3ggQKN50JQ1BAAEE3AoQKG79qR0BBBDwRoBA8aYraQgCCCDgVoBAcetP7QgggIA3AgSKN11JQxBAAAG3AgSKW39qRwABBLwRIFC86UoaggACCLgVIFDc+lM7Aggg4I0AgeJNV9IQBBBAwK0AgeLWn9oRQAABbwQIFG+6koYggAACbgUIFLf+1I4AAgh4I0CgeNOVNAQBBBBwK0CguPWndgQQQMAbAQLFm66kIQgggIBbAQLFrT+1I4AAAt4IECjedCUNQQABBNwKEChu/akdAQQQ8EaAQPGmK2kIAggg4FaAQHHrT+0IIICANwIEijddSUMQQAABtwIEilt/akcAAQS8ESBQvOlKGoIAAgi4FSBQ3PpTOwIIIOCNAIHiTVfSEAQQQMCtAIHi1p/aEUAAAW8ECBRvupKGIIAAAm4FCBS3/tSOAAIIeCNAoHjTlTQEAQQQcCtAoLj1p3YEEEDAGwECxZuupCEIIICAWwECxa0/tSOAAALeCBAo3nQlDUEAAQTcChAobv2pHQEEEPBGgEDxpitpCAIIIOBWgEBx60/tCCCAgDcCBIo3XUlDEEAAAbcCBIpbf2pHAAEEvBEgULzpShqCAAIIuBUgUNz6UzsCCCDgjQCB4k1X0hAEEEDArQCB4taf2hFAAAFvBAgUb7qShiCAAAJuBQgUt/7UjgACCHgjQKB405U0BAEEEHArQKC49ad2BBBAwBsBAsWbrqQhCCCAgFsBAsWtP7UjgAAC3ggQKN50JQ1BAAEE3AoEgeL2FKgdAQQQQMAXgf8HxwlJwaUlmeAAAAAASUVORK5CYII=\" width=\"448.8889007803838\">"
      ],
      "text/plain": [
       "<IPython.core.display.HTML object>"
      ]
     },
     "metadata": {},
     "output_type": "display_data"
    }
   ],
   "source": [
    "R = Rz*Ry*Rx\n",
    "R = sym.lambdify((a, b, g), R, 'numpy')\n",
    "\n",
    "alpha = np.pi/3\n",
    "beta = np.pi/4\n",
    "gamma = np.pi/6\n",
    "\n",
    "R = R(alpha, beta, gamma)\n",
    "\n",
    "e1 = np.array([[1, 0, 0]])\n",
    "e2 = np.array([[0, 1, 0]])\n",
    "e3 = np.array([[0, 0, 1]])\n",
    "\n",
    "basis = np.vstack((e1,e2,e3))\n",
    "basisRot = R@basis\n",
    "CCSbasis(Oijk=np.array([0, 0, 0]), Oxyz=np.array([0, 0, 0]), ijk=basisRot.T,\n",
    "         xyz=basis.T, vector=False);"
   ]
  },
  {
   "cell_type": "markdown",
   "metadata": {
    "slideshow": {
     "slide_type": "slide"
    }
   },
   "source": [
    "### Rotations in a coordinate system is equivalent to minus rotations in the other coordinate system\n",
    "\n",
    "Remember that we saw for the elemental rotations that it's equivalent to instead of rotating the local coordinate system, $xyz$, by $\\alpha, \\beta, \\gamma$ in relation to axes of the Global coordinate system, to rotate the Global coordinate system, $\\mathbf{XYZ}$, by $-\\alpha, -\\beta, -\\gamma$ in relation to the axes of the local coordinate system. The same property applies to a sequence of rotations: rotations of $xyz$ in relation to $\\mathbf{XYZ}$ by $\\alpha, \\beta, \\gamma$ result in the same matrix as rotations of $\\mathbf{XYZ}$ in relation to $xyz$ by $-\\alpha, -\\beta, -\\gamma$:   \n",
    "\n",
    "$$ \\begin{array}{l l}\n",
    "\\mathbf{R_{Gl,\\,XYZ\\,}}(\\alpha,\\beta,\\gamma) & = \\mathbf{R_{Gl,\\,Z}}(\\gamma)\\, \\mathbf{R_{Gl,\\,Y}}(\\beta)\\, \\mathbf{R_{Gl,\\,X}}(\\alpha) \\\\\n",
    "& = \\mathbf{R}_{\\mathbf{lG},\\,z\\,}(-\\gamma)\\, \\mathbf{R}_{\\mathbf{lG},\\,y\\,}(-\\beta)\\, \\mathbf{R}_{\\mathbf{lG},\\,x\\,}(-\\alpha) \\\\\n",
    "& = \\mathbf{R}_{\\mathbf{lG},\\,xyz\\,}(-\\alpha,-\\beta,-\\gamma)\n",
    "\\end{array}\n",
    "$$\n",
    "\n",
    "Confer that by examining the $\\mathbf{R_{Gl,\\,XYZ}}$ and $\\mathbf{R}_{\\mathbf{lG},\\,xyz}$ matrices above.\n",
    "\n",
    "Let's verify this property with Sympy:"
   ]
  },
  {
   "cell_type": "code",
   "execution_count": 11,
   "metadata": {
    "ExecuteTime": {
     "end_time": "2020-11-17T00:32:06.562084Z",
     "start_time": "2020-11-17T00:32:06.546526Z"
    },
    "slideshow": {
     "slide_type": "fragment"
    }
   },
   "outputs": [
    {
     "data": {
      "text/latex": [
       "$\\displaystyle \\mathbf{R_{Gl,\\,XYZ\\,}}(\\alpha,\\beta,\\gamma) =$"
      ],
      "text/plain": [
       "<IPython.core.display.Math object>"
      ]
     },
     "metadata": {},
     "output_type": "display_data"
    },
    {
     "data": {
      "text/latex": [
       "$\\displaystyle \\left[\\begin{matrix}\\cos{\\left(\\beta \\right)} \\cos{\\left(\\gamma \\right)} & \\sin{\\left(\\alpha \\right)} \\sin{\\left(\\beta \\right)} \\cos{\\left(\\gamma \\right)} - \\sin{\\left(\\gamma \\right)} \\cos{\\left(\\alpha \\right)} & \\sin{\\left(\\alpha \\right)} \\sin{\\left(\\gamma \\right)} + \\sin{\\left(\\beta \\right)} \\cos{\\left(\\alpha \\right)} \\cos{\\left(\\gamma \\right)}\\\\\\sin{\\left(\\gamma \\right)} \\cos{\\left(\\beta \\right)} & \\sin{\\left(\\alpha \\right)} \\sin{\\left(\\beta \\right)} \\sin{\\left(\\gamma \\right)} + \\cos{\\left(\\alpha \\right)} \\cos{\\left(\\gamma \\right)} & - \\sin{\\left(\\alpha \\right)} \\cos{\\left(\\gamma \\right)} + \\sin{\\left(\\beta \\right)} \\sin{\\left(\\gamma \\right)} \\cos{\\left(\\alpha \\right)}\\\\- \\sin{\\left(\\beta \\right)} & \\sin{\\left(\\alpha \\right)} \\cos{\\left(\\beta \\right)} & \\cos{\\left(\\alpha \\right)} \\cos{\\left(\\beta \\right)}\\end{matrix}\\right]$"
      ],
      "text/plain": [
       "<IPython.core.display.Math object>"
      ]
     },
     "metadata": {},
     "output_type": "display_data"
    },
    {
     "data": {
      "text/latex": [
       "$\\displaystyle \\mathbf{R}_{\\mathbf{lG},\\,xyz\\,}(-\\alpha,-\\beta,-\\gamma) =$"
      ],
      "text/plain": [
       "<IPython.core.display.Math object>"
      ]
     },
     "metadata": {},
     "output_type": "display_data"
    },
    {
     "data": {
      "text/latex": [
       "$\\displaystyle \\left[\\begin{matrix}\\cos{\\left(\\beta \\right)} \\cos{\\left(\\gamma \\right)} & \\sin{\\left(\\alpha \\right)} \\sin{\\left(\\beta \\right)} \\cos{\\left(\\gamma \\right)} - \\sin{\\left(\\gamma \\right)} \\cos{\\left(\\alpha \\right)} & \\sin{\\left(\\alpha \\right)} \\sin{\\left(\\gamma \\right)} + \\sin{\\left(\\beta \\right)} \\cos{\\left(\\alpha \\right)} \\cos{\\left(\\gamma \\right)}\\\\\\sin{\\left(\\gamma \\right)} \\cos{\\left(\\beta \\right)} & \\sin{\\left(\\alpha \\right)} \\sin{\\left(\\beta \\right)} \\sin{\\left(\\gamma \\right)} + \\cos{\\left(\\alpha \\right)} \\cos{\\left(\\gamma \\right)} & - \\sin{\\left(\\alpha \\right)} \\cos{\\left(\\gamma \\right)} + \\sin{\\left(\\beta \\right)} \\sin{\\left(\\gamma \\right)} \\cos{\\left(\\alpha \\right)}\\\\- \\sin{\\left(\\beta \\right)} & \\sin{\\left(\\alpha \\right)} \\cos{\\left(\\beta \\right)} & \\cos{\\left(\\alpha \\right)} \\cos{\\left(\\beta \\right)}\\end{matrix}\\right]$"
      ],
      "text/plain": [
       "<IPython.core.display.Math object>"
      ]
     },
     "metadata": {},
     "output_type": "display_data"
    },
    {
     "data": {
      "text/latex": [
       "$\\displaystyle \\mathbf{R_{Gl,\\,XYZ\\,}}(\\alpha,\\beta,\\gamma) \\;==\\;\\mathbf{R}_{\\mathbf{lG},\\,xyz\\,}(-\\alpha,-\\beta,-\\gamma)$"
      ],
      "text/plain": [
       "<IPython.core.display.Math object>"
      ]
     },
     "metadata": {},
     "output_type": "display_data"
    },
    {
     "data": {
      "text/plain": [
       "True"
      ]
     },
     "execution_count": 11,
     "metadata": {},
     "output_type": "execute_result"
    }
   ],
   "source": [
    "RXYZ = RZ*RY*RX\n",
    "# Rotation matrix of xyz in relation to XYZ:\n",
    "display(Math(sym.latex(r'\\mathbf{R_{Gl,\\,XYZ\\,}}(\\alpha,\\beta,\\gamma) =')))\n",
    "display(Math(sym.latex(RXYZ, mat_str='matrix')))\n",
    "\n",
    "# Elemental rotation matrices of XYZ in relation to xyz and negate all angles:\n",
    "Rx_neg = sym.Matrix([[1, 0, 0], [0, cos(-a), -sin(-a)], [0, sin(-a), cos(-a)]]).T\n",
    "Ry_neg = sym.Matrix([[cos(-b), 0, sin(-b)], [0, 1, 0], [-sin(-b), 0, cos(-b)]]).T\n",
    "Rz_neg = sym.Matrix([[cos(-g), -sin(-g), 0], [sin(-g), cos(-g), 0], [0, 0, 1]]).T\n",
    "\n",
    "# Rotation matrix of XYZ in relation to xyz:\n",
    "Rxyz_neg = Rz_neg*Ry_neg*Rx_neg\n",
    "display(Math(sym.latex(r'\\mathbf{R}_{\\mathbf{lG},\\,xyz\\,}(-\\alpha,-\\beta,-\\gamma) =')))\n",
    "display(Math(sym.latex(Rxyz_neg, mat_str='matrix')))\n",
    "\n",
    "# Check that the two matrices are equal:\n",
    "display(Math(sym.latex(r'\\mathbf{R_{Gl,\\,XYZ\\,}}(\\alpha,\\beta,\\gamma) \\;==\\;' + \\\n",
    "                       r'\\mathbf{R}_{\\mathbf{lG},\\,xyz\\,}(-\\alpha,-\\beta,-\\gamma)')))\n",
    "RXYZ == Rxyz_neg"
   ]
  },
  {
   "cell_type": "markdown",
   "metadata": {
    "slideshow": {
     "slide_type": "slide"
    }
   },
   "source": [
    "### Rotations in a coordinate system is the transpose of inverse order of rotations in the other coordinate system\n",
    "\n",
    "There is another property of the rotation matrices for the different coordinate systems: the rotation matrix, for example from the Global to the local coordinate system for the $xyz$ sequence, is just the transpose of the rotation matrix for the inverse operation (from the local to the Global coordinate system) of the inverse sequence ($\\mathbf{ZYX}$) and vice-versa:\n",
    "\n",
    "$$ \\begin{array}{l l}\n",
    "\\mathbf{R}_{\\mathbf{lG},\\,xyz}(\\alpha,\\beta,\\gamma) & = \\mathbf{R}_{\\mathbf{lG},\\,z\\,} \\mathbf{R}_{\\mathbf{lG},\\,y\\,} \\mathbf{R}_{\\mathbf{lG},\\,x} \\\\\n",
    "& = \\mathbf{R_{Gl,\\,Z\\,}^{-1}} \\mathbf{R_{Gl,\\,Y\\,}^{-1}} \\mathbf{R_{Gl,\\,X\\,}^{-1}} \\\\\n",
    "& = \\mathbf{R_{Gl,\\,Z\\,}^{T}} \\mathbf{R_{Gl,\\,Y\\,}^{T}} \\mathbf{R_{Gl,\\,X\\,}^{T}} \\\\\n",
    "& = (\\mathbf{R_{Gl,\\,X\\,}} \\mathbf{R_{Gl,\\,Y\\,}} \\mathbf{R_{Gl,\\,Z}})^\\mathbf{T} \\\\\n",
    "& = \\mathbf{R_{Gl,\\,ZYX\\,}^{T}}(\\gamma,\\beta,\\alpha)\n",
    "\\end{array}\n",
    "$$\n",
    "\n",
    "Where we used the properties that the inverse of the rotation matrix (which is orthonormal) is its transpose and that the transpose of a product of matrices is equal to the product of their transposes in reverse order.\n",
    "\n",
    "Let's verify this property with Sympy:"
   ]
  },
  {
   "cell_type": "code",
   "execution_count": 12,
   "metadata": {
    "ExecuteTime": {
     "end_time": "2020-11-17T00:32:06.573168Z",
     "start_time": "2020-11-17T00:32:06.563730Z"
    },
    "slideshow": {
     "slide_type": "fragment"
    }
   },
   "outputs": [
    {
     "data": {
      "text/latex": [
       "$\\displaystyle \\mathbf{R_{Gl,\\,ZYX\\,}^T}=\\left[\\begin{matrix}\\cos{\\left(\\beta \\right)} \\cos{\\left(\\gamma \\right)} & \\sin{\\left(\\alpha \\right)} \\sin{\\left(\\beta \\right)} \\cos{\\left(\\gamma \\right)} + \\sin{\\left(\\gamma \\right)} \\cos{\\left(\\alpha \\right)} & \\sin{\\left(\\alpha \\right)} \\sin{\\left(\\gamma \\right)} - \\sin{\\left(\\beta \\right)} \\cos{\\left(\\alpha \\right)} \\cos{\\left(\\gamma \\right)}\\\\- \\sin{\\left(\\gamma \\right)} \\cos{\\left(\\beta \\right)} & - \\sin{\\left(\\alpha \\right)} \\sin{\\left(\\beta \\right)} \\sin{\\left(\\gamma \\right)} + \\cos{\\left(\\alpha \\right)} \\cos{\\left(\\gamma \\right)} & \\sin{\\left(\\alpha \\right)} \\cos{\\left(\\gamma \\right)} + \\sin{\\left(\\beta \\right)} \\sin{\\left(\\gamma \\right)} \\cos{\\left(\\alpha \\right)}\\\\\\sin{\\left(\\beta \\right)} & - \\sin{\\left(\\alpha \\right)} \\cos{\\left(\\beta \\right)} & \\cos{\\left(\\alpha \\right)} \\cos{\\left(\\beta \\right)}\\end{matrix}\\right]$"
      ],
      "text/plain": [
       "<IPython.core.display.Math object>"
      ]
     },
     "metadata": {},
     "output_type": "display_data"
    },
    {
     "data": {
      "text/latex": [
       "$\\displaystyle \\mathbf{R}_{\\mathbf{lG},\\,xyz\\,}(\\alpha,\\beta,\\gamma) \\,==\\,\\mathbf{R_{Gl,\\,ZYX\\,}^T}(\\gamma,\\beta,\\alpha)$"
      ],
      "text/plain": [
       "<IPython.core.display.Math object>"
      ]
     },
     "metadata": {},
     "output_type": "display_data"
    },
    {
     "data": {
      "text/plain": [
       "True"
      ]
     },
     "execution_count": 12,
     "metadata": {},
     "output_type": "execute_result"
    }
   ],
   "source": [
    "RZYX = RX*RY*RZ\n",
    "Rxyz = Rz*Ry*Rx\n",
    "display(Math(sym.latex(r'\\mathbf{R_{Gl,\\,ZYX\\,}^T}=') + sym.latex(RZYX.T, mat_str='matrix')))\n",
    "display(Math(sym.latex(r'\\mathbf{R}_{\\mathbf{lG},\\,xyz\\,}(\\alpha,\\beta,\\gamma) \\,==\\,' + \\\n",
    "                       r'\\mathbf{R_{Gl,\\,ZYX\\,}^T}(\\gamma,\\beta,\\alpha)')))\n",
    "Rxyz == RZYX.T"
   ]
  },
  {
   "cell_type": "markdown",
   "metadata": {
    "slideshow": {
     "slide_type": "slide"
    }
   },
   "source": [
    "### Sequence of rotations of a Vector\n",
    "\n",
    "We saw in the notebook [Rigid-body transformations in a plane (2D)](http://nbviewer.jupyter.org/github/BMClab/bmc/blob/master/notebooks/Transformation2D.ipynb#Rotation-of-a-Vector) that the rotation matrix can also be used to rotate a vector (in fact, a point, image, solid, etc.) by a given angle around an axis of the coordinate system. Let's investigate that for the 3D case using the example earlier where a book was rotated in different orders and around the Global and local coordinate systems.  \n",
    "\n",
    "Before any rotation, the point shown in that figure as a round black dot on the spine of the book has coordinates $\\mathbf{P}=[0, 1, 2]$ (the book has thickness 0, width 1, and height 2). \n",
    "\n",
    "After the first sequence of rotations shown in the figure (rotated around $X$ and $Y$ by $90^0$ each time), $\\mathbf{P}$ has coordinates $\\mathbf{P}=[1, -2, 0]$ in the global coordinate system. Let's verify that:"
   ]
  },
  {
   "cell_type": "code",
   "execution_count": 13,
   "metadata": {
    "ExecuteTime": {
     "end_time": "2020-11-17T00:32:06.579448Z",
     "start_time": "2020-11-17T00:32:06.574414Z"
    },
    "slideshow": {
     "slide_type": "slide"
    }
   },
   "outputs": [
    {
     "name": "stdout",
     "output_type": "stream",
     "text": [
      "P1 = [[ 1. -2.  0.]]\n"
     ]
    }
   ],
   "source": [
    "P = np.array([[0, 1, 2]]).T\n",
    "\n",
    "RXY = RY*RX\n",
    "R = sym.lambdify((a, b), RXY, 'numpy')\n",
    "R = R(np.pi/2, np.pi/2)\n",
    "P1 = np.dot(R, P)\n",
    "print('P1 =', P1.T)"
   ]
  },
  {
   "cell_type": "markdown",
   "metadata": {
    "slideshow": {
     "slide_type": "slide"
    }
   },
   "source": [
    "As expected.  \n",
    "The reader is invited to deduce the position of point $\\mathbf{P}$ after the inverse order of rotations, but still around the Global coordinate system.\n",
    "\n",
    "Although we are performing vector rotation, where we don't need the concept of transformation between coordinate systems, in the example above we used the local-to-Global rotation matrix, $\\mathbf{R_{Gl}}$. As we saw in the notebook for the 2D transformation, when we use this matrix, it performs a counter-clockwise (positive) rotation.  \n",
    "If we want to rotate the vector in the clockwise (negative) direction, we can use the very same rotation matrix entering a negative angle or we can use the inverse rotation matrix, the Global-to-local rotation matrix, $\\mathbf{R_{lG}}$ and a positive (negative of negative) angle, because $\\mathbf{R_{Gl}}(\\alpha) = \\mathbf{R_{lG}}(-\\alpha)$, but bear in mind that even in this latter case we are rotating around the Global coordinate system!  \n",
    "\n",
    "Consider now that we want to deduce algebraically the position of the point $\\mathbf{P}$ after the rotations around the local coordinate system as shown in the second set of examples in the figure with the sequence of book rotations. The point has the same initial position, $\\mathbf{P}=[0, 1, 2]$, and after the rotations around $x$ and $y$ by $90^0$ each time, what is the position of this point?  \n",
    "It's implicit in this question that the new desired position is in the Global coordinate system because the local coordinate system rotates with the book and the point never changes its position in the local coordinate system. So, by inspection of the figure, the new position of the point is $\\mathbf{P1}=[2, 0, 1]$.  \n",
    "Let's naively try to deduce this position by repeating the steps as before:"
   ]
  },
  {
   "cell_type": "code",
   "execution_count": 14,
   "metadata": {
    "ExecuteTime": {
     "end_time": "2020-11-17T00:32:06.585746Z",
     "start_time": "2020-11-17T00:32:06.580952Z"
    },
    "slideshow": {
     "slide_type": "fragment"
    }
   },
   "outputs": [
    {
     "name": "stdout",
     "output_type": "stream",
     "text": [
      "P1 = [[ 1.  2. -0.]]\n"
     ]
    }
   ],
   "source": [
    "Rxy = Ry*Rx\n",
    "R = sym.lambdify((a, b), Rxy, 'numpy')\n",
    "R = R(np.pi/2, np.pi/2)\n",
    "P1 = np.dot(R, P)\n",
    "print('P1 =', P1.T)"
   ]
  },
  {
   "cell_type": "markdown",
   "metadata": {
    "slideshow": {
     "slide_type": "slide"
    }
   },
   "source": [
    "The wrong answer.  \n",
    "The problem is that we defined the rotation of a vector using the local-to-Global rotation matrix. One correction solution for this problem is to continuing using the multiplication of the Global-to-local rotation matrices, $\\mathbf{R}_{xy} = \\mathbf{R}_y\\,\\mathbf{R}_x$, transpose $\\mathbf{R}_{xy}$ to get the Global-to-local coordinate system, $\\mathbf{R_{XY}}=\\mathbf{R^T}_{xy}$, and then rotate the vector using this matrix:"
   ]
  },
  {
   "cell_type": "code",
   "execution_count": 15,
   "metadata": {
    "ExecuteTime": {
     "end_time": "2020-11-17T00:32:06.590625Z",
     "start_time": "2020-11-17T00:32:06.586600Z"
    },
    "slideshow": {
     "slide_type": "fragment"
    }
   },
   "outputs": [
    {
     "name": "stdout",
     "output_type": "stream",
     "text": [
      "P1 = [[ 2. -0.  1.]]\n"
     ]
    }
   ],
   "source": [
    "Rxy = Ry*Rx\n",
    "RXY = Rxy.T\n",
    "R = sym.lambdify((a, b), RXY, 'numpy')\n",
    "R = R(np.pi/2, np.pi/2)\n",
    "P1 = np.dot(R, P)\n",
    "print('P1 =', P1.T)"
   ]
  },
  {
   "cell_type": "markdown",
   "metadata": {
    "slideshow": {
     "slide_type": "fragment"
    }
   },
   "source": [
    "The correct answer.\n",
    "\n",
    "Another solution is to understand that when using the Global-to-local rotation matrix, counter-clockwise rotations (as performed with the book the figure) are negative, not positive, and that when dealing with rotations with the Global-to-local rotation matrix the order of matrix multiplication is inverted, for example, it should be $\\mathbf{R\\_}_{xyz} = \\mathbf{R}_x\\,\\mathbf{R}_y\\,\\mathbf{R}_z$ (an added underscore to remind us this is not the convention adopted here)."
   ]
  },
  {
   "cell_type": "code",
   "execution_count": 16,
   "metadata": {
    "ExecuteTime": {
     "end_time": "2020-11-17T00:32:06.595735Z",
     "start_time": "2020-11-17T00:32:06.591515Z"
    },
    "slideshow": {
     "slide_type": "fragment"
    }
   },
   "outputs": [
    {
     "name": "stdout",
     "output_type": "stream",
     "text": [
      "P1 = [[ 2. -0.  1.]]\n"
     ]
    }
   ],
   "source": [
    "R_xy = Rx*Ry\n",
    "R = sym.lambdify((a, b), R_xy, 'numpy')\n",
    "R = R(-np.pi/2, -np.pi/2)\n",
    "P1 = np.dot(R, P)\n",
    "print('P1 =', P1.T)"
   ]
  },
  {
   "cell_type": "markdown",
   "metadata": {
    "slideshow": {
     "slide_type": "fragment"
    }
   },
   "source": [
    "The correct answer.  \n",
    "The reader is invited to deduce the position of point $\\mathbf{P}$ after the inverse order of rotations, around the local coordinate system.\n",
    "\n",
    "In fact, you will find elsewhere texts about rotations in 3D adopting this latter convention as the standard, i.e., they introduce the Global-to-local rotation matrix and describe sequence of rotations algebraically as matrix multiplication in the direct order, $\\mathbf{R\\_}_{xyz} = \\mathbf{R}_x\\,\\mathbf{R}_y\\,\\mathbf{R}_z$, the inverse we have done in this text. It's all a matter of convention, just that."
   ]
  },
  {
   "cell_type": "markdown",
   "metadata": {
    "slideshow": {
     "slide_type": "slide"
    }
   },
   "source": [
    "### The 12 different sequences of Euler angles\n",
    "\n",
    "The Euler angles are defined in terms of rotations around a rotating local coordinate system. As we saw for the sequence of rotations around $x, y, z$, the axes of the local rotated coordinate system are not fixed in space because after the first elemental rotation, the other two axes rotate. \n",
    "\n",
    "Other sequences of rotations could be produced without combining axes of the two different coordinate systems (Global and local) for the definition of the rotation axes. There is a total of 12 different sequences of three elemental rotations that are valid and may be used for describing the rotation of a coordinate system with respect to another coordinate system:\n",
    "\n",
    "$$ xyz \\quad xzy \\quad yzx \\quad yxz \\quad zxy \\quad zyx  $$\n",
    "\n",
    "$$ xyx \\quad xzx \\quad yzy \\quad yxy \\quad zxz \\quad zyz  $$\n",
    "\n",
    "The first six sequences (first row) are all around different axes, they are usually referred as Cardan or Tait–Bryan angles. The other six sequences (second row) have the first and third rotations around the same axis, but keep in mind that the axis for the third rotation is not at the same place anymore because it changed its orientation after the second rotation. The sequences with repeated axes are known as proper or classic Euler angles.\n",
    "\n",
    "Which order to use it is a matter of convention, but because the order affects the results, it's fundamental to follow a convention and report it. In Engineering Mechanics (including Biomechanics), the $xyz$ order is more common; in Physics the $zxz$ order is more common (but the letters chosen to refer to the axes are arbitrary, what matters is the directions they represent). In Biomechanics, the order for the Cardan angles is most often based on the angle of most interest or of most reliable measurement. Accordingly, the axis of flexion/extension is typically selected as the first axis, the axis for abduction/adduction is the second, and the axis for internal/external rotation is the last one. We will see about this order later. The $zyx$ order is commonly used to describe the orientation of a ship or aircraft and the rotations are known as the nautical angles: yaw, pitch and roll, respectively (see next figure).  \n",
    "<br>\n",
    "<figure><img src='https://upload.wikimedia.org/wikipedia/commons/thumb/1/16/Yaw_Axis.svg/319px-Yaw_Axis.svg.png' alt='translation and rotation 3D'/> <figcaption><center><i>Figure. The principal axes of an aircraft and the names for the rotations around these axes (<a href=\"https://en.wikipedia.org/wiki/Euler_angles\">image from Wikipedia</a>).</i></center></figcaption> </figure>\n",
    "\n",
    "If instead of rotations around the rotating local coordinate system we perform rotations around the fixed Global coordinate system, we will have other 12 different sequences of three elemental rotations, these are called simply rotation angles. So, in total there are 24 possible different sequences of three elemental rotations, but the 24 orders are not independent; with the 12 different sequences of Euler angles at the local coordinate system we can obtain the other 12 sequences at the Global coordinate system.\n",
    "\n",
    "The Python function `euler_rotmat.py` (code at the end of this text) determines the rotation matrix in algebraic form for any of the 24 different sequences (and sequences with only one or two axes can be inputed). This function also determines the rotation matrix in numeric form if a list of up to three angles are inputed.\n",
    "\n",
    "For instance, the rotation matrix in algebraic form for the $zxz$ order of Euler angles at the local coordinate system and the correspondent rotation matrix in numeric form after three elemental rotations by $90^o$ each are:"
   ]
  },
  {
   "cell_type": "code",
   "execution_count": 17,
   "metadata": {
    "ExecuteTime": {
     "end_time": "2020-11-17T00:32:06.601923Z",
     "start_time": "2020-11-17T00:32:06.597167Z"
    },
    "slideshow": {
     "slide_type": "fragment"
    }
   },
   "outputs": [],
   "source": [
    "from euler_rotmat import euler_rotmat"
   ]
  },
  {
   "cell_type": "code",
   "execution_count": 18,
   "metadata": {
    "ExecuteTime": {
     "end_time": "2020-11-17T00:32:06.631134Z",
     "start_time": "2020-11-17T00:32:06.603398Z"
    },
    "scrolled": true,
    "slideshow": {
     "slide_type": "fragment"
    }
   },
   "outputs": [
    {
     "data": {
      "text/latex": [
       "$\\displaystyle \\mathbf{R}_{local}( z:\\alpha,x:\\beta,z:\\gamma) =\\left[\\begin{matrix}- \\sin{\\left(\\alpha \\right)} \\sin{\\left(\\gamma \\right)} \\cos{\\left(\\beta \\right)} + \\cos{\\left(\\alpha \\right)} \\cos{\\left(\\gamma \\right)} & \\sin{\\left(\\alpha \\right)} \\cos{\\left(\\gamma \\right)} + \\sin{\\left(\\gamma \\right)} \\cos{\\left(\\alpha \\right)} \\cos{\\left(\\beta \\right)} & \\sin{\\left(\\beta \\right)} \\sin{\\left(\\gamma \\right)}\\\\- \\sin{\\left(\\alpha \\right)} \\cos{\\left(\\beta \\right)} \\cos{\\left(\\gamma \\right)} - \\sin{\\left(\\gamma \\right)} \\cos{\\left(\\alpha \\right)} & - \\sin{\\left(\\alpha \\right)} \\sin{\\left(\\gamma \\right)} + \\cos{\\left(\\alpha \\right)} \\cos{\\left(\\beta \\right)} \\cos{\\left(\\gamma \\right)} & \\sin{\\left(\\beta \\right)} \\cos{\\left(\\gamma \\right)}\\\\\\sin{\\left(\\alpha \\right)} \\sin{\\left(\\beta \\right)} & - \\sin{\\left(\\beta \\right)} \\cos{\\left(\\alpha \\right)} & \\cos{\\left(\\beta \\right)}\\end{matrix}\\right]$"
      ],
      "text/plain": [
       "<IPython.core.display.Math object>"
      ]
     },
     "metadata": {},
     "output_type": "display_data"
    },
    {
     "data": {
      "text/latex": [
       "$\\displaystyle \\mathbf{R}_{local}(z:\\alpha=90^o,\\;x:\\beta=90^o,\\;z:\\gamma=90^o)=\\left[\\begin{matrix}0.0 & 0.0 & 1.0\\\\0.0 & -1.0 & 0.0\\\\1.0 & 0.0 & 0.0\\end{matrix}\\right]$"
      ],
      "text/plain": [
       "<IPython.core.display.Math object>"
      ]
     },
     "metadata": {},
     "output_type": "display_data"
    }
   ],
   "source": [
    "Ra, Rn = euler_rotmat(order='zxz', frame='local', angles=[90, 90, 90])"
   ]
  },
  {
   "cell_type": "markdown",
   "metadata": {},
   "source": [
    "### Line of nodes\n",
    "\n",
    "The second axis of rotation in the rotating coordinate system is also referred as the nodal axis or line of nodes; this axis coincides with the intersection of two perpendicular planes, one from each Global (fixed) and local (rotating) coordinate systems. The figure below shows an example of rotations and the nodal axis for the $xyz$ sequence of the Cardan angles.\n",
    "\n",
    "<div class='center-align'><figure><img src='./../images/Node.png' alt='rotations'/> <figcaption><center><i>Figure. First row: example of rotations for the $xyz$ sequence of the Cardan angles. The Global (fixed) $XYZ$ coordinate system is shown in green, the local (rotating) $xyz$ coordinate system is shown in blue. The nodal axis (<b>N</b>, shown in red) is defined by the intersection of the $YZ$ and $xy$ planes and all rotations can be described in relation to this nodal axis or to a perpendicular axis to it. Second row: starting from no rotation, the local coordinate system is rotated by $\\alpha$ around the $x$ axis, then by $\\beta$ around the rotated $y$ axis, and finally by $\\gamma$ around the twice rotated $z$ axis. Note that the line of nodes coincides with the $y$ axis for the second rotation. </i></center></figcaption> </figure></div>"
   ]
  },
  {
   "cell_type": "markdown",
   "metadata": {},
   "source": [
    "### Determination of the Euler angles\n",
    "\n",
    "Once a convention is adopted, the corresponding three Euler angles of rotation can be found.   \n",
    "For example, for the $\\mathbf{R}_{xyz}$ rotation matrix:"
   ]
  },
  {
   "cell_type": "code",
   "execution_count": 19,
   "metadata": {
    "ExecuteTime": {
     "end_time": "2020-11-17T00:32:06.927753Z",
     "start_time": "2020-11-17T00:32:06.631905Z"
    },
    "scrolled": true
   },
   "outputs": [
    {
     "data": {
      "text/latex": [
       "$\\displaystyle \\mathbf{R}_{local}( x:\\alpha,y:\\beta,z:\\gamma) =\\left[\\begin{matrix}\\cos{\\left(\\beta \\right)} \\cos{\\left(\\gamma \\right)} & \\sin{\\left(\\alpha \\right)} \\sin{\\left(\\beta \\right)} \\cos{\\left(\\gamma \\right)} + \\sin{\\left(\\gamma \\right)} \\cos{\\left(\\alpha \\right)} & \\sin{\\left(\\alpha \\right)} \\sin{\\left(\\gamma \\right)} - \\sin{\\left(\\beta \\right)} \\cos{\\left(\\alpha \\right)} \\cos{\\left(\\gamma \\right)}\\\\- \\sin{\\left(\\gamma \\right)} \\cos{\\left(\\beta \\right)} & - \\sin{\\left(\\alpha \\right)} \\sin{\\left(\\beta \\right)} \\sin{\\left(\\gamma \\right)} + \\cos{\\left(\\alpha \\right)} \\cos{\\left(\\gamma \\right)} & \\sin{\\left(\\alpha \\right)} \\cos{\\left(\\gamma \\right)} + \\sin{\\left(\\beta \\right)} \\sin{\\left(\\gamma \\right)} \\cos{\\left(\\alpha \\right)}\\\\\\sin{\\left(\\beta \\right)} & - \\sin{\\left(\\alpha \\right)} \\cos{\\left(\\beta \\right)} & \\cos{\\left(\\alpha \\right)} \\cos{\\left(\\beta \\right)}\\end{matrix}\\right]$"
      ],
      "text/plain": [
       "<IPython.core.display.Math object>"
      ]
     },
     "metadata": {},
     "output_type": "display_data"
    }
   ],
   "source": [
    "R = euler_rotmat(order='xyz', frame='local')"
   ]
  },
  {
   "cell_type": "markdown",
   "metadata": {
    "slideshow": {
     "slide_type": "fragment"
    }
   },
   "source": [
    "The corresponding Cardan angles for the `xyz` sequence can be given by:\n",
    "\n",
    "<span class=\"notranslate\">\n",
    "\\begin{equation}\n",
    "\\begin{array}{}\n",
    "\\alpha = \\arctan\\left(\\dfrac{\\sin(\\alpha)}{\\cos(\\alpha)}\\right) = \\arctan\\left(\\dfrac{-\\mathbf{R}_{21}}{\\;\\;\\;\\mathbf{R}_{22}}\\right) \\\\\n",
    "\\\\\n",
    "\\beta = \\arctan\\left(\\dfrac{\\sin(\\beta)}{\\cos(\\beta)}\\right) = \\arctan\\left(\\dfrac{\\mathbf{R}_{20}}{\\sqrt{\\mathbf{R}_{00}^2+\\mathbf{R}_{10}^2}}\\right) \\\\  \n",
    "\\\\\n",
    "\\gamma = \\arctan\\left(\\dfrac{\\sin(\\gamma)}{\\cos(\\gamma)}\\right) = \\arctan\\left(\\dfrac{-\\mathbf{R}_{10}}{\\;\\;\\;\\mathbf{R}_{00}}\\right)\n",
    "\\end{array}\n",
    "\\end{equation}\n",
    "</span>\n",
    "\n",
    "Note that we prefer to use the mathematical function `arctan2` rather than simply `arcsin`, `arccos` or `arctan` because the latter cannot for example distinguish $45^o$ from $135^o$ and also for better numerical accuracy. See the text [Angular kinematics in a plane (2D)](https://nbviewer.jupyter.org/github/BMClab/bmc/blob/master/notebooks/KinematicsAngular2D.ipynb) for more on these issues.\n",
    "\n",
    "And here is a Python function to compute the Euler angles of rotations from the Global to the local coordinate system for the $xyz$ Cardan sequence: "
   ]
  },
  {
   "cell_type": "code",
   "execution_count": 20,
   "metadata": {
    "ExecuteTime": {
     "end_time": "2020-11-17T00:32:06.933424Z",
     "start_time": "2020-11-17T00:32:06.929044Z"
    }
   },
   "outputs": [],
   "source": [
    "def euler_angles_from_rot_xyz(rot_matrix, unit='deg'):\n",
    "    \"\"\" Compute Euler angles from rotation matrix in the xyz sequence.\"\"\"\n",
    "    \n",
    "    import numpy as np\n",
    "\n",
    "    R = np.array(rot_matrix, copy=False).astype(np.float64)[:3, :3]\n",
    "    angles = np.zeros(3)\n",
    "    \n",
    "    angles[0] = np.arctan2(-R[2, 1], R[2, 2])\n",
    "    angles[1] = np.arctan2( R[2, 0], np.sqrt(R[0, 0]**2 + R[1, 0]**2))\n",
    "    angles[2] = np.arctan2(-R[1, 0], R[0, 0])\n",
    "\n",
    "    if unit[:3].lower() == 'deg': # convert from rad to degree\n",
    "        angles = np.rad2deg(angles)\n",
    "\n",
    "    return angles"
   ]
  },
  {
   "cell_type": "markdown",
   "metadata": {},
   "source": [
    "For instance, consider sequential rotations of 45$^o$ around $x,y,z$. The resultant rotation matrix is:"
   ]
  },
  {
   "cell_type": "code",
   "execution_count": 21,
   "metadata": {
    "ExecuteTime": {
     "end_time": "2020-11-17T00:32:06.950003Z",
     "start_time": "2020-11-17T00:32:06.934703Z"
    }
   },
   "outputs": [
    {
     "data": {
      "text/latex": [
       "$\\displaystyle \\mathbf{R}_{local}(x:\\alpha=45^o,\\;y:\\beta=45^o,\\;z:\\gamma=45^o)=\\left[\\begin{matrix}0.5 & 0.854 & 0.146\\\\-0.5 & 0.146 & 0.854\\\\0.707 & -0.5 & 0.5\\end{matrix}\\right]$"
      ],
      "text/plain": [
       "<IPython.core.display.Math object>"
      ]
     },
     "metadata": {},
     "output_type": "display_data"
    }
   ],
   "source": [
    "Ra, Rn = euler_rotmat(order='xyz', frame='local', angles=[45, 45, 45], showA=False)"
   ]
  },
  {
   "cell_type": "markdown",
   "metadata": {},
   "source": [
    "Let's check that calculating back the Cardan angles from this rotation matrix using the `euler_angles_from_rot_xyz()` function:"
   ]
  },
  {
   "cell_type": "code",
   "execution_count": 22,
   "metadata": {
    "ExecuteTime": {
     "end_time": "2020-11-17T00:32:06.953776Z",
     "start_time": "2020-11-17T00:32:06.950920Z"
    }
   },
   "outputs": [
    {
     "data": {
      "text/plain": [
       "array([45., 45., 45.])"
      ]
     },
     "execution_count": 22,
     "metadata": {},
     "output_type": "execute_result"
    }
   ],
   "source": [
    "euler_angles_from_rot_xyz(Rn, unit='deg')"
   ]
  },
  {
   "cell_type": "markdown",
   "metadata": {},
   "source": [
    "We could implement a function to calculate the Euler angles for any of the 12 sequences (in fact, plus another 12 sequences if we consider all the rotations from and to the two coordinate systems), but this is tedious. There is a smarter solution using the concept of [quaternion](http://en.wikipedia.org/wiki/Quaternion), but we will not see that now.  \n",
    "\n",
    "Let's see a problem with using Euler angles known as gimbal lock."
   ]
  },
  {
   "cell_type": "markdown",
   "metadata": {},
   "source": [
    "### Gimbal lock\n",
    "\n",
    "[Gimbal lock](http://en.wikipedia.org/wiki/Gimbal_lock) is the loss of one degree of freedom in a three-dimensional coordinate system that occurs when an axis of rotation is placed parallel with another previous axis of rotation and two of the three rotations will be around the same direction given a certain convention of the Euler angles. This \"locks\" the system into rotations in a degenerate two-dimensional space. The system is not really locked in the sense it can't be moved or reach the other degree of freedom, but it will need an extra rotation for that.  \n",
    "For instance, let's look at the $zxz$ sequence of rotations by the angles $\\alpha, \\beta, \\gamma$:\n",
    "\n",
    "<span class=\"notranslate\">\n",
    "\\begin{equation}\n",
    "\\begin{array}{l l}\n",
    "\\mathbf{R}_{zxz} & = \\mathbf{R_{z}} \\mathbf{R_{x}} \\mathbf{R_{z}} \\\\ \n",
    "\\\\\n",
    "& = \n",
    "\\begin{bmatrix}\n",
    "\\cos\\gamma & \\sin\\gamma & 0\\\\\n",
    "-\\sin\\gamma & \\cos\\gamma & 0 \\\\\n",
    "0 & 0 & 1\n",
    "\\end{bmatrix}\n",
    "\\begin{bmatrix}\n",
    "1 & 0 & 0 \\\\\n",
    "0 & \\cos\\beta & \\sin\\beta \\\\\n",
    "0 & -\\sin\\beta & \\cos\\beta\n",
    "\\end{bmatrix}\n",
    "\\begin{bmatrix}\n",
    "\\cos\\alpha & \\sin\\alpha & 0\\\\\n",
    "-\\sin\\alpha & \\cos\\alpha & 0 \\\\\n",
    "0 & 0 & 1\n",
    "\\end{bmatrix}\n",
    "\\end{array}\n",
    "\\end{equation}\n",
    "</span>\n",
    "\n",
    "Which results in:"
   ]
  },
  {
   "cell_type": "code",
   "execution_count": 23,
   "metadata": {
    "ExecuteTime": {
     "end_time": "2020-11-17T00:32:06.964079Z",
     "start_time": "2020-11-17T00:32:06.954582Z"
    }
   },
   "outputs": [
    {
     "data": {
      "text/latex": [
       "$\\displaystyle \\mathbf{R}_{zxz}=\\left[\\begin{matrix}- \\sin{\\left(\\alpha \\right)} \\sin{\\left(\\gamma \\right)} \\cos{\\left(\\beta \\right)} + \\cos{\\left(\\alpha \\right)} \\cos{\\left(\\gamma \\right)} & \\sin{\\left(\\alpha \\right)} \\cos{\\left(\\gamma \\right)} + \\sin{\\left(\\gamma \\right)} \\cos{\\left(\\alpha \\right)} \\cos{\\left(\\beta \\right)} & \\sin{\\left(\\beta \\right)} \\sin{\\left(\\gamma \\right)}\\\\- \\sin{\\left(\\alpha \\right)} \\cos{\\left(\\beta \\right)} \\cos{\\left(\\gamma \\right)} - \\sin{\\left(\\gamma \\right)} \\cos{\\left(\\alpha \\right)} & - \\sin{\\left(\\alpha \\right)} \\sin{\\left(\\gamma \\right)} + \\cos{\\left(\\alpha \\right)} \\cos{\\left(\\beta \\right)} \\cos{\\left(\\gamma \\right)} & \\sin{\\left(\\beta \\right)} \\cos{\\left(\\gamma \\right)}\\\\\\sin{\\left(\\alpha \\right)} \\sin{\\left(\\beta \\right)} & - \\sin{\\left(\\beta \\right)} \\cos{\\left(\\alpha \\right)} & \\cos{\\left(\\beta \\right)}\\end{matrix}\\right]$"
      ],
      "text/plain": [
       "<IPython.core.display.Math object>"
      ]
     },
     "execution_count": 23,
     "metadata": {},
     "output_type": "execute_result"
    }
   ],
   "source": [
    "a, b, g = sym.symbols('alpha, beta, gamma')\n",
    "# Elemental rotation matrices of xyz (local):\n",
    "Rz = sym.Matrix([[cos(a), sin(a), 0], [-sin(a), cos(a), 0], [0, 0, 1]])\n",
    "Rx = sym.Matrix([[1, 0, 0], [0, cos(b), sin(b)], [0, -sin(b), cos(b)]])\n",
    "Rz2 = sym.Matrix([[cos(g), sin(g), 0], [-sin(g), cos(g), 0], [0, 0, 1]])\n",
    "# Rotation matrix for the zxz sequence:\n",
    "Rzxz = Rz2*Rx*Rz\n",
    "Math(sym.latex(r'\\mathbf{R}_{zxz}=') + sym.latex(Rzxz, mat_str='matrix'))"
   ]
  },
  {
   "cell_type": "markdown",
   "metadata": {},
   "source": [
    "\n",
    "Let's examine what happens with this rotation matrix when the rotation around the second axis ($x$) by $\\beta$ is zero:\n",
    "\n",
    "<span class=\"notranslate\">\n",
    "\\begin{equation}\n",
    "\\begin{array}{l l}\n",
    "\\mathbf{R}_{zxz}(\\alpha, \\beta=0, \\gamma) = \n",
    "\\begin{bmatrix}\n",
    "\\cos\\gamma & \\sin\\gamma & 0\\\\\n",
    "-\\sin\\gamma & \\cos\\gamma & 0 \\\\\n",
    "0 & 0 & 1\n",
    "\\end{bmatrix}\n",
    "\\begin{bmatrix}\n",
    "1 & 0 & 0 \\\\\n",
    "0 & 1 & 0 \\\\\n",
    "0 & 0 & 1\n",
    "\\end{bmatrix}\n",
    "\\begin{bmatrix}\n",
    "\\cos\\alpha & \\sin\\alpha & 0\\\\\n",
    "-\\sin\\alpha & \\cos\\alpha & 0 \\\\\n",
    "0 & 0 & 1\n",
    "\\end{bmatrix}\n",
    "\\end{array}\n",
    "\\end{equation}\n",
    "</span>\n",
    "\n",
    "The second matrix is the identity matrix and has no effect on the product of the matrices, which will be:"
   ]
  },
  {
   "cell_type": "code",
   "execution_count": 24,
   "metadata": {
    "ExecuteTime": {
     "end_time": "2020-11-17T00:32:06.969721Z",
     "start_time": "2020-11-17T00:32:06.965088Z"
    }
   },
   "outputs": [
    {
     "data": {
      "text/latex": [
       "$\\displaystyle \\mathbf{R}_{xyz}(\\alpha, \\beta=0, \\gamma)=\\left[\\begin{matrix}- \\sin{\\left(\\alpha \\right)} \\sin{\\left(\\gamma \\right)} + \\cos{\\left(\\alpha \\right)} \\cos{\\left(\\gamma \\right)} & \\sin{\\left(\\alpha \\right)} \\cos{\\left(\\gamma \\right)} + \\sin{\\left(\\gamma \\right)} \\cos{\\left(\\alpha \\right)} & 0\\\\- \\sin{\\left(\\alpha \\right)} \\cos{\\left(\\gamma \\right)} - \\sin{\\left(\\gamma \\right)} \\cos{\\left(\\alpha \\right)} & - \\sin{\\left(\\alpha \\right)} \\sin{\\left(\\gamma \\right)} + \\cos{\\left(\\alpha \\right)} \\cos{\\left(\\gamma \\right)} & 0\\\\0 & 0 & 1\\end{matrix}\\right]$"
      ],
      "text/plain": [
       "<IPython.core.display.Math object>"
      ]
     },
     "execution_count": 24,
     "metadata": {},
     "output_type": "execute_result"
    }
   ],
   "source": [
    "Rzxz = Rz2*Rz\n",
    "Math(sym.latex(r'\\mathbf{R}_{xyz}(\\alpha, \\beta=0, \\gamma)=') + \\\n",
    "     sym.latex(Rzxz, mat_str='matrix'))"
   ]
  },
  {
   "cell_type": "markdown",
   "metadata": {},
   "source": [
    "Which simplifies to:"
   ]
  },
  {
   "cell_type": "code",
   "execution_count": 25,
   "metadata": {
    "ExecuteTime": {
     "end_time": "2020-11-17T00:32:07.082898Z",
     "start_time": "2020-11-17T00:32:06.970514Z"
    }
   },
   "outputs": [
    {
     "data": {
      "text/latex": [
       "$\\displaystyle \\mathbf{R}_{xyz}(\\alpha, \\beta=0, \\gamma)=\\left[\\begin{matrix}\\cos{\\left(\\alpha + \\gamma \\right)} & \\sin{\\left(\\alpha + \\gamma \\right)} & 0\\\\- \\sin{\\left(\\alpha + \\gamma \\right)} & \\cos{\\left(\\alpha + \\gamma \\right)} & 0\\\\0 & 0 & 1\\end{matrix}\\right]$"
      ],
      "text/plain": [
       "<IPython.core.display.Math object>"
      ]
     },
     "execution_count": 25,
     "metadata": {},
     "output_type": "execute_result"
    }
   ],
   "source": [
    "Rzxz = sym.simplify(Rzxz)\n",
    "Math(sym.latex(r'\\mathbf{R}_{xyz}(\\alpha, \\beta=0, \\gamma)=') + \\\n",
    "     sym.latex(Rzxz, mat_str='matrix'))"
   ]
  },
  {
   "cell_type": "markdown",
   "metadata": {},
   "source": [
    "Despite different values of $\\alpha$ and $\\gamma$ the result is a single rotation around the $z$ axis given by the sum $\\alpha+\\gamma$. In this case, of the three degrees of freedom one was lost (the other degree of freedom was set by $\\beta=0$). For movement analysis, this means for example that one angle will be undetermined because everything we know is the sum of the two angles obtained from the rotation matrix. We can set the unknown angle to zero but this is arbitrary.\n",
    "\n",
    "In fact, we already dealt with another example of gimbal lock when we looked at the $xyz$ sequence with rotations by $90^o$. See the figure representing these rotations again and perceive that the first and third rotations were around the same axis because the second rotation was by $90^o$. Let's do the matrix multiplication replacing only the second angle by $90^o$ (and let's use the `euler_rotmat.py`:"
   ]
  },
  {
   "cell_type": "code",
   "execution_count": 26,
   "metadata": {
    "ExecuteTime": {
     "end_time": "2020-11-17T00:32:07.304696Z",
     "start_time": "2020-11-17T00:32:07.083711Z"
    }
   },
   "outputs": [
    {
     "data": {
      "text/latex": [
       "$\\displaystyle \\mathbf{R}_{local}(x:\\alpha,\\;y:\\beta=90^o,\\;z:\\gamma)=\\left[\\begin{matrix}0 & \\sin{\\left(\\alpha + \\gamma \\right)} & - \\cos{\\left(\\alpha + \\gamma \\right)}\\\\0 & \\cos{\\left(\\alpha + \\gamma \\right)} & \\sin{\\left(\\alpha + \\gamma \\right)}\\\\1 & 0 & 0\\end{matrix}\\right]$"
      ],
      "text/plain": [
       "<IPython.core.display.Math object>"
      ]
     },
     "metadata": {},
     "output_type": "display_data"
    }
   ],
   "source": [
    "Ra, Rn = euler_rotmat(order='xyz', frame='local', angles=[None, 90., None], showA=False)"
   ]
  },
  {
   "cell_type": "markdown",
   "metadata": {
    "slideshow": {
     "slide_type": "slide"
    }
   },
   "source": [
    "Once again, one degree of freedom was lost and we will not be able to uniquely determine the three angles for the given rotation matrix and sequence.\n",
    "\n",
    "Possible solutions to avoid the gimbal lock are: choose a different sequence; do not rotate the system by the angle that puts the system in gimbal lock (in the examples above, avoid $\\beta=90^o$); or add an extra fourth parameter in the description of the rotation angles.   \n",
    "\n",
    "But if we have a physical system where we measure or specify exactly three Euler angles in a fixed sequence to describe or control it, and we can't avoid the system to assume certain angles, then we might have to say \"Houston, we have a problem\".   \n",
    "A famous situation where such a problem occurred was during the Apollo 13 mission. This is an actual conversation between crew and mission control during the Apollo 13 mission (Corke, 2011):\n",
    "\n",
    ">`Mission clock: 02 08 12 47`      \n",
    "**Flight**: *Go, Guidance.*    \n",
    "**Guido**: *He’s getting close to gimbal lock there.*    \n",
    "**Flight**: *Roger. CapCom, recommend he bring up C3, C4, B3, B4, C1 and C2 thrusters, and advise he’s getting close to gimbal lock.*   \n",
    "**CapCom**: *Roger.*    \n",
    "\n",
    "*Of note, it was not a gimbal lock that caused the accident with the the Apollo 13 mission, the problem was an oxygen tank explosion.*"
   ]
  },
  {
   "cell_type": "markdown",
   "metadata": {
    "slideshow": {
     "slide_type": "slide"
    }
   },
   "source": [
    "## Determination of the rotation matrix\n",
    "\n",
    "A typical way to determine the rotation matrix for a rigid body in biomechanics is to use motion analysis to measure the position of at least three non-collinear markers placed on the rigid body, and then calculate a basis with these positions, analogue to what we have described in the notebook [Rigid-body transformations in a plane (2D)](http://nbviewer.ipython.org/github/BMClab/bmc/blob/master/notebooks/Transformation2D.ipynb).\n",
    "\n",
    "### Basis\n",
    "\n",
    "If we have the position of three markers: **m1**, **m2**, **m3**, a basis (formed by three orthogonal versors) can be found as:   \n",
    "\n",
    " - First axis, **v1**, the vector **m2-m1**;   \n",
    " - Second axis, **v2**, the cross product between the vectors **v1** and **m3-m1**;   \n",
    " - Third axis, **v3**, the cross product between the vectors **v1** and **v2**.  \n",
    " \n",
    "Then, each of these vectors are normalized resulting in three orthogonal versors.   \n",
    "\n",
    "For example, given the positions m1 = [1,0,0], m2 = [0,1,0], m3 = [0,0,1], a basis can be found:"
   ]
  },
  {
   "cell_type": "code",
   "execution_count": 27,
   "metadata": {
    "ExecuteTime": {
     "end_time": "2020-11-17T00:32:07.310711Z",
     "start_time": "2020-11-17T00:32:07.305584Z"
    }
   },
   "outputs": [
    {
     "name": "stdout",
     "output_type": "stream",
     "text": [
      "Versors:\n",
      "v1 = [-0.7071  0.7071  0.    ]\n",
      "v2 = [0.5774 0.5774 0.5774]\n",
      "v3 = [ 0.4082  0.4082 -0.8165]\n",
      "\n",
      "Norm of each versor:\n",
      " 1.0 1.0 1.0000000000000002\n"
     ]
    }
   ],
   "source": [
    "m1 = np.array([1, 0, 0])\n",
    "m2 = np.array([0, 1, 0])\n",
    "m3 = np.array([0, 0, 1])\n",
    "\n",
    "v1 = m2 - m1\n",
    "v2 = np.cross(v1, m3 - m1)\n",
    "v3 = np.cross(v1, v2)\n",
    "\n",
    "print('Versors:')\n",
    "v1 = v1/np.linalg.norm(v1)\n",
    "print('v1 =', v1)\n",
    "\n",
    "v2 = v2/np.linalg.norm(v2)\n",
    "print('v2 =', v2)\n",
    "\n",
    "v3 = v3/np.linalg.norm(v3)\n",
    "print('v3 =', v3)\n",
    "\n",
    "print('\\nNorm of each versor:\\n',\n",
    "      np.linalg.norm(np.cross(v1, v2)),\n",
    "      np.linalg.norm(np.cross(v1, v3)),\n",
    "      np.linalg.norm(np.cross(v2, v3)))"
   ]
  },
  {
   "cell_type": "markdown",
   "metadata": {
    "slideshow": {
     "slide_type": "slide"
    }
   },
   "source": [
    "Remember from the text [Rigid-body transformations in a plane (2D)](http://nbviewer.ipython.org/github/BMClab/bmc/blob/master/notebooks/Transformation2D.ipynb) that the versors of this basis are the columns of the $\\mathbf{R_{Gl}}$ and the rows of the $\\mathbf{R_{lG}}$ rotation matrices, for instance:"
   ]
  },
  {
   "cell_type": "code",
   "execution_count": 28,
   "metadata": {
    "ExecuteTime": {
     "end_time": "2020-11-17T00:32:07.314540Z",
     "start_time": "2020-11-17T00:32:07.311705Z"
    },
    "slideshow": {
     "slide_type": "fragment"
    }
   },
   "outputs": [
    {
     "name": "stdout",
     "output_type": "stream",
     "text": [
      "Rotation matrix from Global to local coordinate system:\n",
      " [[-0.7071  0.7071  0.    ]\n",
      " [ 0.5774  0.5774  0.5774]\n",
      " [ 0.4082  0.4082 -0.8165]]\n"
     ]
    }
   ],
   "source": [
    "RlG = np.array([v1, v2, v3])\n",
    "print('Rotation matrix from Global to local coordinate system:\\n', RlG)"
   ]
  },
  {
   "cell_type": "markdown",
   "metadata": {
    "slideshow": {
     "slide_type": "fragment"
    }
   },
   "source": [
    "And the corresponding angles of rotation using the $xyz$ sequence are:"
   ]
  },
  {
   "cell_type": "code",
   "execution_count": 29,
   "metadata": {
    "ExecuteTime": {
     "end_time": "2020-11-17T00:32:07.320650Z",
     "start_time": "2020-11-17T00:32:07.317988Z"
    },
    "slideshow": {
     "slide_type": "fragment"
    }
   },
   "outputs": [
    {
     "data": {
      "text/plain": [
       "array([-153.4349,   24.0948, -140.7685])"
      ]
     },
     "execution_count": 29,
     "metadata": {},
     "output_type": "execute_result"
    }
   ],
   "source": [
    "euler_angles_from_rot_xyz(RlG)"
   ]
  },
  {
   "cell_type": "markdown",
   "metadata": {
    "slideshow": {
     "slide_type": "fragment"
    }
   },
   "source": [
    "These angles don't mean anything now because they are angles of the axes of the arbitrary basis we computed. In biomechanics, if we want an anatomical interpretation of the coordinate system orientation, we define the versors of the basis oriented with anatomical axes (e.g., for the shoulder, one versor would be aligned with the long axis of the upper arm) as seen [in this notebook about reference frames](https://nbviewer.jupyter.org/github/BMClab/bmc/blob/master/notebooks/ReferenceFrame.ipynb).  "
   ]
  },
  {
   "cell_type": "markdown",
   "metadata": {
    "slideshow": {
     "slide_type": "slide"
    }
   },
   "source": [
    "## Determination of the rotation matrix between two local coordinate systems\n",
    "\n",
    "Similarly to the [bidimensional case](https://nbviewer.jupyter.org/github/bmclab/bmc/blob/master/notebooks/Transformation2D.ipynb), to compute the rotation matrix between two local coordinate systems we can use the rotation matrices of both coordinate systems:\n",
    "\n",
    "<span class=\"notranslate\">\n",
    "\\begin{equation}\n",
    "    R_{l_1l_2} = R_{Gl_1}^TR_{Gl_2}\n",
    "\\end{equation}\n",
    "</span>\n",
    "\n",
    "After this, the Euler angles between both coordinate systems can be found using the `arctan2` function as shown previously. "
   ]
  },
  {
   "cell_type": "markdown",
   "metadata": {
    "slideshow": {
     "slide_type": "slide"
    }
   },
   "source": [
    "## Translation and Rotation\n",
    "\n",
    "Consider the case where the local coordinate system is translated and rotated in relation to the Global coordinate system as illustrated in the next figure.  \n",
    "<br>\n",
    "<figure><img src='./../images/transrot3D.png' alt='translation and rotation 3D'/> <figcaption><center><i>Figure. A point in three-dimensional space represented in two coordinate systems, with one system translated and rotated.</i></center></figcaption> </figure>\n",
    "\n",
    "The position of point $\\mathbf{P}$ originally described in the local coordinate system, but now described in the Global coordinate system in vector form is:\n",
    "\n",
    "$$ \\mathbf{P_G} = \\mathbf{L_G} + \\mathbf{R_{Gl}}\\mathbf{P_l} $$\n",
    "\n",
    "This means that we first *disrotate* the local coordinate system and then correct for the translation between the two coordinate systems. Note that we can't invert this order: the point position is expressed in the local coordinate system and we can't add this vector to another vector expressed in the Global coordinate system, first we have to convert the vectors to the same coordinate system.\n",
    "\n",
    "If now we want to find the position of a point at the local coordinate system given its position in the Global coordinate system, the rotation matrix and the translation vector, we have to invert the expression above:\n",
    "\n",
    "$$ \\begin{array}{l l}\n",
    "\\mathbf{P_G} = \\mathbf{L_G} + \\mathbf{R_{Gl}}\\mathbf{P_l} \\implies \\\\\n",
    "\\\\\n",
    "\\mathbf{R_{Gl}^{-1}}\\cdot\\mathbf{P_G} = \\mathbf{R_{Gl}^{-1}}\\left(\\mathbf{L_G} + \\mathbf{R_{Gl}}\\mathbf{P_l}\\right) \\implies \\\\\n",
    "\\\\\n",
    "\\mathbf{R_{Gl}^{-1}}\\mathbf{P_G} = \\mathbf{R_{Gl}^{-1}}\\mathbf{L_G} + \\mathbf{R_{Gl}^{-1}}\\mathbf{R_{Gl}}\\mathbf{P_l} \\implies \\\\\n",
    "\\\\\n",
    "\\mathbf{P_l} = \\mathbf{R_{Gl}^{-1}}\\left(\\mathbf{P_G}-\\mathbf{L_G}\\right) =  \\mathbf{R_{Gl}^T}\\left(\\mathbf{P_G}-\\mathbf{L_G}\\right) \\;\\;\\;\\;\\; \\text{or} \\;\\;\\;\\;\\; \\mathbf{P_l} = \\mathbf{R_{lG}}\\left(\\mathbf{P_G}-\\mathbf{L_G}\\right) \n",
    "\\end{array} $$\n",
    "\n",
    "The expression above indicates that to perform the inverse operation, to go from the Global to the local coordinate system, we first translate and then rotate the coordinate system."
   ]
  },
  {
   "cell_type": "markdown",
   "metadata": {},
   "source": [
    "### Transformation matrix\n",
    "\n",
    "It is possible to combine the translation and rotation operations in only one matrix, called the transformation matrix:\n",
    "\n",
    "<span class=\"notranslate\">\n",
    "\\begin{equation}\n",
    "\\begin{bmatrix}\n",
    "\\mathbf{P_X} \\\\\n",
    "\\mathbf{P_Y} \\\\\n",
    "\\mathbf{P_Z} \\\\\n",
    "1\n",
    "\\end{bmatrix} =\n",
    "\\begin{bmatrix}\n",
    ". & . & . & \\mathbf{L_{X}} \\\\\n",
    ". & \\mathbf{R_{Gl}} & .  & \\mathbf{L_{Y}} \\\\\n",
    ". & . & .  & \\mathbf{L_{Z}} \\\\\n",
    "0 & 0 & 0 & 1\n",
    "\\end{bmatrix}\n",
    "\\begin{bmatrix}\n",
    "\\mathbf{P}_x \\\\\n",
    "\\mathbf{P}_y \\\\\n",
    "\\mathbf{P}_z \\\\\n",
    "1\n",
    "\\end{bmatrix}\n",
    "\\end{equation}\n",
    "</span>\n",
    "\n",
    "Or simply:\n",
    "\n",
    "$$ \\mathbf{P_G} = \\mathbf{T_{Gl}}\\mathbf{P_l} $$\n",
    "\n",
    "Remember that in general the transformation matrix is not orthonormal, i.e., its inverse is not equal to its transpose.\n",
    "\n",
    "The inverse operation, to express the position at the local coordinate system in terms of the Global reference system, is:\n",
    "\n",
    "$$ \\mathbf{P_l} = \\mathbf{T_{Gl}^{-1}}\\mathbf{P_G} $$\n",
    "\n",
    "And in matrix form:\n",
    "\n",
    "<span class=\"notranslate\">\n",
    "\\begin{equation}\n",
    "\\begin{bmatrix}\n",
    "\\mathbf{P_x} \\\\\n",
    "\\mathbf{P_y} \\\\\n",
    "\\mathbf{P_z} \\\\\n",
    "1\n",
    "\\end{bmatrix} =\n",
    "\\begin{bmatrix}\n",
    "\\cdot & \\cdot & \\cdot & \\cdot \\\\\n",
    "\\cdot & \\mathbf{R^{-1}_{Gl}} & \\cdot  & -\\mathbf{R^{-1}_{Gl}}\\:\\mathbf{L_G} \\\\\n",
    "\\cdot & \\cdot & \\cdot  & \\cdot \\\\\n",
    "0 & 0 & 0 & 1\n",
    "\\end{bmatrix}\n",
    "\\begin{bmatrix}\n",
    "\\mathbf{P_X} \\\\\n",
    "\\mathbf{P_Y} \\\\\n",
    "\\mathbf{P_Z} \\\\\n",
    "1\n",
    "\\end{bmatrix}\n",
    "\\end{equation}\n",
    "</span>"
   ]
  },
  {
   "cell_type": "markdown",
   "metadata": {},
   "source": [
    "### Example with actual motion analysis data \n",
    "\n",
    "*The data for this example is taken from page 183 of David Winter's book.*  \n",
    "Consider the following marker positions placed on a leg (described in the laboratory coordinate system with coordinates $x, y, z$ in cm, the $x$ axis points forward and the $y$ axes points upward): lateral malleolus (**lm** = [2.92, 10.10, 18.85]), medial malleolus (**mm** = [2.71, 10.22, 26.52]), fibular head (**fh** = [5.05, 41.90, 15.41]), and medial condyle (**mc** = [8.29, 41.88, 26.52]). Define the ankle joint center as the centroid between the **lm** and **mm** markers and the knee joint center as the centroid between the **fh** and **mc** markers. An anatomical coordinate system for the leg can be defined as: the quasi-vertical axis ($y$) passes through the ankle and knee joint centers; a temporary medio-lateral axis ($z$) passes through the two markers on the malleolus, an anterior-posterior as the cross product between the two former calculated orthogonal axes, and the origin at the ankle joint center.   \n",
    " a) Calculate the anatomical coordinate system for the leg as described above.   \n",
    " b) Calculate the rotation matrix and the translation vector for the transformation from the anatomical to the laboratory coordinate system.   \n",
    " c) Calculate the position of each marker and of each joint center at the anatomical coordinate system.  \n",
    " d) Calculate the Cardan angles using the $zxy$ sequence for the orientation of the leg with respect to the laboratory (but remember that the letters chosen to refer to axes are arbitrary, what matters is the directions they represent)."
   ]
  },
  {
   "cell_type": "code",
   "execution_count": 30,
   "metadata": {
    "ExecuteTime": {
     "end_time": "2020-11-17T00:32:07.325458Z",
     "start_time": "2020-11-17T00:32:07.322061Z"
    }
   },
   "outputs": [
    {
     "name": "stdout",
     "output_type": "stream",
     "text": [
      "Poition of the ankle joint center: [ 2.815 10.16  22.685]\n",
      "Poition of the knee joint center: [ 6.67  41.89  20.965]\n"
     ]
    }
   ],
   "source": [
    "# calculation of the joint centers\n",
    "mm = np.array([2.71, 10.22, 26.52])\n",
    "lm = np.array([2.92, 10.10, 18.85])\n",
    "fh = np.array([5.05, 41.90, 15.41])\n",
    "mc = np.array([8.29, 41.88, 26.52])\n",
    "ajc = (mm + lm)/2\n",
    "kjc = (fh + mc)/2\n",
    "print('Poition of the ankle joint center:', ajc)\n",
    "print('Poition of the knee joint center:', kjc)"
   ]
  },
  {
   "cell_type": "code",
   "execution_count": 31,
   "metadata": {
    "ExecuteTime": {
     "end_time": "2020-11-17T00:32:07.330079Z",
     "start_time": "2020-11-17T00:32:07.326327Z"
    }
   },
   "outputs": [
    {
     "name": "stdout",
     "output_type": "stream",
     "text": [
      "Versors:\n",
      "x = [ 0.9925 -0.119   0.029 ]\n",
      "y = [ 0.1204  0.9913 -0.0537]\n",
      "z = [-0.0224  0.0568  0.9981]\n",
      "\n",
      "Origin = [ 2.815 10.16  22.685]\n"
     ]
    }
   ],
   "source": [
    "# calculation of the anatomical coordinate system axes (basis)\n",
    "y = kjc - ajc\n",
    "x = np.cross(y, mm - lm)\n",
    "z = np.cross(x, y)\n",
    "print('Versors:')\n",
    "x = x/np.linalg.norm(x)\n",
    "y = y/np.linalg.norm(y)\n",
    "z = z/np.linalg.norm(z)\n",
    "print('x =', x)\n",
    "print('y =', y)\n",
    "print('z =', z)\n",
    "Oleg = ajc\n",
    "print('\\nOrigin =', Oleg)"
   ]
  },
  {
   "cell_type": "code",
   "execution_count": 32,
   "metadata": {
    "ExecuteTime": {
     "end_time": "2020-11-17T00:32:07.333925Z",
     "start_time": "2020-11-17T00:32:07.330951Z"
    }
   },
   "outputs": [
    {
     "name": "stdout",
     "output_type": "stream",
     "text": [
      "Rotation matrix from the anatomical to the laboratory coordinate system:\n",
      " [[ 0.9925  0.1204 -0.0224]\n",
      " [-0.119   0.9913  0.0568]\n",
      " [ 0.029  -0.0537  0.9981]]\n",
      "\n",
      "Rotation matrix from the laboratory to the anatomical coordinate system:\n",
      " [[ 0.9925 -0.119   0.029 ]\n",
      " [ 0.1204  0.9913 -0.0537]\n",
      " [-0.0224  0.0568  0.9981]]\n"
     ]
    }
   ],
   "source": [
    "# Rotation matrices\n",
    "RGl = np.array([x, y , z]).T\n",
    "print('Rotation matrix from the anatomical to the laboratory coordinate system:\\n', RGl)\n",
    "RlG = RGl.T\n",
    "print('\\nRotation matrix from the laboratory to the anatomical coordinate system:\\n', RlG)"
   ]
  },
  {
   "cell_type": "code",
   "execution_count": 33,
   "metadata": {
    "ExecuteTime": {
     "end_time": "2020-11-17T00:32:07.337255Z",
     "start_time": "2020-11-17T00:32:07.334751Z"
    }
   },
   "outputs": [
    {
     "name": "stdout",
     "output_type": "stream",
     "text": [
      "Translational vector from the anatomical to the laboratory coordinate system:\n",
      " [ 2.815 10.16  22.685]\n"
     ]
    }
   ],
   "source": [
    "# Translational vector\n",
    "OG = np.array([0, 0, 0])  # Laboratory coordinate system origin\n",
    "LG = Oleg - OG\n",
    "print('Translational vector from the anatomical to the laboratory coordinate system:\\n', LG)"
   ]
  },
  {
   "cell_type": "markdown",
   "metadata": {
    "slideshow": {
     "slide_type": "slide"
    }
   },
   "source": [
    "To get the coordinates from the laboratory (global) coordinate system to the anatomical (local) coordinate system:\n",
    "\n",
    "$$ \\mathbf{P_l} = \\mathbf{R_{lG}}\\left(\\mathbf{P_G}-\\mathbf{L_G}\\right) $$"
   ]
  },
  {
   "cell_type": "code",
   "execution_count": 34,
   "metadata": {
    "ExecuteTime": {
     "end_time": "2020-11-17T00:32:07.343398Z",
     "start_time": "2020-11-17T00:32:07.338012Z"
    },
    "slideshow": {
     "slide_type": "slide"
    }
   },
   "outputs": [
    {
     "name": "stdout",
     "output_type": "stream",
     "text": [
      "Coordinates of mm in the anatomical system:\n",
      " [-0.     -0.1592  3.8336]\n",
      "Coordinates of lm in the anatomical system:\n",
      " [-0.      0.1592 -3.8336]\n",
      "Coordinates of fh in the anatomical system:\n",
      " [-1.7703 32.1229 -5.5078]\n",
      "Coordinates of mc in the anatomical system:\n",
      " [ 1.7703 31.8963  5.5078]\n",
      "Coordinates of kjc in the anatomical system:\n",
      " [ 0.     32.0096  0.    ]\n",
      "Coordinates of ajc in the anatomical system (origin):\n",
      " [0. 0. 0.]\n"
     ]
    }
   ],
   "source": [
    "# position of each marker and of each joint center at the anatomical coordinate system\n",
    "mml  = np.dot(RlG, (mm - LG))  # equivalent to the algebraic expression RlG*(mm - LG).T\n",
    "lml  = np.dot(RlG, (lm - LG))\n",
    "fhl = np.dot(RlG, (fh - LG))\n",
    "mcl = np.dot(RlG, (mc - LG))\n",
    "ajcl = np.dot(RlG, (ajc - LG))\n",
    "kjcl = np.dot(RlG, (kjc - LG))\n",
    "print('Coordinates of mm in the anatomical system:\\n', mml)\n",
    "print('Coordinates of lm in the anatomical system:\\n', lml)\n",
    "print('Coordinates of fh in the anatomical system:\\n', fhl)\n",
    "print('Coordinates of mc in the anatomical system:\\n', mcl)\n",
    "print('Coordinates of kjc in the anatomical system:\\n', kjcl)\n",
    "print('Coordinates of ajc in the anatomical system (origin):\\n', ajcl)"
   ]
  },
  {
   "cell_type": "markdown",
   "metadata": {
    "slideshow": {
     "slide_type": "slide"
    }
   },
   "source": [
    "## Further reading\n",
    "\n",
    "- Read pages 1136-1164 of the 21th chapter of the [Ruina and Rudra's book] (http://ruina.tam.cornell.edu/Book/index.html) about elementary introduction to 3D rigid-body dynamics."
   ]
  },
  {
   "cell_type": "markdown",
   "metadata": {
    "slideshow": {
     "slide_type": "slide"
    }
   },
   "source": [
    "## Video lectures on the Internet\n",
    "\n",
    "- Khan Academy: [Rotação em R3 ao redor do eixo x](https://pt.khanacademy.org/math/linear-algebra/matrix-transformations/lin-trans-examples/v/rotation-in-r3-around-the-x-axis)\n",
    "- [Sec. 10.9 - Euler Angles](https://www.youtube.com/watch?v=PLWfDgX9E6s)\n",
    "- [Tema 05 - Rotação | Aula 03 - Rotação em torno de um eixo](https://www.youtube.com/watch?v=oKQyBzDVwSU)"
   ]
  },
  {
   "cell_type": "markdown",
   "metadata": {
    "slideshow": {
     "slide_type": "slide"
    }
   },
   "source": [
    "## Problems\n",
    "\n",
    "1. For the example about how the order of rotations of a rigid body affects the orientation shown in a figure above, deduce the rotation matrices for each of the 4 cases shown in the figure. For the first two cases, deduce the rotation matrices from the global to the local coordinate system and for the other two examples, deduce the rotation matrices from the local to the global coordinate system.  \n",
    "\n",
    "2. Consider the data from problem 7 in the notebook [Frame of reference](http://nbviewer.ipython.org/github/BMClab/bmc/blob/master/notebooks/ReferenceFrame.ipynb) where the following anatomical landmark positions are given (units in meters): RASIS=[0.5,0.8,0.4], LASIS=[0.55,0.78,0.1], RPSIS=[0.3,0.85,0.2], and LPSIS=[0.29,0.78,0.3]. Deduce the rotation matrices for the global to anatomical coordinate system and for the anatomical to global coordinate system. \n",
    "\n",
    "3. For the data from the last example, calculate the Cardan angles using the $zxy$ sequence for the orientation of the leg with respect to the laboratory (but remember that the letters chosen to refer to axes are arbitrary, what matters is the directions they represent)."
   ]
  },
  {
   "cell_type": "markdown",
   "metadata": {},
   "source": [
    "## References\n",
    "\n",
    "- Corke P (2011) [Robotics, Vision and Control: Fundamental Algorithms in MATLAB](http://www.petercorke.com/RVC/). Springer-Verlag Berlin.  \n",
    "- Robertson G, Caldwell G, Hamill J, Kamen G (2013) [Research Methods in Biomechanics](http://books.google.com.br/books?id=gRn8AAAAQBAJ). 2nd Edition. Human Kinetics.  \n",
    "- [Maths - Euler Angles](http://www.euclideanspace.com/maths/geometry/rotations/euler/).  \n",
    "- Murray RM, Li Z, Sastry SS (1994) [A Mathematical Introduction to Robotic Manipulation](http://www.cds.caltech.edu/~murray/mlswiki/index.php/Main_Page). Boca Raton, CRC Press.  \n",
    "- Ruina A, Rudra P (2013) [Introduction to Statics and Dynamics](http://ruina.tam.cornell.edu/Book/index.html). Oxford University Press.  \n",
    "- Siciliano B, Sciavicco L, Villani L, Oriolo G (2009) [Robotics - Modelling, Planning and Control](http://books.google.com.br/books/about/Robotics.html?hl=pt-BR&id=jPCAFmE-logC). Springer-Verlag London.\n",
    "- Winter DA (2009) [Biomechanics and motor control of human movement](http://books.google.com.br/books?id=_bFHL08IWfwC). 4 ed. Hoboken, USA: Wiley.   \n",
    "- Zatsiorsky VM (1997) [Kinematics of Human Motion](http://books.google.com.br/books/about/Kinematics_of_Human_Motion.html?id=Pql_xXdbrMcC&redir_esc=y). Champaign, Human Kinetics."
   ]
  }
 ],
 "metadata": {
  "anaconda-cloud": {},
  "hide_input": false,
  "kernelspec": {
   "display_name": "Python 3",
   "language": "python",
   "name": "python3"
  },
  "language_info": {
   "codemirror_mode": {
    "name": "ipython",
    "version": 3
   },
   "file_extension": ".py",
   "mimetype": "text/x-python",
   "name": "python",
   "nbconvert_exporter": "python",
   "pygments_lexer": "ipython3",
   "version": "3.8.6"
  },
  "latex_envs": {
   "LaTeX_envs_menu_present": true,
   "autoclose": false,
   "autocomplete": true,
   "bibliofile": "biblio.bib",
   "cite_by": "apalike",
   "current_citInitial": 1,
   "eqLabelWithNumbers": true,
   "eqNumInitial": 1,
   "hotkeys": {
    "equation": "Ctrl-E",
    "itemize": "Ctrl-I"
   },
   "labels_anchors": false,
   "latex_user_defs": false,
   "report_style_numbering": false,
   "user_envs_cfg": false
  },
  "nbTranslate": {
   "displayLangs": [
    "*"
   ],
   "hotkey": "alt-t",
   "langInMainMenu": true,
   "sourceLang": "en",
   "targetLang": "fr",
   "useGoogleTranslate": true
  },
  "toc": {
   "base_numbering": 1,
   "nav_menu": {},
   "number_sections": true,
   "sideBar": true,
   "skip_h1_title": false,
   "title_cell": "Table of Contents",
   "title_sidebar": "Contents",
   "toc_cell": false,
   "toc_position": {},
   "toc_section_display": "block",
   "toc_window_display": false
  },
  "varInspector": {
   "cols": {
    "lenName": 16,
    "lenType": 16,
    "lenVar": 40
   },
   "kernels_config": {
    "python": {
     "delete_cmd_postfix": "",
     "delete_cmd_prefix": "del ",
     "library": "var_list.py",
     "varRefreshCmd": "print(var_dic_list())"
    },
    "r": {
     "delete_cmd_postfix": ") ",
     "delete_cmd_prefix": "rm(",
     "library": "var_list.r",
     "varRefreshCmd": "cat(var_dic_list()) "
    }
   },
   "types_to_exclude": [
    "module",
    "function",
    "builtin_function_or_method",
    "instance",
    "_Feature"
   ],
   "window_display": false
  }
 },
 "nbformat": 4,
 "nbformat_minor": 1
}
